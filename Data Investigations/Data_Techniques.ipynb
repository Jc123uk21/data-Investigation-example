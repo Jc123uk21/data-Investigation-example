{
 "cells": [
  {
   "cell_type": "markdown",
   "metadata": {},
   "source": [
    "<h1 style =\"font-size: 3rem;color: Gray;\"> Educational Attainment differences between boys and girls in uk regions</h1>"
   ]
  },
  {
   "cell_type": "markdown",
   "metadata": {},
   "source": [
    "# Import libraries and tools"
   ]
  },
  {
   "cell_type": "code",
   "execution_count": 52,
   "metadata": {},
   "outputs": [],
   "source": [
    "import pandas as pd\n",
    "import numpy as np\n",
    "import matplotlib.pyplot as plt\n",
    "import scipy.stats\n",
    "from sklearn.cluster import KMeans\n",
    "from sklearn import cluster\n",
    "from sklearn.metrics import silhouette_samples\n",
    "from sklearn.neighbors import KNeighborsClassifier\n",
    "import chardet\n",
    "import seaborn as sns"
   ]
  },
  {
   "cell_type": "markdown",
   "metadata": {},
   "source": [
    "Set a larger plot"
   ]
  },
  {
   "cell_type": "code",
   "execution_count": 53,
   "metadata": {},
   "outputs": [],
   "source": [
    "sns.set(rc={'figure.figsize':(9,9)})"
   ]
  },
  {
   "cell_type": "markdown",
   "metadata": {},
   "source": [
    "# Investigate a data file"
   ]
  },
  {
   "cell_type": "markdown",
   "metadata": {},
   "source": [
    "Identify datasets in the folder"
   ]
  },
  {
   "cell_type": "code",
   "execution_count": 54,
   "metadata": {},
   "outputs": [
    {
     "name": "stdout",
     "output_type": "stream",
     "text": [
      "SFR01_2016_UD_LA_1.csv\t      SFR01_2016_UD_national_2.csv\r\n",
      "SFR01_2016_UD_LA_2.csv\t      SFR01_2016_UD_parliamentary_constituency.csv\r\n",
      "SFR01_2016_UD_metadata.txt    SFR01_2016_UD_residency.csv\r\n",
      "SFR01_2016_UD_national_1.csv  SFR01_2016_UD_school_location.csv\r\n"
     ]
    }
   ],
   "source": [
    "! ls 'data/key-stage-4/SFR01_2016_Characteristics_Underlying_Data'"
   ]
  },
  {
   "cell_type": "markdown",
   "metadata": {},
   "source": [
    "Check file encoding"
   ]
  },
  {
   "cell_type": "code",
   "execution_count": 55,
   "metadata": {},
   "outputs": [
    {
     "data": {
      "text/plain": [
       "{'encoding': 'ascii', 'confidence': 1.0, 'language': ''}"
      ]
     },
     "execution_count": 55,
     "metadata": {},
     "output_type": "execute_result"
    }
   ],
   "source": [
    "chardet.detect(open('data/key-stage-4/SFR01_2016_Characteristics_Underlying_Data/SFR01_2016_UD_LA_1.csv', 'rb').read())"
   ]
  },
  {
   "cell_type": "code",
   "execution_count": 56,
   "metadata": {},
   "outputs": [
    {
     "name": "stdout",
     "output_type": "stream",
     "text": [
      "E92000001,921,England,E12000009,K,South West,E06000029,836,Poole,1531,752,779,1095,506,589,966,431,535,1473,721,752,1427,694,733,996,446,550,595,278,317,433,188,245,1430,704,726,1017,470,547,903,405,498,1376,674,702,1331,648,683,931,420,511,554,257,297,403,174,229,44,20,24,36,x,x,32,14,18,x,20,x,x,x,x,33,14,19,24,11,13,17,7,10,28,14,14,22,x,x,17,7,10,x,14,x,x,14,x,17,7,10,11,7,4,9,5,4,6,3,3,3,x,x,x,x,x,x,x,x,x,x,x,x,x,x,x,x,x,x,x,x,3,x,x,x,x,x,x,x,x,x,x,x,x,x,x,x,x,x,x,x,x,x,x,x,1476,722,754,1057,490,567,937,421,516,x,x,727,x,x,x,966,436,530,571,268,303,420,183,237,54,30,24,37,16,21,28,10,18,x,x,24,50,x,x,29,10,19,23,10,13,12,5,7\r",
      "\r\n",
      "E92000001,921,England,E12000009,K,South West,E06000028,837,Bournemouth,1660,827,833,1131,495,636,1001,449,552,1552,748,804,1520,731,789,1033,471,562,636,290,346,402,176,226,1474,736,738,984,430,554,874,392,482,1377,665,712,1346,648,698,906,414,492,536,239,297,328,139,189,86,42,44,65,29,36,59,28,31,81,x,x,81,x,x,59,28,31,45,24,21,29,18,11,42,20,22,39,x,x,34,15,19,42,20,22,x,20,x,34,15,19,28,13,15,23,9,14,18,6,12,14,x,x,12,x,x,x,x,x,x,x,x,12,x,x,5,x,x,5,x,x,10,5,5,x,x,x,7,x,x,x,x,x,x,x,x,7,x,x,7,x,x,7,x,x,1503,750,753,1024,448,576,916,412,504,1400,674,726,1377,663,714,948,434,514,558,249,309,357,153,204,155,76,79,106,46,60,84,36,48,150,x,x,141,67,74,84,36,48,78,41,37,45,23,22\r",
      "\r\n",
      "E92000001,921,England,E12000009,K,South West,E06000054,865,Wiltshire,5121,2608,2513,3571,1643,1928,3096,1398,1698,4842,2406,2436,4758,2362,2396,3185,1453,1732,1910,801,1109,1271,485,786,4837,2471,2366,3369,1562,1807,2920,1327,1593,4573,2283,2290,4494,2241,2253,3003,1380,1623,1796,759,1037,1200,462,738,119,59,60,81,34,47,71,31,40,110,x,x,108,51,57,74,32,42,37,15,22,26,11,15,43,22,21,36,x,x,33,x,x,x,x,21,x,x,21,34,x,x,23,9,14,14,4,10,27,15,12,13,6,7,9,3,6,x,x,12,x,x,12,10,3,7,10,4,6,5,x,x,12,6,6,x,x,6,9,x,x,12,6,6,x,x,x,9,x,x,7,x,x,6,3,3,4945,2511,2434,3455,1585,1870,3005,1355,1650,4672,2313,2359,4593,2271,2322,3092,1409,1683,1846,769,1077,1231,469,762,170,95,75,111,56,55,86,41,45,164,x,x,159,89,70,88,42,46,59,30,29,38,15,23\r",
      "\r\n",
      "E92000001,921,England,E12000009,K,South West,E06000030,866,Swindon,2154,1062,1092,1336,581,755,1141,500,641,2052,1001,1051,1997,972,1025,1194,531,663,787,327,460,438,148,290,1829,905,924,1124,493,631,976,430,546,1736,853,883,1686,826,860,1019,457,562,660,278,382,371,127,244,69,31,38,43,17,26,35,15,20,x,x,38,64,x,x,37,16,21,29,11,18,13,5,8,182,86,96,124,50,74,89,37,52,178,82,96,177,81,96,94,39,55,68,24,44,37,11,26,36,23,13,22,13,9,19,11,8,x,x,13,x,x,13,21,12,9,13,6,7,7,x,x,6,3,3,3,x,x,3,x,x,6,x,x,6,x,x,3,x,x,3,x,x,x,x,x,1875,921,954,1156,505,651,1004,440,564,1782,868,914,1730,842,888,1050,468,582,678,282,396,377,128,249,275,138,137,178,75,103,135,59,76,267,x,x,265,x,x,142,62,80,108,45,63,60,20,40\r",
      "\r\n",
      "E92000001,921,England,E12000009,K,South West,E10000008,878,Devon,7260,3689,3571,4822,2280,2542,4220,1985,2235,6911,3484,3427,6722,3381,3341,4399,2106,2293,3096,1425,1671,1712,704,1008,6981,3543,3438,4621,2184,2437,4046,1898,2148,6648,3348,3300,6461,3246,3215,4222,2018,2204,2957,1353,1604,1626,662,964,122,69,53,92,47,45,83,43,40,114,x,x,114,x,x,84,43,41,67,34,33,46,23,23,24,9,15,18,x,x,16,x,x,x,9,x,x,9,x,16,x,x,13,6,7,8,x,x,7,x,x,x,x,x,x,x,x,7,x,x,7,x,x,x,x,x,4,x,x,3,x,x,20,11,9,14,x,x,8,3,5,20,11,9,20,11,9,9,4,5,10,5,5,6,3,3,7071,3589,3482,4702,2224,2478,4125,1943,2182,6733,3392,3341,6550,3293,3257,4301,2063,2238,3009,1379,1630,1668,686,982,186,97,89,118,54,64,94,41,53,175,89,86,169,85,84,97,42,55,86,45,41,44,18,26\r",
      "\r\n",
      "E92000001,921,England,E12000009,K,South West,E06000026,879,Plymouth,2734,1370,1364,1657,731,926,1416,623,793,2561,1245,1316,2493,1209,1284,1482,660,822,1052,427,625,572,166,406,2598,1308,1290,1563,692,871,1333,588,745,2427,1185,1242,2364,1151,1213,1398,625,773,985,402,583,533,157,376,40,20,20,28,x,x,24,13,11,x,x,20,x,x,x,25,13,12,14,7,7,8,x,x,24,13,11,18,x,x,17,x,x,24,13,11,x,13,x,17,x,x,11,3,8,7,x,x,17,6,11,8,3,5,5,x,x,17,6,11,17,6,11,5,x,x,6,x,x,3,x,x,11,8,3,x,x,x,8,x,x,11,x,x,11,x,x,8,x,x,7,x,x,6,x,x,2616,1311,1305,1593,705,888,1362,x,x,2446,x,x,2385,1155,1230,1427,637,790,997,408,589,545,161,384,117,59,58,63,26,37,53,x,x,114,x,x,107,54,53,54,23,31,54,19,35,27,5,22\r",
      "\r\n",
      "E92000001,921,England,E12000009,K,South West,E06000027,880,Torbay,1528,798,730,976,x,x,876,x,x,1395,718,677,1362,701,661,948,x,x,x,x,x,x,x,x,1439,754,685,907,x,x,815,x,x,1311,677,634,1278,660,618,884,x,x,x,x,x,x,x,x,41,23,18,28,15,13,25,13,12,37,x,x,37,x,x,28,16,12,11,7,4,5,x,x,14,3,11,x,x,11,x,x,x,14,x,x,14,x,x,x,x,x,10,x,x,8,x,x,x,x,x,x,x,x,x,x,x,x,x,x,x,x,x,x,x,x,x,x,x,x,x,x,11,6,5,11,x,x,11,x,x,11,x,x,11,x,x,11,x,x,6,x,x,5,x,x,1467,766,701,930,x,x,836,x,x,1336,687,649,1303,670,633,905,x,x,x,x,x,x,x,x,56,28,28,42,20,22,36,x,x,x,x,x,x,x,x,39,20,19,21,10,11,17,9,8\r",
      "\r\n",
      "E92000001,921,England,E12000009,K,South West,E06000052,908,Cornwall,5555,2875,2680,3622,1690,1932,3157,1478,1679,5320,2736,2584,5173,2663,2510,3324,1603,1721,2027,831,1196,1133,381,752,5344,2772,2572,3479,1625,1854,3030,1417,1613,5117,2637,2480,4975,2565,2410,3192,1540,1652,1953,808,1145,1084,368,716,98,49,49,70,31,39,63,28,35,95,x,x,93,x,x,65,29,36,40,14,26,29,8,21,20,6,14,x,x,x,x,x,x,x,6,x,x,6,x,x,x,x,7,x,x,5,x,x,x,x,x,x,x,x,x,x,x,x,x,x,x,x,x,x,x,x,x,x,x,x,x,x,7,4,3,x,x,x,x,x,x,7,x,x,7,x,x,x,x,x,4,x,x,4,x,x,5458,2823,2635,3566,1663,1903,3113,1454,1659,5225,2685,2540,5081,2613,2468,3275,1575,1700,1990,813,1177,1108,370,738,95,51,44,56,27,29,44,24,20,x,x,44,91,x,x,49,28,21,37,18,19,25,11,14\r",
      "\r\n",
      "E92000001,921,England,E12000009,K,South West,E10000013,916,Gloucestershire,6586,3339,3247,4631,2172,2459,4013,1924,2089,6250,3126,3124,6066,3037,3029,4130,2007,2123,2356,1094,1262,1764,790,974,6057,3065,2992,4252,1994,2258,3689,1771,1918,5750,2876,2874,5579,2794,2785,3796,1846,1950,2152,998,1154,1602,717,885,254,124,130,173,78,95,147,65,82,241,x,x,235,111,124,153,69,84,88,36,52,68,24,44,132,74,58,107,55,52,98,54,44,x,x,58,128,x,x,99,55,44,69,35,34,58,31,27,58,28,30,37,14,23,24,8,16,53,x,x,50,x,x,26,10,16,13,6,7,10,4,6,12,6,6,x,x,6,x,x,6,x,x,6,x,x,6,x,x,6,6,3,3,4,x,x,6329,3205,3124,4455,2090,2365,3873,1853,2020,6012,3003,3009,5840,2919,2921,3985,1931,2054,2258,1037,1221,1692,748,944,257,134,123,176,82,94,140,71,69,238,123,115,226,118,108,145,76,69,98,57,41,72,42,30\r",
      "\r\n",
      "E92000001,921,England,E12000009,K,South West,E10000027,933,Somerset,5257,2689,2568,3574,1664,1910,3080,1426,1654,5029,2542,2487,4873,2450,2423,3185,1484,1701,1854,834,1020,1099,421,678,5071,2594,2477,3441,1598,1843,2969,1369,1600,4853,2452,2401,4703,2361,2342,3071,1425,1646,1794,809,985,1059,405,654,79,48,31,57,34,23,49,31,18,76,x,x,72,45,27,50,31,19,28,16,12,20,12,8,54,23,31,36,14,22,29,10,19,50,x,x,50,x,x,30,11,19,16,5,11,10,x,x,11,4,7,8,x,x,7,x,x,11,x,x,11,x,x,7,x,x,6,x,x,3,x,x,11,5,6,11,x,x,11,x,x,11,x,x,11,x,x,11,x,x,6,x,x,6,x,x,5068,2597,2471,3462,1614,1848,2992,1387,1605,4846,2453,2393,4697,2365,2332,3093,1442,1651,1791,807,984,1065,410,655,189,92,97,112,50,62,88,39,49,183,89,94,176,85,91,92,42,50,63,27,36,34,11,23\r",
      "\r\n"
     ]
    }
   ],
   "source": [
    "! tail 'data/key-stage-4/SFR01_2016_Characteristics_Underlying_Data/SFR01_2016_UD_LA_1.csv'"
   ]
  },
  {
   "cell_type": "markdown",
   "metadata": {},
   "source": [
    "Investigate a dataset's columns"
   ]
  },
  {
   "cell_type": "code",
   "execution_count": 57,
   "metadata": {},
   "outputs": [
    {
     "data": {
      "text/plain": [
       "['Country_code_9_digit',\n",
       " 'Country_code',\n",
       " 'Country_name',\n",
       " 'Region_code_9_digit',\n",
       " 'Region_code',\n",
       " 'Region_name',\n",
       " 'LA_code_9_digit',\n",
       " 'LA_code',\n",
       " 'LA_name',\n",
       " 'Laden_all_15',\n",
       " 'Laden_boys_15',\n",
       " 'Laden_girls_15',\n",
       " 'KS4_LEVEL2_all_15',\n",
       " 'KS4_LEVEL2_boys_15',\n",
       " 'KS4_LEVEL2_girls_15',\n",
       " 'KS4_LEVEL2_EM_all_15',\n",
       " 'KS4_LEVEL2_EM_boys_15',\n",
       " 'KS4_LEVEL2_EM_girls_15',\n",
       " 'KS4_LEVEL1_all_15',\n",
       " 'KS4_LEVEL1_boys_15',\n",
       " 'KS4_LEVEL1_girls_15',\n",
       " 'KS4_LEVEL1_EM_all_15',\n",
       " 'KS4_LEVEL1_EM_boys_15',\n",
       " 'KS4_LEVEL1_EM_girls_15',\n",
       " 'KS4_L2BASICS_all_15',\n",
       " 'KS4_L2BASICS_boys_15',\n",
       " 'KS4_L2BASICS_girls_15',\n",
       " 'KS4_EBACC_E_all_15',\n",
       " 'KS4_EBACC_E_boys_15',\n",
       " 'KS4_EBACC_E_girls_15',\n",
       " 'KS4_EBACC_all_15',\n",
       " 'KS4_EBACC_boys_15',\n",
       " 'KS4_EBACC_girls_15',\n",
       " 'Laden_all_white_15',\n",
       " 'Laden_boys_white_15',\n",
       " 'Laden_girls_white_15',\n",
       " 'KS4_LEVEL2_all_white_15',\n",
       " 'KS4_LEVEL2_boys_white_15',\n",
       " 'KS4_LEVEL2_girls_white_15',\n",
       " 'KS4_LEVEL2_EM_all_white_15',\n",
       " 'KS4_LEVEL2_EM_boys_white_15',\n",
       " 'KS4_LEVEL2_EM_girls_white_15',\n",
       " 'KS4_LEVEL1_all_white_15',\n",
       " 'KS4_LEVEL1_boys_white_15',\n",
       " 'KS4_LEVEL1_girls_white_15',\n",
       " 'KS4_LEVEL1_EM_all_white_15',\n",
       " 'KS4_LEVEL1_EM_boys_white_15',\n",
       " 'KS4_LEVEL1_EM_girls_white_15',\n",
       " 'KS4_L2BASICS_all_white_15',\n",
       " 'KS4_L2BASICS_boys_white_15',\n",
       " 'KS4_L2BASICS_girls_white_15',\n",
       " 'KS4_EBACC_E_all_white_15',\n",
       " 'KS4_EBACC_E_boys_white_15',\n",
       " 'KS4_EBACC_E_girls_white_15',\n",
       " 'KS4_EBACC_all_white_15',\n",
       " 'KS4_EBACC_boys_white_15',\n",
       " 'KS4_EBACC_girls_white_15',\n",
       " 'Laden_all_mixed_15',\n",
       " 'Laden_boys_mixed_15',\n",
       " 'Laden_girls_mixed_15',\n",
       " 'KS4_LEVEL2_all_mixed_15',\n",
       " 'KS4_LEVEL2_boys_mixed_15',\n",
       " 'KS4_LEVEL2_girls_mixed_15',\n",
       " 'KS4_LEVEL2_EM_all_mixed_15',\n",
       " 'KS4_LEVEL2_EM_boys_mixed_15',\n",
       " 'KS4_LEVEL2_EM_girls_mixed_15',\n",
       " 'KS4_LEVEL1_all_mixed_15',\n",
       " 'KS4_LEVEL1_boys_mixed_15',\n",
       " 'KS4_LEVEL1_girls_mixed_15',\n",
       " 'KS4_LEVEL1_EM_all_mixed_15',\n",
       " 'KS4_LEVEL1_EM_boys_mixed_15',\n",
       " 'KS4_LEVEL1_EM_girls_mixed_15',\n",
       " 'KS4_L2BASICS_all_mixed_15',\n",
       " 'KS4_L2BASICS_boys_mixed_15',\n",
       " 'KS4_L2BASICS_girls_mixed_15',\n",
       " 'KS4_EBACC_E_all_mixed_15',\n",
       " 'KS4_EBACC_E_boys_mixed_15',\n",
       " 'KS4_EBACC_E_girls_mixed_15',\n",
       " 'KS4_EBACC_all_mixed_15',\n",
       " 'KS4_EBACC_boys_mixed_15',\n",
       " 'KS4_EBACC_girls_mixed_15',\n",
       " 'Laden_all_asian_15',\n",
       " 'Laden_boys_asian_15',\n",
       " 'Laden_girls_asian_15',\n",
       " 'KS4_LEVEL2_all_asian_15',\n",
       " 'KS4_LEVEL2_boys_asian_15',\n",
       " 'KS4_LEVEL2_girls_asian_15',\n",
       " 'KS4_LEVEL2_EM_all_asian_15',\n",
       " 'KS4_LEVEL2_EM_boys_asian_15',\n",
       " 'KS4_LEVEL2_EM_girls_asian_15',\n",
       " 'KS4_LEVEL1_all_asian_15',\n",
       " 'KS4_LEVEL1_boys_asian_15',\n",
       " 'KS4_LEVEL1_girls_asian_15',\n",
       " 'KS4_LEVEL1_EM_all_asian_15',\n",
       " 'KS4_LEVEL1_EM_boys_asian_15',\n",
       " 'KS4_LEVEL1_EM_girls_asian_15',\n",
       " 'KS4_L2BASICS_all_asian_15',\n",
       " 'KS4_L2BASICS_boys_asian_15',\n",
       " 'KS4_L2BASICS_girls_asian_15',\n",
       " 'KS4_EBACC_E_all_asian_15',\n",
       " 'KS4_EBACC_E_boys_asian_15',\n",
       " 'KS4_EBACC_E_girls_asian_15',\n",
       " 'KS4_EBACC_all_asian_15',\n",
       " 'KS4_EBACC_boys_asian_15',\n",
       " 'KS4_EBACC_girls_asian_15',\n",
       " 'Laden_all_black_15',\n",
       " 'Laden_boys_black_15',\n",
       " 'Laden_girls_black_15',\n",
       " 'KS4_LEVEL2_all_black_15',\n",
       " 'KS4_LEVEL2_boys_black_15',\n",
       " 'KS4_LEVEL2_girls_black_15',\n",
       " 'KS4_LEVEL2_EM_all_black_15',\n",
       " 'KS4_LEVEL2_EM_boys_black_15',\n",
       " 'KS4_LEVEL2_EM_girls_black_15',\n",
       " 'KS4_LEVEL1_all_black_15',\n",
       " 'KS4_LEVEL1_boys_black_15',\n",
       " 'KS4_LEVEL1_girls_black_15',\n",
       " 'KS4_LEVEL1_EM_all_black_15',\n",
       " 'KS4_LEVEL1_EM_boys_black_15',\n",
       " 'KS4_LEVEL1_EM_girls_black_15',\n",
       " 'KS4_L2BASICS_all_black_15',\n",
       " 'KS4_L2BASICS_boys_black_15',\n",
       " 'KS4_L2BASICS_girls_black_15',\n",
       " 'KS4_EBACC_E_all_black_15',\n",
       " 'KS4_EBACC_E_boys_black_15',\n",
       " 'KS4_EBACC_E_girls_black_15',\n",
       " 'KS4_EBACC_all_black_15',\n",
       " 'KS4_EBACC_boys_black_15',\n",
       " 'KS4_EBACC_girls_black_15',\n",
       " 'Laden_all_chinese_15',\n",
       " 'Laden_boys_chinese_15',\n",
       " 'Laden_girls_chinese_15',\n",
       " 'KS4_LEVEL2_all_chinese_15',\n",
       " 'KS4_LEVEL2_boys_chinese_15',\n",
       " 'KS4_LEVEL2_girls_chinese_15',\n",
       " 'KS4_LEVEL2_EM_all_chinese_15',\n",
       " 'KS4_LEVEL2_EM_boys_chinese_15',\n",
       " 'KS4_LEVEL2_EM_girls_chinese_15',\n",
       " 'KS4_LEVEL1_all_chinese_15',\n",
       " 'KS4_LEVEL1_boys_chinese_15',\n",
       " 'KS4_LEVEL1_girls_chinese_15',\n",
       " 'KS4_LEVEL1_EM_all_chinese_15',\n",
       " 'KS4_LEVEL1_EM_boys_chinese_15',\n",
       " 'KS4_LEVEL1_EM_girls_chinese_15',\n",
       " 'KS4_L2BASICS_all_chinese_15',\n",
       " 'KS4_L2BASICS_boys_chinese_15',\n",
       " 'KS4_L2BASICS_girls_chinese_15',\n",
       " 'KS4_EBACC_E_all_chinese_15',\n",
       " 'KS4_EBACC_E_boys_chinese_15',\n",
       " 'KS4_EBACC_E_girls_chinese_15',\n",
       " 'KS4_EBACC_all_chinese_15',\n",
       " 'KS4_EBACC_boys_chinese_15',\n",
       " 'KS4_EBACC_girls_chinese_15',\n",
       " 'Laden_all_English_15',\n",
       " 'Laden_boys_English_15',\n",
       " 'Laden_girls_English_15',\n",
       " 'KS4_LEVEL2_all_English_15',\n",
       " 'KS4_LEVEL2_boys_English_15',\n",
       " 'KS4_LEVEL2_girls_English_15',\n",
       " 'KS4_LEVEL2_EM_all_English_15',\n",
       " 'KS4_LEVEL2_EM_boys_English_15',\n",
       " 'KS4_LEVEL2_EM_girls_English_15',\n",
       " 'KS4_LEVEL1_all_English_15',\n",
       " 'KS4_LEVEL1_boys_English_15',\n",
       " 'KS4_LEVEL1_girls_English_15',\n",
       " 'KS4_LEVEL1_EM_all_English_15',\n",
       " 'KS4_LEVEL1_EM_boys_English_15',\n",
       " 'KS4_LEVEL1_EM_girls_English_15',\n",
       " 'KS4_L2BASICS_all_English_15',\n",
       " 'KS4_L2BASICS_boys_English_15',\n",
       " 'KS4_L2BASICS_girls_English_15',\n",
       " 'KS4_EBACC_E_all_English_15',\n",
       " 'KS4_EBACC_E_boys_English_15',\n",
       " 'KS4_EBACC_E_girls_English_15',\n",
       " 'KS4_EBACC_all_English_15',\n",
       " 'KS4_EBACC_boys_English_15',\n",
       " 'KS4_EBACC_girls_English_15',\n",
       " 'Laden_all_otherthanEnglish_15',\n",
       " 'Laden_boys_otherthanEnglish_15',\n",
       " 'Laden_girls_otherthanEnglish_15',\n",
       " 'KS4_LEVEL2_all_otherthanEnglish_15',\n",
       " 'KS4_LEVEL2_boys_otherthanEnglish_15',\n",
       " 'KS4_LEVEL2_girls_otherthanEnglish_15',\n",
       " 'KS4_LEVEL2_EM_all_otherthanEnglish_15',\n",
       " 'KS4_LEVEL2_EM_boys_otherthanEnglish_15',\n",
       " 'KS4_LEVEL2_EM_girls_otherthanEnglish_15',\n",
       " 'KS4_LEVEL1_all_otherthanEnglish_15',\n",
       " 'KS4_LEVEL1_boys_otherthanEnglish_15',\n",
       " 'KS4_LEVEL1_girls_otherthanEnglish_15',\n",
       " 'KS4_LEVEL1_EM_all_otherthanEnglish_15',\n",
       " 'KS4_LEVEL1_EM_boys_otherthanEnglish_15',\n",
       " 'KS4_LEVEL1_EM_girls_otherthanEnglish_15',\n",
       " 'KS4_L2BASICS_all_otherthanEnglish_15',\n",
       " 'KS4_L2BASICS_boys_otherthanEnglish_15',\n",
       " 'KS4_L2BASICS_girls_otherthanEnglish_15',\n",
       " 'KS4_EBACC_E_all_otherthanEnglish_15',\n",
       " 'KS4_EBACC_E_boys_otherthanEnglish_15',\n",
       " 'KS4_EBACC_E_girls_otherthanEnglish_15',\n",
       " 'KS4_EBACC_all_otherthanEnglish_15',\n",
       " 'KS4_EBACC_boys_otherthanEnglish_15',\n",
       " 'KS4_EBACC_girls_otherthanEnglish_15']"
      ]
     },
     "execution_count": 57,
     "metadata": {},
     "output_type": "execute_result"
    }
   ],
   "source": [
    "list(pd.read_csv('data/key-stage-4/SFR01_2016_Characteristics_Underlying_Data/SFR01_2016_UD_LA_1.csv').columns)"
   ]
  },
  {
   "cell_type": "markdown",
   "metadata": {},
   "source": [
    "identify the unique values in a relevant column of the dataset"
   ]
  },
  {
   "cell_type": "code",
   "execution_count": 58,
   "metadata": {},
   "outputs": [
    {
     "data": {
      "text/plain": [
       "array([nan, 'North East', 'North West', 'Yorkshire and the Humber',\n",
       "       'East Midlands', 'West Midlands', 'East', 'London', 'Inner London',\n",
       "       'Outer London', 'South East', 'South West'], dtype=object)"
      ]
     },
     "execution_count": 58,
     "metadata": {},
     "output_type": "execute_result"
    }
   ],
   "source": [
    "pd.unique(pd.read_csv('data/key-stage-4/SFR01_2016_Characteristics_Underlying_Data/SFR01_2016_UD_LA_1.csv')['Region_name']).copy()"
   ]
  },
  {
   "cell_type": "markdown",
   "metadata": {},
   "source": [
    "Investigate the key statistical values of the dataset"
   ]
  },
  {
   "cell_type": "code",
   "execution_count": 59,
   "metadata": {},
   "outputs": [
    {
     "data": {
      "text/html": [
       "<div>\n",
       "<style scoped>\n",
       "    .dataframe tbody tr th:only-of-type {\n",
       "        vertical-align: middle;\n",
       "    }\n",
       "\n",
       "    .dataframe tbody tr th {\n",
       "        vertical-align: top;\n",
       "    }\n",
       "\n",
       "    .dataframe thead th {\n",
       "        text-align: right;\n",
       "    }\n",
       "</style>\n",
       "<table border=\"1\" class=\"dataframe\">\n",
       "  <thead>\n",
       "    <tr style=\"text-align: right;\">\n",
       "      <th></th>\n",
       "      <th>Country_code</th>\n",
       "      <th>LA_code</th>\n",
       "      <th>Laden_all_15</th>\n",
       "      <th>Laden_boys_15</th>\n",
       "      <th>Laden_girls_15</th>\n",
       "      <th>KS4_LEVEL2_all_15</th>\n",
       "      <th>KS4_LEVEL2_EM_all_15</th>\n",
       "      <th>KS4_LEVEL1_all_15</th>\n",
       "      <th>KS4_LEVEL1_boys_15</th>\n",
       "      <th>KS4_LEVEL1_girls_15</th>\n",
       "      <th>...</th>\n",
       "      <th>KS4_LEVEL2_EM_all_white_15</th>\n",
       "      <th>KS4_LEVEL1_all_white_15</th>\n",
       "      <th>KS4_LEVEL1_EM_all_white_15</th>\n",
       "      <th>KS4_L2BASICS_all_white_15</th>\n",
       "      <th>Laden_all_mixed_15</th>\n",
       "      <th>KS4_EBACC_E_all_mixed_15</th>\n",
       "      <th>Laden_all_English_15</th>\n",
       "      <th>Laden_all_otherthanEnglish_15</th>\n",
       "      <th>Laden_boys_otherthanEnglish_15</th>\n",
       "      <th>Laden_girls_otherthanEnglish_15</th>\n",
       "    </tr>\n",
       "  </thead>\n",
       "  <tbody>\n",
       "    <tr>\n",
       "      <th>count</th>\n",
       "      <td>164.0</td>\n",
       "      <td>152.000000</td>\n",
       "      <td>164.000000</td>\n",
       "      <td>164.000000</td>\n",
       "      <td>164.000000</td>\n",
       "      <td>164.000000</td>\n",
       "      <td>164.000000</td>\n",
       "      <td>164.000000</td>\n",
       "      <td>164.000000</td>\n",
       "      <td>164.000000</td>\n",
       "      <td>...</td>\n",
       "      <td>164.000000</td>\n",
       "      <td>164.000000</td>\n",
       "      <td>164.000000</td>\n",
       "      <td>164.000000</td>\n",
       "      <td>164.000000</td>\n",
       "      <td>164.000000</td>\n",
       "      <td>164.000000</td>\n",
       "      <td>164.000000</td>\n",
       "      <td>164.000000</td>\n",
       "      <td>164.000000</td>\n",
       "    </tr>\n",
       "    <tr>\n",
       "      <th>mean</th>\n",
       "      <td>921.0</td>\n",
       "      <td>613.578947</td>\n",
       "      <td>10536.475610</td>\n",
       "      <td>5371.701220</td>\n",
       "      <td>5164.774390</td>\n",
       "      <td>7026.213415</td>\n",
       "      <td>6057.036585</td>\n",
       "      <td>9945.408537</td>\n",
       "      <td>4999.347561</td>\n",
       "      <td>4946.060976</td>\n",
       "      <td>...</td>\n",
       "      <td>4678.158537</td>\n",
       "      <td>7713.097561</td>\n",
       "      <td>7506.420732</td>\n",
       "      <td>4864.158537</td>\n",
       "      <td>448.073171</td>\n",
       "      <td>189.073171</td>\n",
       "      <td>8946.695122</td>\n",
       "      <td>1571.951220</td>\n",
       "      <td>800.841463</td>\n",
       "      <td>771.109756</td>\n",
       "    </tr>\n",
       "    <tr>\n",
       "      <th>std</th>\n",
       "      <td>0.0</td>\n",
       "      <td>278.512999</td>\n",
       "      <td>44851.100969</td>\n",
       "      <td>22874.549557</td>\n",
       "      <td>21976.722566</td>\n",
       "      <td>29854.171440</td>\n",
       "      <td>25749.405818</td>\n",
       "      <td>42322.313080</td>\n",
       "      <td>21281.869723</td>\n",
       "      <td>21040.611713</td>\n",
       "      <td>...</td>\n",
       "      <td>20297.192017</td>\n",
       "      <td>33480.585981</td>\n",
       "      <td>32587.932393</td>\n",
       "      <td>21107.585548</td>\n",
       "      <td>1877.155783</td>\n",
       "      <td>793.235864</td>\n",
       "      <td>38567.804853</td>\n",
       "      <td>6623.358409</td>\n",
       "      <td>3374.873823</td>\n",
       "      <td>3248.629338</td>\n",
       "    </tr>\n",
       "    <tr>\n",
       "      <th>min</th>\n",
       "      <td>921.0</td>\n",
       "      <td>201.000000</td>\n",
       "      <td>0.000000</td>\n",
       "      <td>0.000000</td>\n",
       "      <td>0.000000</td>\n",
       "      <td>0.000000</td>\n",
       "      <td>0.000000</td>\n",
       "      <td>0.000000</td>\n",
       "      <td>0.000000</td>\n",
       "      <td>0.000000</td>\n",
       "      <td>...</td>\n",
       "      <td>0.000000</td>\n",
       "      <td>0.000000</td>\n",
       "      <td>0.000000</td>\n",
       "      <td>0.000000</td>\n",
       "      <td>0.000000</td>\n",
       "      <td>0.000000</td>\n",
       "      <td>0.000000</td>\n",
       "      <td>0.000000</td>\n",
       "      <td>0.000000</td>\n",
       "      <td>0.000000</td>\n",
       "    </tr>\n",
       "    <tr>\n",
       "      <th>25%</th>\n",
       "      <td>921.0</td>\n",
       "      <td>334.750000</td>\n",
       "      <td>1962.000000</td>\n",
       "      <td>995.500000</td>\n",
       "      <td>966.750000</td>\n",
       "      <td>1267.750000</td>\n",
       "      <td>1096.250000</td>\n",
       "      <td>1857.750000</td>\n",
       "      <td>922.250000</td>\n",
       "      <td>935.500000</td>\n",
       "      <td>...</td>\n",
       "      <td>719.250000</td>\n",
       "      <td>1287.250000</td>\n",
       "      <td>1262.750000</td>\n",
       "      <td>749.750000</td>\n",
       "      <td>61.250000</td>\n",
       "      <td>24.750000</td>\n",
       "      <td>1473.750000</td>\n",
       "      <td>112.250000</td>\n",
       "      <td>58.500000</td>\n",
       "      <td>57.500000</td>\n",
       "    </tr>\n",
       "    <tr>\n",
       "      <th>50%</th>\n",
       "      <td>921.0</td>\n",
       "      <td>806.500000</td>\n",
       "      <td>2925.500000</td>\n",
       "      <td>1493.500000</td>\n",
       "      <td>1407.500000</td>\n",
       "      <td>1949.500000</td>\n",
       "      <td>1633.000000</td>\n",
       "      <td>2748.000000</td>\n",
       "      <td>1387.500000</td>\n",
       "      <td>1342.000000</td>\n",
       "      <td>...</td>\n",
       "      <td>1153.000000</td>\n",
       "      <td>1961.000000</td>\n",
       "      <td>1904.500000</td>\n",
       "      <td>1195.000000</td>\n",
       "      <td>130.000000</td>\n",
       "      <td>55.500000</td>\n",
       "      <td>2281.500000</td>\n",
       "      <td>335.000000</td>\n",
       "      <td>175.000000</td>\n",
       "      <td>161.500000</td>\n",
       "    </tr>\n",
       "    <tr>\n",
       "      <th>75%</th>\n",
       "      <td>921.0</td>\n",
       "      <td>872.250000</td>\n",
       "      <td>5267.250000</td>\n",
       "      <td>2683.000000</td>\n",
       "      <td>2568.750000</td>\n",
       "      <td>3411.000000</td>\n",
       "      <td>2935.750000</td>\n",
       "      <td>4937.500000</td>\n",
       "      <td>2505.250000</td>\n",
       "      <td>2448.750000</td>\n",
       "      <td>...</td>\n",
       "      <td>2688.750000</td>\n",
       "      <td>4459.250000</td>\n",
       "      <td>4308.000000</td>\n",
       "      <td>2804.000000</td>\n",
       "      <td>224.000000</td>\n",
       "      <td>94.000000</td>\n",
       "      <td>4946.500000</td>\n",
       "      <td>839.500000</td>\n",
       "      <td>426.750000</td>\n",
       "      <td>412.750000</td>\n",
       "    </tr>\n",
       "    <tr>\n",
       "      <th>max</th>\n",
       "      <td>921.0</td>\n",
       "      <td>938.000000</td>\n",
       "      <td>550786.000000</td>\n",
       "      <td>280920.000000</td>\n",
       "      <td>269866.000000</td>\n",
       "      <td>366152.000000</td>\n",
       "      <td>315773.000000</td>\n",
       "      <td>519661.000000</td>\n",
       "      <td>261310.000000</td>\n",
       "      <td>258351.000000</td>\n",
       "      <td>...</td>\n",
       "      <td>249261.000000</td>\n",
       "      <td>411446.000000</td>\n",
       "      <td>400466.000000</td>\n",
       "      <td>259232.000000</td>\n",
       "      <td>22414.000000</td>\n",
       "      <td>9358.000000</td>\n",
       "      <td>474183.000000</td>\n",
       "      <td>75693.000000</td>\n",
       "      <td>38562.000000</td>\n",
       "      <td>37131.000000</td>\n",
       "    </tr>\n",
       "  </tbody>\n",
       "</table>\n",
       "<p>8 rows × 28 columns</p>\n",
       "</div>"
      ],
      "text/plain": [
       "       Country_code     LA_code   Laden_all_15  Laden_boys_15  Laden_girls_15  \\\n",
       "count         164.0  152.000000     164.000000     164.000000      164.000000   \n",
       "mean          921.0  613.578947   10536.475610    5371.701220     5164.774390   \n",
       "std             0.0  278.512999   44851.100969   22874.549557    21976.722566   \n",
       "min           921.0  201.000000       0.000000       0.000000        0.000000   \n",
       "25%           921.0  334.750000    1962.000000     995.500000      966.750000   \n",
       "50%           921.0  806.500000    2925.500000    1493.500000     1407.500000   \n",
       "75%           921.0  872.250000    5267.250000    2683.000000     2568.750000   \n",
       "max           921.0  938.000000  550786.000000  280920.000000   269866.000000   \n",
       "\n",
       "       KS4_LEVEL2_all_15  KS4_LEVEL2_EM_all_15  KS4_LEVEL1_all_15  \\\n",
       "count         164.000000            164.000000         164.000000   \n",
       "mean         7026.213415           6057.036585        9945.408537   \n",
       "std         29854.171440          25749.405818       42322.313080   \n",
       "min             0.000000              0.000000           0.000000   \n",
       "25%          1267.750000           1096.250000        1857.750000   \n",
       "50%          1949.500000           1633.000000        2748.000000   \n",
       "75%          3411.000000           2935.750000        4937.500000   \n",
       "max        366152.000000         315773.000000      519661.000000   \n",
       "\n",
       "       KS4_LEVEL1_boys_15  KS4_LEVEL1_girls_15  ...  \\\n",
       "count          164.000000           164.000000  ...   \n",
       "mean          4999.347561          4946.060976  ...   \n",
       "std          21281.869723         21040.611713  ...   \n",
       "min              0.000000             0.000000  ...   \n",
       "25%            922.250000           935.500000  ...   \n",
       "50%           1387.500000          1342.000000  ...   \n",
       "75%           2505.250000          2448.750000  ...   \n",
       "max         261310.000000        258351.000000  ...   \n",
       "\n",
       "       KS4_LEVEL2_EM_all_white_15  KS4_LEVEL1_all_white_15  \\\n",
       "count                  164.000000               164.000000   \n",
       "mean                  4678.158537              7713.097561   \n",
       "std                  20297.192017             33480.585981   \n",
       "min                      0.000000                 0.000000   \n",
       "25%                    719.250000              1287.250000   \n",
       "50%                   1153.000000              1961.000000   \n",
       "75%                   2688.750000              4459.250000   \n",
       "max                 249261.000000            411446.000000   \n",
       "\n",
       "       KS4_LEVEL1_EM_all_white_15  KS4_L2BASICS_all_white_15  \\\n",
       "count                  164.000000                 164.000000   \n",
       "mean                  7506.420732                4864.158537   \n",
       "std                  32587.932393               21107.585548   \n",
       "min                      0.000000                   0.000000   \n",
       "25%                   1262.750000                 749.750000   \n",
       "50%                   1904.500000                1195.000000   \n",
       "75%                   4308.000000                2804.000000   \n",
       "max                 400466.000000              259232.000000   \n",
       "\n",
       "       Laden_all_mixed_15  KS4_EBACC_E_all_mixed_15  Laden_all_English_15  \\\n",
       "count          164.000000                164.000000            164.000000   \n",
       "mean           448.073171                189.073171           8946.695122   \n",
       "std           1877.155783                793.235864          38567.804853   \n",
       "min              0.000000                  0.000000              0.000000   \n",
       "25%             61.250000                 24.750000           1473.750000   \n",
       "50%            130.000000                 55.500000           2281.500000   \n",
       "75%            224.000000                 94.000000           4946.500000   \n",
       "max          22414.000000               9358.000000         474183.000000   \n",
       "\n",
       "       Laden_all_otherthanEnglish_15  Laden_boys_otherthanEnglish_15  \\\n",
       "count                     164.000000                      164.000000   \n",
       "mean                     1571.951220                      800.841463   \n",
       "std                      6623.358409                     3374.873823   \n",
       "min                         0.000000                        0.000000   \n",
       "25%                       112.250000                       58.500000   \n",
       "50%                       335.000000                      175.000000   \n",
       "75%                       839.500000                      426.750000   \n",
       "max                     75693.000000                    38562.000000   \n",
       "\n",
       "       Laden_girls_otherthanEnglish_15  \n",
       "count                       164.000000  \n",
       "mean                        771.109756  \n",
       "std                        3248.629338  \n",
       "min                           0.000000  \n",
       "25%                          57.500000  \n",
       "50%                         161.500000  \n",
       "75%                         412.750000  \n",
       "max                       37131.000000  \n",
       "\n",
       "[8 rows x 28 columns]"
      ]
     },
     "execution_count": 59,
     "metadata": {},
     "output_type": "execute_result"
    }
   ],
   "source": [
    "pd.read_csv('data/key-stage-4/SFR01_2016_Characteristics_Underlying_Data/SFR01_2016_UD_LA_1.csv').describe()"
   ]
  },
  {
   "cell_type": "markdown",
   "metadata": {},
   "source": [
    "# Create dataset conntaining relevant data"
   ]
  },
  {
   "cell_type": "markdown",
   "metadata": {},
   "source": [
    "Create a dataset containing only the relevant data fields required for the investigation"
   ]
  },
  {
   "cell_type": "code",
   "execution_count": 60,
   "metadata": {},
   "outputs": [
    {
     "data": {
      "text/html": [
       "<div>\n",
       "<style scoped>\n",
       "    .dataframe tbody tr th:only-of-type {\n",
       "        vertical-align: middle;\n",
       "    }\n",
       "\n",
       "    .dataframe tbody tr th {\n",
       "        vertical-align: top;\n",
       "    }\n",
       "\n",
       "    .dataframe thead th {\n",
       "        text-align: right;\n",
       "    }\n",
       "</style>\n",
       "<table border=\"1\" class=\"dataframe\">\n",
       "  <thead>\n",
       "    <tr style=\"text-align: right;\">\n",
       "      <th></th>\n",
       "      <th>Region_name</th>\n",
       "      <th>KS4_LEVEL2_boys_15</th>\n",
       "      <th>KS4_LEVEL2_girls_15</th>\n",
       "    </tr>\n",
       "  </thead>\n",
       "  <tbody>\n",
       "    <tr>\n",
       "      <th>0</th>\n",
       "      <td>NaN</td>\n",
       "      <td>171584</td>\n",
       "      <td>194568</td>\n",
       "    </tr>\n",
       "    <tr>\n",
       "      <th>1</th>\n",
       "      <td>North East</td>\n",
       "      <td>8231</td>\n",
       "      <td>9315</td>\n",
       "    </tr>\n",
       "    <tr>\n",
       "      <th>2</th>\n",
       "      <td>North West</td>\n",
       "      <td>23569</td>\n",
       "      <td>26868</td>\n",
       "    </tr>\n",
       "    <tr>\n",
       "      <th>3</th>\n",
       "      <td>Yorkshire and the Humber</td>\n",
       "      <td>16798</td>\n",
       "      <td>19341</td>\n",
       "    </tr>\n",
       "    <tr>\n",
       "      <th>4</th>\n",
       "      <td>East Midlands</td>\n",
       "      <td>14168</td>\n",
       "      <td>16566</td>\n",
       "    </tr>\n",
       "  </tbody>\n",
       "</table>\n",
       "</div>"
      ],
      "text/plain": [
       "                Region_name KS4_LEVEL2_boys_15 KS4_LEVEL2_girls_15\n",
       "0                       NaN             171584              194568\n",
       "1                North East               8231                9315\n",
       "2                North West              23569               26868\n",
       "3  Yorkshire and the Humber              16798               19341\n",
       "4             East Midlands              14168               16566"
      ]
     },
     "execution_count": 60,
     "metadata": {},
     "output_type": "execute_result"
    }
   ],
   "source": [
    "regional_df = pd.read_csv('data/key-stage-4/SFR01_2016_Characteristics_Underlying_Data/SFR01_2016_UD_LA_1.csv', thousands =',', usecols = ['Region_name','KS4_LEVEL2_girls_15','KS4_LEVEL2_boys_15']).copy()\n",
    "regional_df.head(5)"
   ]
  },
  {
   "cell_type": "markdown",
   "metadata": {},
   "source": [
    "# Check data and clean where necessary"
   ]
  },
  {
   "cell_type": "code",
   "execution_count": 61,
   "metadata": {},
   "outputs": [
    {
     "data": {
      "text/plain": [
       "array([nan, 'North East', 'North West', 'Yorkshire and the Humber',\n",
       "       'East Midlands', 'West Midlands', 'East', 'London', 'Inner London',\n",
       "       'Outer London', 'South East', 'South West'], dtype=object)"
      ]
     },
     "execution_count": 61,
     "metadata": {},
     "output_type": "execute_result"
    }
   ],
   "source": [
    "regional_df['Region_name'].unique()"
   ]
  },
  {
   "cell_type": "markdown",
   "metadata": {},
   "source": [
    "Check for invalid data type in the columns "
   ]
  },
  {
   "cell_type": "code",
   "execution_count": 62,
   "metadata": {},
   "outputs": [
    {
     "data": {
      "text/plain": [
       "array(['171584', '8231', '23569', '16798', '14168', '18512', '19741',\n",
       "       '25322', '7838', '17484', '28495', '16748', '663', '715', '734',\n",
       "       '501', '839', '306', '354', '478', '723', '1586', '302', '1030',\n",
       "       '262', '1229', '569', '1058', '1168', '1034', '643', '1292', '830',\n",
       "       '659', '555', '936', '797', '1098', '472', '750', '4007', '520',\n",
       "       '330', '1346', '1233', '1613', '589', '878', '980', '1610', '1395',\n",
       "       '906', '1374', '2321', '1180', '619', '1125', '510', '531', '2191',\n",
       "       '2374', '747', '2284', '885', '183', '2487', '584', '2449', '2175',\n",
       "       '3700', '934', '1055', '950', '1026', '933', '672', '2786', '599',\n",
       "       '1826', '954', '593', '1885', '704', '612', '864', '1831', '609',\n",
       "       '4768', '519', '4498', '2471', '2131', '0', '711', '565', '349',\n",
       "       '505', '352', '581', '635', '808', '824', '606', '494', '645',\n",
       "       '1411', '1100', '1010', '1141', '1079', '961', '1137', '658',\n",
       "       '713', '973', '947', '530', '1131', '1201', '475', '1110', '817',\n",
       "       '2077', '827', '1591', '703', '4525', '463', '506', '380', '556',\n",
       "       '630', '353', '615', '4908', '986', '335', '1953', '3797', '2701',\n",
       "       'x', '650', '879', '677', '908', '1383', '495', '1643', '2280',\n",
       "       '731', '1690', '2172', '1664'], dtype=object)"
      ]
     },
     "execution_count": 62,
     "metadata": {},
     "output_type": "execute_result"
    }
   ],
   "source": [
    "regional_df['KS4_LEVEL2_boys_15'].unique()"
   ]
  },
  {
   "cell_type": "code",
   "execution_count": 63,
   "metadata": {},
   "outputs": [
    {
     "data": {
      "text/html": [
       "<div>\n",
       "<style scoped>\n",
       "    .dataframe tbody tr th:only-of-type {\n",
       "        vertical-align: middle;\n",
       "    }\n",
       "\n",
       "    .dataframe tbody tr th {\n",
       "        vertical-align: top;\n",
       "    }\n",
       "\n",
       "    .dataframe thead th {\n",
       "        text-align: right;\n",
       "    }\n",
       "</style>\n",
       "<table border=\"1\" class=\"dataframe\">\n",
       "  <thead>\n",
       "    <tr style=\"text-align: right;\">\n",
       "      <th></th>\n",
       "      <th>Region_name</th>\n",
       "      <th>KS4_LEVEL2_boys_15</th>\n",
       "      <th>KS4_LEVEL2_girls_15</th>\n",
       "    </tr>\n",
       "  </thead>\n",
       "  <tbody>\n",
       "    <tr>\n",
       "      <th>148</th>\n",
       "      <td>South West</td>\n",
       "      <td>x</td>\n",
       "      <td>x</td>\n",
       "    </tr>\n",
       "    <tr>\n",
       "      <th>160</th>\n",
       "      <td>South West</td>\n",
       "      <td>x</td>\n",
       "      <td>x</td>\n",
       "    </tr>\n",
       "  </tbody>\n",
       "</table>\n",
       "</div>"
      ],
      "text/plain": [
       "    Region_name KS4_LEVEL2_boys_15 KS4_LEVEL2_girls_15\n",
       "148  South West                  x                   x\n",
       "160  South West                  x                   x"
      ]
     },
     "execution_count": 63,
     "metadata": {},
     "output_type": "execute_result"
    }
   ],
   "source": [
    "regional_df[regional_df['KS4_LEVEL2_boys_15'] == 'x']"
   ]
  },
  {
   "cell_type": "markdown",
   "metadata": {},
   "source": [
    "Remove rows 148 and 160 becuase they contain no relevant data and check the dataset has been updated"
   ]
  },
  {
   "cell_type": "code",
   "execution_count": 64,
   "metadata": {},
   "outputs": [],
   "source": [
    "regional_df.drop([148,160], inplace = True)"
   ]
  },
  {
   "cell_type": "code",
   "execution_count": 65,
   "metadata": {},
   "outputs": [
    {
     "data": {
      "text/html": [
       "<div>\n",
       "<style scoped>\n",
       "    .dataframe tbody tr th:only-of-type {\n",
       "        vertical-align: middle;\n",
       "    }\n",
       "\n",
       "    .dataframe tbody tr th {\n",
       "        vertical-align: top;\n",
       "    }\n",
       "\n",
       "    .dataframe thead th {\n",
       "        text-align: right;\n",
       "    }\n",
       "</style>\n",
       "<table border=\"1\" class=\"dataframe\">\n",
       "  <thead>\n",
       "    <tr style=\"text-align: right;\">\n",
       "      <th></th>\n",
       "      <th>Region_name</th>\n",
       "      <th>KS4_LEVEL2_boys_15</th>\n",
       "      <th>KS4_LEVEL2_girls_15</th>\n",
       "    </tr>\n",
       "  </thead>\n",
       "  <tbody>\n",
       "    <tr>\n",
       "      <th>0</th>\n",
       "      <td>NaN</td>\n",
       "      <td>171584</td>\n",
       "      <td>194568</td>\n",
       "    </tr>\n",
       "    <tr>\n",
       "      <th>1</th>\n",
       "      <td>North East</td>\n",
       "      <td>8231</td>\n",
       "      <td>9315</td>\n",
       "    </tr>\n",
       "    <tr>\n",
       "      <th>2</th>\n",
       "      <td>North West</td>\n",
       "      <td>23569</td>\n",
       "      <td>26868</td>\n",
       "    </tr>\n",
       "    <tr>\n",
       "      <th>3</th>\n",
       "      <td>Yorkshire and the Humber</td>\n",
       "      <td>16798</td>\n",
       "      <td>19341</td>\n",
       "    </tr>\n",
       "    <tr>\n",
       "      <th>4</th>\n",
       "      <td>East Midlands</td>\n",
       "      <td>14168</td>\n",
       "      <td>16566</td>\n",
       "    </tr>\n",
       "    <tr>\n",
       "      <th>...</th>\n",
       "      <td>...</td>\n",
       "      <td>...</td>\n",
       "      <td>...</td>\n",
       "    </tr>\n",
       "    <tr>\n",
       "      <th>156</th>\n",
       "      <td>South West</td>\n",
       "      <td>1643</td>\n",
       "      <td>1928</td>\n",
       "    </tr>\n",
       "    <tr>\n",
       "      <th>157</th>\n",
       "      <td>South West</td>\n",
       "      <td>581</td>\n",
       "      <td>755</td>\n",
       "    </tr>\n",
       "    <tr>\n",
       "      <th>158</th>\n",
       "      <td>South West</td>\n",
       "      <td>2280</td>\n",
       "      <td>2542</td>\n",
       "    </tr>\n",
       "    <tr>\n",
       "      <th>159</th>\n",
       "      <td>South West</td>\n",
       "      <td>731</td>\n",
       "      <td>926</td>\n",
       "    </tr>\n",
       "    <tr>\n",
       "      <th>161</th>\n",
       "      <td>South West</td>\n",
       "      <td>1690</td>\n",
       "      <td>1932</td>\n",
       "    </tr>\n",
       "  </tbody>\n",
       "</table>\n",
       "<p>160 rows × 3 columns</p>\n",
       "</div>"
      ],
      "text/plain": [
       "                  Region_name KS4_LEVEL2_boys_15 KS4_LEVEL2_girls_15\n",
       "0                         NaN             171584              194568\n",
       "1                  North East               8231                9315\n",
       "2                  North West              23569               26868\n",
       "3    Yorkshire and the Humber              16798               19341\n",
       "4               East Midlands              14168               16566\n",
       "..                        ...                ...                 ...\n",
       "156                South West               1643                1928\n",
       "157                South West                581                 755\n",
       "158                South West               2280                2542\n",
       "159                South West                731                 926\n",
       "161                South West               1690                1932\n",
       "\n",
       "[160 rows x 3 columns]"
      ]
     },
     "execution_count": 65,
     "metadata": {},
     "output_type": "execute_result"
    }
   ],
   "source": [
    "regional_df.head(160)"
   ]
  },
  {
   "cell_type": "markdown",
   "metadata": {},
   "source": [
    "Set the data type for the columns contianing data on boys and girls attainment to type integer for statistical computations"
   ]
  },
  {
   "cell_type": "code",
   "execution_count": 66,
   "metadata": {},
   "outputs": [],
   "source": [
    "regional_df['KS4_LEVEL2_girls_15'] = regional_df['KS4_LEVEL2_girls_15'].astype(int)\n",
    "regional_df['KS4_LEVEL2_boys_15'] = regional_df['KS4_LEVEL2_boys_15'].astype(int)"
   ]
  },
  {
   "cell_type": "code",
   "execution_count": 67,
   "metadata": {},
   "outputs": [
    {
     "data": {
      "text/plain": [
       "Region_name            object\n",
       "KS4_LEVEL2_boys_15      int64\n",
       "KS4_LEVEL2_girls_15     int64\n",
       "dtype: object"
      ]
     },
     "execution_count": 67,
     "metadata": {},
     "output_type": "execute_result"
    }
   ],
   "source": [
    "regional_df.dtypes"
   ]
  },
  {
   "cell_type": "markdown",
   "metadata": {},
   "source": [
    "In this investigation the inner and outer london regions will not be considered as seperate regions from london and the data held on these regions will be incorperated into the london region data"
   ]
  },
  {
   "cell_type": "code",
   "execution_count": 68,
   "metadata": {},
   "outputs": [],
   "source": [
    "regional_df.replace(['Inner London'],['London'], inplace = True, regex = True)\n",
    "regional_df.replace(['Outer London'], ['London'], inplace = True, regex = True)"
   ]
  },
  {
   "cell_type": "markdown",
   "metadata": {},
   "source": [
    "Check for null or NaN values"
   ]
  },
  {
   "cell_type": "code",
   "execution_count": 69,
   "metadata": {},
   "outputs": [
    {
     "data": {
      "text/html": [
       "<div>\n",
       "<style scoped>\n",
       "    .dataframe tbody tr th:only-of-type {\n",
       "        vertical-align: middle;\n",
       "    }\n",
       "\n",
       "    .dataframe tbody tr th {\n",
       "        vertical-align: top;\n",
       "    }\n",
       "\n",
       "    .dataframe thead th {\n",
       "        text-align: right;\n",
       "    }\n",
       "</style>\n",
       "<table border=\"1\" class=\"dataframe\">\n",
       "  <thead>\n",
       "    <tr style=\"text-align: right;\">\n",
       "      <th></th>\n",
       "      <th>Region_name</th>\n",
       "      <th>KS4_LEVEL2_boys_15</th>\n",
       "      <th>KS4_LEVEL2_girls_15</th>\n",
       "    </tr>\n",
       "  </thead>\n",
       "  <tbody>\n",
       "    <tr>\n",
       "      <th>0</th>\n",
       "      <td>NaN</td>\n",
       "      <td>171584</td>\n",
       "      <td>194568</td>\n",
       "    </tr>\n",
       "  </tbody>\n",
       "</table>\n",
       "</div>"
      ],
      "text/plain": [
       "  Region_name  KS4_LEVEL2_boys_15  KS4_LEVEL2_girls_15\n",
       "0         NaN              171584               194568"
      ]
     },
     "execution_count": 69,
     "metadata": {},
     "output_type": "execute_result"
    }
   ],
   "source": [
    "regional_df[regional_df.isnull().any(axis=1)]"
   ]
  },
  {
   "cell_type": "markdown",
   "metadata": {},
   "source": [
    "Change the current NaN value to unknown "
   ]
  },
  {
   "cell_type": "code",
   "execution_count": 70,
   "metadata": {},
   "outputs": [],
   "source": [
    "regional_df['Region_name'] = regional_df['Region_name'].fillna('Unknown')"
   ]
  },
  {
   "cell_type": "markdown",
   "metadata": {},
   "source": [
    "# Classification of Unknown region using the K-Nearest Neighbour "
   ]
  },
  {
   "cell_type": "markdown",
   "metadata": {},
   "source": [
    "create a dataset which does not contain the row to build training data from to avoid mis-classification"
   ]
  },
  {
   "cell_type": "code",
   "execution_count": 71,
   "metadata": {},
   "outputs": [
    {
     "data": {
      "text/html": [
       "<div>\n",
       "<style scoped>\n",
       "    .dataframe tbody tr th:only-of-type {\n",
       "        vertical-align: middle;\n",
       "    }\n",
       "\n",
       "    .dataframe tbody tr th {\n",
       "        vertical-align: top;\n",
       "    }\n",
       "\n",
       "    .dataframe thead th {\n",
       "        text-align: right;\n",
       "    }\n",
       "</style>\n",
       "<table border=\"1\" class=\"dataframe\">\n",
       "  <thead>\n",
       "    <tr style=\"text-align: right;\">\n",
       "      <th></th>\n",
       "      <th>Region_name</th>\n",
       "      <th>KS4_LEVEL2_boys_15</th>\n",
       "      <th>KS4_LEVEL2_girls_15</th>\n",
       "    </tr>\n",
       "  </thead>\n",
       "  <tbody>\n",
       "    <tr>\n",
       "      <th>1</th>\n",
       "      <td>North East</td>\n",
       "      <td>8231</td>\n",
       "      <td>9315</td>\n",
       "    </tr>\n",
       "    <tr>\n",
       "      <th>2</th>\n",
       "      <td>North West</td>\n",
       "      <td>23569</td>\n",
       "      <td>26868</td>\n",
       "    </tr>\n",
       "    <tr>\n",
       "      <th>3</th>\n",
       "      <td>Yorkshire and the Humber</td>\n",
       "      <td>16798</td>\n",
       "      <td>19341</td>\n",
       "    </tr>\n",
       "    <tr>\n",
       "      <th>4</th>\n",
       "      <td>East Midlands</td>\n",
       "      <td>14168</td>\n",
       "      <td>16566</td>\n",
       "    </tr>\n",
       "    <tr>\n",
       "      <th>5</th>\n",
       "      <td>West Midlands</td>\n",
       "      <td>18512</td>\n",
       "      <td>21088</td>\n",
       "    </tr>\n",
       "  </tbody>\n",
       "</table>\n",
       "</div>"
      ],
      "text/plain": [
       "                Region_name  KS4_LEVEL2_boys_15  KS4_LEVEL2_girls_15\n",
       "1                North East                8231                 9315\n",
       "2                North West               23569                26868\n",
       "3  Yorkshire and the Humber               16798                19341\n",
       "4             East Midlands               14168                16566\n",
       "5             West Midlands               18512                21088"
      ]
     },
     "execution_count": 71,
     "metadata": {},
     "output_type": "execute_result"
    }
   ],
   "source": [
    "grouped = regional_df[regional_df['Region_name']!= 'Unknown']\n",
    "grouped.head()"
   ]
  },
  {
   "cell_type": "markdown",
   "metadata": {},
   "source": [
    "Create training and target data for the classifier"
   ]
  },
  {
   "cell_type": "code",
   "execution_count": 72,
   "metadata": {},
   "outputs": [],
   "source": [
    "training_df = grouped[['KS4_LEVEL2_boys_15', 'KS4_LEVEL2_girls_15']]\n",
    "target_ss = grouped['Region_name']\n"
   ]
  },
  {
   "cell_type": "markdown",
   "metadata": {},
   "source": [
    "# Find optimum for k using leave one out algorithm"
   ]
  },
  {
   "cell_type": "markdown",
   "metadata": {},
   "source": [
    "create the leave one out function"
   ]
  },
  {
   "cell_type": "code",
   "execution_count": 73,
   "metadata": {},
   "outputs": [],
   "source": [
    "def leave_one_out(training_df, target_ss, indx, k):\n",
    "    classifier_KNN =KNeighborsClassifier(n_neighbors = k, metric = 'euclidean', weights = 'uniform')\n",
    "    classifier_KNN.fit(training_df.drop(indx, axis='index'),target_ss.drop(indx))\n",
    "    return classifier_KNN.predict([training_df.loc[indx]])[0]"
   ]
  },
  {
   "cell_type": "markdown",
   "metadata": {},
   "source": [
    "Create leave one out function call to provide the range of k and help identify the optimum value of k"
   ]
  },
  {
   "cell_type": "code",
   "execution_count": 74,
   "metadata": {},
   "outputs": [
    {
     "name": "stdout",
     "output_type": "stream",
     "text": [
      "2\t23\n",
      "3\t28\n",
      "4\t22\n",
      "5\t24\n",
      "6\t25\n",
      "7\t22\n",
      "8\t27\n"
     ]
    }
   ],
   "source": [
    "for k in range(2,9):\n",
    "    print('{}\\t{}'.format(k,\n",
    "                          list([leave_one_out(training_df, \n",
    "                                              target_ss, \n",
    "                                              i, \n",
    "                                              k)\n",
    "                                  for i in training_df.index] == target_ss).count(True)))"
   ]
  },
  {
   "cell_type": "markdown",
   "metadata": {},
   "source": [
    "The highest correct identification rate for k is 28 which is at k = 3, next I create the test data using the data in the unknown regions columns"
   ]
  },
  {
   "cell_type": "code",
   "execution_count": 75,
   "metadata": {},
   "outputs": [
    {
     "data": {
      "text/html": [
       "<div>\n",
       "<style scoped>\n",
       "    .dataframe tbody tr th:only-of-type {\n",
       "        vertical-align: middle;\n",
       "    }\n",
       "\n",
       "    .dataframe tbody tr th {\n",
       "        vertical-align: top;\n",
       "    }\n",
       "\n",
       "    .dataframe thead th {\n",
       "        text-align: right;\n",
       "    }\n",
       "</style>\n",
       "<table border=\"1\" class=\"dataframe\">\n",
       "  <thead>\n",
       "    <tr style=\"text-align: right;\">\n",
       "      <th></th>\n",
       "      <th>KS4_LEVEL2_boys_15</th>\n",
       "      <th>KS4_LEVEL2_girls_15</th>\n",
       "    </tr>\n",
       "  </thead>\n",
       "  <tbody>\n",
       "    <tr>\n",
       "      <th>0</th>\n",
       "      <td>171584</td>\n",
       "      <td>194568</td>\n",
       "    </tr>\n",
       "  </tbody>\n",
       "</table>\n",
       "</div>"
      ],
      "text/plain": [
       "   KS4_LEVEL2_boys_15  KS4_LEVEL2_girls_15\n",
       "0              171584               194568"
      ]
     },
     "execution_count": 75,
     "metadata": {},
     "output_type": "execute_result"
    }
   ],
   "source": [
    "testData_df = pd.DataFrame({'KS4_LEVEL2_boys_15':[171584],\n",
    "                            'KS4_LEVEL2_girls_15':[194568]})\n",
    "testData_df.head()"
   ]
  },
  {
   "cell_type": "markdown",
   "metadata": {},
   "source": [
    "Create a result dataset to display results and then train and check classification of the unknown region with k ranging from 2 to 9 using the KNN classifier"
   ]
  },
  {
   "cell_type": "code",
   "execution_count": 76,
   "metadata": {},
   "outputs": [
    {
     "data": {
      "text/html": [
       "<div>\n",
       "<style scoped>\n",
       "    .dataframe tbody tr th:only-of-type {\n",
       "        vertical-align: middle;\n",
       "    }\n",
       "\n",
       "    .dataframe tbody tr th {\n",
       "        vertical-align: top;\n",
       "    }\n",
       "\n",
       "    .dataframe thead th {\n",
       "        text-align: right;\n",
       "    }\n",
       "</style>\n",
       "<table border=\"1\" class=\"dataframe\">\n",
       "  <thead>\n",
       "    <tr style=\"text-align: right;\">\n",
       "      <th></th>\n",
       "      <th>KS4_LEVEL2_boys_15</th>\n",
       "      <th>KS4_LEVEL2_girls_15</th>\n",
       "      <th>Region_name (k=2)</th>\n",
       "      <th>Region_name (k=3)</th>\n",
       "      <th>Region_name (k=4)</th>\n",
       "      <th>Region_name (k=5)</th>\n",
       "      <th>Region_name (k=6)</th>\n",
       "      <th>Region_name (k=7)</th>\n",
       "      <th>Region_name (k=8)</th>\n",
       "    </tr>\n",
       "  </thead>\n",
       "  <tbody>\n",
       "    <tr>\n",
       "      <th>0</th>\n",
       "      <td>171584</td>\n",
       "      <td>194568</td>\n",
       "      <td>South East</td>\n",
       "      <td>South East</td>\n",
       "      <td>South East</td>\n",
       "      <td>South East</td>\n",
       "      <td>London</td>\n",
       "      <td>London</td>\n",
       "      <td>London</td>\n",
       "    </tr>\n",
       "  </tbody>\n",
       "</table>\n",
       "</div>"
      ],
      "text/plain": [
       "   KS4_LEVEL2_boys_15  KS4_LEVEL2_girls_15 Region_name (k=2)  \\\n",
       "0              171584               194568        South East   \n",
       "\n",
       "  Region_name (k=3) Region_name (k=4) Region_name (k=5) Region_name (k=6)  \\\n",
       "0        South East        South East        South East            London   \n",
       "\n",
       "  Region_name (k=7) Region_name (k=8)  \n",
       "0            London            London  "
      ]
     },
     "execution_count": 76,
     "metadata": {},
     "output_type": "execute_result"
    }
   ],
   "source": [
    "result_df = testData_df.copy()\n",
    "\n",
    "for k in range(2, 9):\n",
    "    classifier_kNN = KNeighborsClassifier(n_neighbors= k, metric='euclidean', weights='distance')\n",
    "    classifier_kNN.fit(training_df, target_ss)\n",
    "    \n",
    "    result_df['Region_name (k={})'.format(k)] = classifier_kNN.predict(testData_df)\n",
    "\n",
    "result_df"
   ]
  },
  {
   "cell_type": "markdown",
   "metadata": {},
   "source": [
    "The classifiaction indicates the region at k=3 to be South East so i will set the Region_name value to South East as k = 3 is the lowest error rate for the form of k."
   ]
  },
  {
   "cell_type": "code",
   "execution_count": 77,
   "metadata": {},
   "outputs": [],
   "source": [
    "regional_df.replace(['Unknown'], ['South East'], inplace = True)"
   ]
  },
  {
   "cell_type": "code",
   "execution_count": 78,
   "metadata": {},
   "outputs": [
    {
     "data": {
      "text/html": [
       "<div>\n",
       "<style scoped>\n",
       "    .dataframe tbody tr th:only-of-type {\n",
       "        vertical-align: middle;\n",
       "    }\n",
       "\n",
       "    .dataframe tbody tr th {\n",
       "        vertical-align: top;\n",
       "    }\n",
       "\n",
       "    .dataframe thead th {\n",
       "        text-align: right;\n",
       "    }\n",
       "</style>\n",
       "<table border=\"1\" class=\"dataframe\">\n",
       "  <thead>\n",
       "    <tr style=\"text-align: right;\">\n",
       "      <th></th>\n",
       "      <th>Region_name</th>\n",
       "      <th>KS4_LEVEL2_boys_15</th>\n",
       "      <th>KS4_LEVEL2_girls_15</th>\n",
       "    </tr>\n",
       "  </thead>\n",
       "  <tbody>\n",
       "    <tr>\n",
       "      <th>0</th>\n",
       "      <td>South East</td>\n",
       "      <td>171584</td>\n",
       "      <td>194568</td>\n",
       "    </tr>\n",
       "    <tr>\n",
       "      <th>1</th>\n",
       "      <td>North East</td>\n",
       "      <td>8231</td>\n",
       "      <td>9315</td>\n",
       "    </tr>\n",
       "    <tr>\n",
       "      <th>2</th>\n",
       "      <td>North West</td>\n",
       "      <td>23569</td>\n",
       "      <td>26868</td>\n",
       "    </tr>\n",
       "    <tr>\n",
       "      <th>3</th>\n",
       "      <td>Yorkshire and the Humber</td>\n",
       "      <td>16798</td>\n",
       "      <td>19341</td>\n",
       "    </tr>\n",
       "    <tr>\n",
       "      <th>4</th>\n",
       "      <td>East Midlands</td>\n",
       "      <td>14168</td>\n",
       "      <td>16566</td>\n",
       "    </tr>\n",
       "  </tbody>\n",
       "</table>\n",
       "</div>"
      ],
      "text/plain": [
       "                Region_name  KS4_LEVEL2_boys_15  KS4_LEVEL2_girls_15\n",
       "0                South East              171584               194568\n",
       "1                North East                8231                 9315\n",
       "2                North West               23569                26868\n",
       "3  Yorkshire and the Humber               16798                19341\n",
       "4             East Midlands               14168                16566"
      ]
     },
     "execution_count": 78,
     "metadata": {},
     "output_type": "execute_result"
    }
   ],
   "source": [
    "regional_df.head()"
   ]
  },
  {
   "cell_type": "markdown",
   "metadata": {},
   "source": [
    "# Statistical Tests"
   ]
  },
  {
   "cell_type": "markdown",
   "metadata": {},
   "source": [
    "Get an statistical description now unknown region has been incorperated into dataset"
   ]
  },
  {
   "cell_type": "code",
   "execution_count": 79,
   "metadata": {},
   "outputs": [
    {
     "data": {
      "text/html": [
       "<div>\n",
       "<style scoped>\n",
       "    .dataframe tbody tr th:only-of-type {\n",
       "        vertical-align: middle;\n",
       "    }\n",
       "\n",
       "    .dataframe tbody tr th {\n",
       "        vertical-align: top;\n",
       "    }\n",
       "\n",
       "    .dataframe thead th {\n",
       "        text-align: right;\n",
       "    }\n",
       "</style>\n",
       "<table border=\"1\" class=\"dataframe\">\n",
       "  <thead>\n",
       "    <tr style=\"text-align: right;\">\n",
       "      <th></th>\n",
       "      <th>KS4_LEVEL2_boys_15</th>\n",
       "      <th>KS4_LEVEL2_girls_15</th>\n",
       "    </tr>\n",
       "  </thead>\n",
       "  <tbody>\n",
       "    <tr>\n",
       "      <th>count</th>\n",
       "      <td>162.000000</td>\n",
       "      <td>162.000000</td>\n",
       "    </tr>\n",
       "    <tr>\n",
       "      <th>mean</th>\n",
       "      <td>3330.771605</td>\n",
       "      <td>3776.061728</td>\n",
       "    </tr>\n",
       "    <tr>\n",
       "      <th>std</th>\n",
       "      <td>14076.695020</td>\n",
       "      <td>15953.599607</td>\n",
       "    </tr>\n",
       "    <tr>\n",
       "      <th>min</th>\n",
       "      <td>0.000000</td>\n",
       "      <td>0.000000</td>\n",
       "    </tr>\n",
       "    <tr>\n",
       "      <th>25%</th>\n",
       "      <td>599.000000</td>\n",
       "      <td>689.250000</td>\n",
       "    </tr>\n",
       "    <tr>\n",
       "      <th>50%</th>\n",
       "      <td>920.500000</td>\n",
       "      <td>1016.000000</td>\n",
       "    </tr>\n",
       "    <tr>\n",
       "      <th>75%</th>\n",
       "      <td>1612.250000</td>\n",
       "      <td>1879.000000</td>\n",
       "    </tr>\n",
       "    <tr>\n",
       "      <th>max</th>\n",
       "      <td>171584.000000</td>\n",
       "      <td>194568.000000</td>\n",
       "    </tr>\n",
       "  </tbody>\n",
       "</table>\n",
       "</div>"
      ],
      "text/plain": [
       "       KS4_LEVEL2_boys_15  KS4_LEVEL2_girls_15\n",
       "count          162.000000           162.000000\n",
       "mean          3330.771605          3776.061728\n",
       "std          14076.695020         15953.599607\n",
       "min              0.000000             0.000000\n",
       "25%            599.000000           689.250000\n",
       "50%            920.500000          1016.000000\n",
       "75%           1612.250000          1879.000000\n",
       "max         171584.000000        194568.000000"
      ]
     },
     "execution_count": 79,
     "metadata": {},
     "output_type": "execute_result"
    }
   ],
   "source": [
    "regional_df.describe()"
   ]
  },
  {
   "cell_type": "markdown",
   "metadata": {},
   "source": [
    "Plot distribution of the data held on both boys and girls attainment over all regions"
   ]
  },
  {
   "cell_type": "code",
   "execution_count": 80,
   "metadata": {},
   "outputs": [
    {
     "data": {
      "image/png": "[encoded data removed]",
      "text/plain": [
       "<Figure size 648x648 with 4 Axes>"
      ]
     },
     "metadata": {},
     "output_type": "display_data"
    }
   ],
   "source": [
    "pd.plotting.scatter_matrix(regional_df[['KS4_LEVEL2_boys_15', 'KS4_LEVEL2_girls_15']], alpha = 0.8, figsize = (9,9), diagonal ='kde')\n",
    "plt.show()"
   ]
  },
  {
   "cell_type": "markdown",
   "metadata": {},
   "source": [
    " The distributions are similar but the girls have an overal higher attainment at ks4 level 2, Next I Check the pearson r and p values to identify the coefficient correlation"
   ]
  },
  {
   "cell_type": "markdown",
   "metadata": {},
   "source": [
    "next let find the regression"
   ]
  },
  {
   "cell_type": "code",
   "execution_count": 81,
   "metadata": {},
   "outputs": [
    {
     "name": "stdout",
     "output_type": "stream",
     "text": [
      "m: 1.1332976323332866, c: 1.3061546755775453\n"
     ]
    }
   ],
   "source": [
    "regression = scipy.stats.linregress(regional_df['KS4_LEVEL2_boys_15'],\n",
    "                                    regional_df['KS4_LEVEL2_girls_15'])\n",
    "m = regression[0]\n",
    "c = regression[1]\n",
    "\n",
    "print(f'm: {m}, c: {c}')"
   ]
  },
  {
   "cell_type": "markdown",
   "metadata": {},
   "source": [
    "now Investigate the Spearmans r value"
   ]
  },
  {
   "cell_type": "code",
   "execution_count": 82,
   "metadata": {},
   "outputs": [
    {
     "data": {
      "text/plain": [
       "SpearmanrResult(correlation=0.9881532791262851, pvalue=3.6995944063963e-132)"
      ]
     },
     "execution_count": 82,
     "metadata": {},
     "output_type": "execute_result"
    }
   ],
   "source": [
    "scipy.stats.spearmanr(regional_df['KS4_LEVEL2_boys_15'], regional_df['KS4_LEVEL2_girls_15'])"
   ]
  },
  {
   "cell_type": "markdown",
   "metadata": {},
   "source": [
    "The Spearman r value is close to 1 which indicates some correlation bewtween the two variables, the p value indicates that there may be some relationship bewtween the two variables as it is greater than 1"
   ]
  },
  {
   "cell_type": "code",
   "execution_count": null,
   "metadata": {},
   "outputs": [],
   "source": []
  },
  {
   "cell_type": "code",
   "execution_count": 83,
   "metadata": {},
   "outputs": [
    {
     "data": {
      "text/plain": [
       "(0.999967752157143, 0.0)"
      ]
     },
     "execution_count": 83,
     "metadata": {},
     "output_type": "execute_result"
    }
   ],
   "source": [
    "scipy.stats.pearsonr(regional_df['KS4_LEVEL2_boys_15'], regional_df['KS4_LEVEL2_girls_15'])"
   ]
  },
  {
   "cell_type": "markdown",
   "metadata": {},
   "source": [
    "The pearson r value is close to 1 which indicates that the numbers increase/decrease at the same rate in both sets of data, the statistical value is also 0 which means that it is likely that the correlation has not happened by chance and that it will hold."
   ]
  },
  {
   "cell_type": "markdown",
   "metadata": {},
   "source": [
    "# Visualisations"
   ]
  },
  {
   "cell_type": "markdown",
   "metadata": {},
   "source": [
    "First lets plot the regression"
   ]
  },
  {
   "cell_type": "code",
   "execution_count": 84,
   "metadata": {},
   "outputs": [
    {
     "data": {
      "image/png": "[encoded data removed]",
      "text/plain": [
       "<Figure size 360x360 with 1 Axes>"
      ]
     },
     "metadata": {},
     "output_type": "display_data"
    }
   ],
   "source": [
    "sns.lmplot(x=\"KS4_LEVEL2_boys_15\", y=\"KS4_LEVEL2_girls_15\",\n",
    "           data = regional_df,\n",
    "           x_jitter=0.2, y_jitter=0.2, scatter_kws={'s':1}\n",
    "          );\n",
    "\n",
    "x = np.linspace(0, 20, 40)\n",
    "\n",
    "plt.plot(x, m*x + c, '.',  color='red');"
   ]
  },
  {
   "cell_type": "markdown",
   "metadata": {},
   "source": [
    "Next create a grouped dataset to plot a bar chart showing different attaiment achieved by boys and girls over the various regions"
   ]
  },
  {
   "cell_type": "code",
   "execution_count": 85,
   "metadata": {},
   "outputs": [
    {
     "data": {
      "text/plain": [
       "Text(0.5, 1.0, 'Regional KS4 attainmnent of boys and girls')"
      ]
     },
     "execution_count": 85,
     "metadata": {},
     "output_type": "execute_result"
    },
    {
     "data": {
      "image/png": "[encoded data removed]",
      "text/plain": [
       "<Figure size 1440x720 with 1 Axes>"
      ]
     },
     "metadata": {},
     "output_type": "display_data"
    }
   ],
   "source": [
    "grouped = regional_df.groupby(by = ['Region_name']).sum()\n",
    "grouped.plot.barh(figsize = (20,10), fontsize = '18')\n",
    "plt.legend(prop = {'size': 18})\n",
    "plt.xlabel('Count')\n",
    "plt.title('Regional KS4 attainmnent of boys and girls')"
   ]
  },
  {
   "cell_type": "markdown",
   "metadata": {},
   "source": [
    "The barh grapgh shows that girls have higher attainment than boys at KS4 Level 2 accross all the regions, it does show that the south east has a very high attainment level in which the biggest difference in attainment between boys and girls can be seen compared to the other regions. This may be due to an outlier, next I will create a scatter plot to identify how the different regions are clustered "
   ]
  },
  {
   "cell_type": "code",
   "execution_count": 86,
   "metadata": {},
   "outputs": [
    {
     "data": {
      "text/plain": [
       "Text(0.5, 1.0, 'Scatter plot of regional attainment dataset')"
      ]
     },
     "execution_count": 86,
     "metadata": {},
     "output_type": "execute_result"
    },
    {
     "data": {
      "image/png": "[encoded data removed]",
      "text/plain": [
       "<Figure size 648x648 with 1 Axes>"
      ]
     },
     "metadata": {},
     "output_type": "display_data"
    }
   ],
   "source": [
    "colourMap_dict = {'Unknown': 'black', 'North East': 'blue', 'North West': 'green', 'Yorkshire and the Humber': 'yellow',\n",
    "                 'East Midlands': 'cyan', 'West Midlands':'purple', 'East': 'orange', 'London': 'red', 'South East': 'pink',\n",
    "                 'South West': 'Darkblue'}\n",
    "\n",
    "\n",
    "for region in set(regional_df['Region_name']):\n",
    "    \n",
    "    plt.scatter(regional_df['KS4_LEVEL2_boys_15'][regional_df['Region_name']==region],\n",
    "                regional_df['KS4_LEVEL2_girls_15'][regional_df['Region_name']==region],\n",
    "                color=colourMap_dict[region], label='Region ' + region\n",
    "               )\n",
    "\n",
    "plt.legend()\n",
    "\n",
    "plt.xlabel('KS4 Level 2 girls')\n",
    "plt.ylabel('KS4 Level 2 boys')\n",
    "plt.title('Scatter plot of regional attainment dataset')"
   ]
  },
  {
   "cell_type": "markdown",
   "metadata": {},
   "source": [
    "The scatter plot indicate some overlapping of the data points so I will create a silhouette column to help plot the silhouette chart to help identify how much overlapping is occuring and help understand what is happening in the condensed scatter plot, it does also show that there is indeed an outlier for the south east region which doesn't seem to fit the data."
   ]
  },
  {
   "cell_type": "code",
   "execution_count": 87,
   "metadata": {},
   "outputs": [
    {
     "data": {
      "text/plain": [
       "Text(0, 0.5, 'Count')"
      ]
     },
     "execution_count": 87,
     "metadata": {},
     "output_type": "execute_result"
    },
    {
     "data": {
      "image/png": "[encoded data removed]",
      "text/plain": [
       "<Figure size 2160x1440 with 1 Axes>"
      ]
     },
     "metadata": {},
     "output_type": "display_data"
    }
   ],
   "source": [
    "regional_df.plot(x = 'Region_name', y = ['KS4_LEVEL2_boys_15', 'KS4_LEVEL2_girls_15'], figsize =(30,20))\n",
    "plt.title('Boys and girls KS4 level 2 attainment accross all regions of England')\n",
    "plt.xlabel('Regions')\n",
    "plt.ylabel('Count')\n"
   ]
  },
  {
   "cell_type": "markdown",
   "metadata": {},
   "source": [
    "# conclusion for data investigation 1"
   ]
  },
  {
   "cell_type": "markdown",
   "metadata": {},
   "source": [
    "From observing the barh visualisation you can identify that there is a higher KS4 attainment for girls over all the regions, the noticeable difference of attainment between the two groups is not very large except within the South East region where the difference is slightly larger and could be due to the outlier shown in the scatter plot.  It does become apparent from observing the barh that both boys and girls in some regions of England performed much better than in other regions, which indicates that there may be a different variable having an impact on the attainment levels in areas such as the North East region which has extremely low attainment levels for both groups."
   ]
  },
  {
   "cell_type": "markdown",
   "metadata": {},
   "source": [
    "# Data investigation 2"
   ]
  },
  {
   "cell_type": "markdown",
   "metadata": {},
   "source": [
    "# Investigation into Income deprivations impact on KS4 attainment of pupils\t"
   ]
  },
  {
   "cell_type": "markdown",
   "metadata": {},
   "source": [
    "In this investigation I am going to try and identify whether this is any kind of link between income deprivation with the attainment at ks4 level for 15 - 16 pupils, I will use the data held on the level of income deprivation in local areas alongside the educational Key-stage 4 level 2 attainment for all pupils data in local areas."
   ]
  },
  {
   "cell_type": "markdown",
   "metadata": {},
   "source": [
    "# Investigate data files"
   ]
  },
  {
   "cell_type": "markdown",
   "metadata": {},
   "source": [
    "Check the deprivation index file contents"
   ]
  },
  {
   "cell_type": "code",
   "execution_count": 95,
   "metadata": {},
   "outputs": [
    {
     "name": "stdout",
     "output_type": "stream",
     "text": [
      "ls: cannot access !: No such file or directory\r\n",
      "data/Deprivation_Index:\r\n",
      "example.csv\r\n",
      "File_10_ID2015_Local_Authority_District_Summaries.xlsx\r\n",
      "File_11_ID_2015_Upper-tier_Local_Authority_Summaries.xlsx\r\n",
      "File_2_ID_2015_Domains_of_deprivation.xlsx\r\n",
      "File_3_ID_2015_Supplementary_Indices_-_Income_Deprivation_Affecting_Children_Index_and_Income_Deprivation_Affecting_Older_People_Index.xlsx\r\n",
      "File_4_ID_2015_Sub-domains_of_deprivation.xlsx\r\n",
      "Lower_Layer_Super_Output_Area__2011__to_Upper_Tier_Local_Authorities__2018__Lookup_in_England_and_Wales_v2.csv\r\n"
     ]
    }
   ],
   "source": [
    "ls! 'data/Deprivation_Index'"
   ]
  },
  {
   "cell_type": "markdown",
   "metadata": {},
   "source": [
    "Check the encoding of the example.csv file"
   ]
  },
  {
   "cell_type": "code",
   "execution_count": 96,
   "metadata": {},
   "outputs": [
    {
     "data": {
      "text/plain": [
       "{'encoding': 'UTF-8-SIG', 'confidence': 1.0, 'language': ''}"
      ]
     },
     "execution_count": 96,
     "metadata": {},
     "output_type": "execute_result"
    }
   ],
   "source": [
    "chardet.detect(open('data/Deprivation_Index/example.csv', 'rb').read())"
   ]
  },
  {
   "cell_type": "markdown",
   "metadata": {},
   "source": [
    "check the head of the dataset to get a fill for the data"
   ]
  },
  {
   "cell_type": "code",
   "execution_count": 97,
   "metadata": {},
   "outputs": [
    {
     "data": {
      "text/html": [
       "<div>\n",
       "<style scoped>\n",
       "    .dataframe tbody tr th:only-of-type {\n",
       "        vertical-align: middle;\n",
       "    }\n",
       "\n",
       "    .dataframe tbody tr th {\n",
       "        vertical-align: top;\n",
       "    }\n",
       "\n",
       "    .dataframe thead th {\n",
       "        text-align: right;\n",
       "    }\n",
       "</style>\n",
       "<table border=\"1\" class=\"dataframe\">\n",
       "  <thead>\n",
       "    <tr style=\"text-align: right;\">\n",
       "      <th></th>\n",
       "      <th>LSOAcode2011</th>\n",
       "      <th>LSOAname2011</th>\n",
       "      <th>LocalAuthorityDistrictcode2013</th>\n",
       "      <th>LocalAuthorityDistrictname2013</th>\n",
       "      <th>IndexofMultipleDeprivationRank</th>\n",
       "      <th>IndexofMultipleDeprivationDecile</th>\n",
       "      <th>IncomeRank</th>\n",
       "      <th>IncomeDecile</th>\n",
       "      <th>EmploymentRank</th>\n",
       "      <th>EmploymentDecile</th>\n",
       "      <th>EducationSkillsandTrainingRank</th>\n",
       "      <th>EducationSkillsandTrainingDecile</th>\n",
       "      <th>HealthDeprivationandDisabilityRank</th>\n",
       "      <th>HealthDeprivationandDisabilityDecile</th>\n",
       "      <th>CrimeRank</th>\n",
       "      <th>CrimeDecile</th>\n",
       "      <th>BarrierstoHousingandServicesRank</th>\n",
       "      <th>BarrierstoHousingandServicesDecile</th>\n",
       "      <th>LivingEnvironmentRank</th>\n",
       "      <th>LivingEnvironmentDecile</th>\n",
       "    </tr>\n",
       "  </thead>\n",
       "  <tbody>\n",
       "    <tr>\n",
       "      <th>0</th>\n",
       "      <td>E01031349</td>\n",
       "      <td>Adur 001A</td>\n",
       "      <td>E07000223</td>\n",
       "      <td>Adur</td>\n",
       "      <td>21,352</td>\n",
       "      <td>7</td>\n",
       "      <td>18,992</td>\n",
       "      <td>6</td>\n",
       "      <td>19,305</td>\n",
       "      <td>6</td>\n",
       "      <td>13,727</td>\n",
       "      <td>5</td>\n",
       "      <td>25,876</td>\n",
       "      <td>8</td>\n",
       "      <td>12,817</td>\n",
       "      <td>4</td>\n",
       "      <td>28,166</td>\n",
       "      <td>9</td>\n",
       "      <td>18,367</td>\n",
       "      <td>6</td>\n",
       "    </tr>\n",
       "    <tr>\n",
       "      <th>1</th>\n",
       "      <td>E01031350</td>\n",
       "      <td>Adur 001B</td>\n",
       "      <td>E07000223</td>\n",
       "      <td>Adur</td>\n",
       "      <td>8,864</td>\n",
       "      <td>3</td>\n",
       "      <td>9,233</td>\n",
       "      <td>3</td>\n",
       "      <td>7,879</td>\n",
       "      <td>3</td>\n",
       "      <td>6,969</td>\n",
       "      <td>3</td>\n",
       "      <td>6,883</td>\n",
       "      <td>3</td>\n",
       "      <td>12,781</td>\n",
       "      <td>4</td>\n",
       "      <td>11,399</td>\n",
       "      <td>4</td>\n",
       "      <td>16,242</td>\n",
       "      <td>5</td>\n",
       "    </tr>\n",
       "    <tr>\n",
       "      <th>2</th>\n",
       "      <td>E01031351</td>\n",
       "      <td>Adur 001C</td>\n",
       "      <td>E07000223</td>\n",
       "      <td>Adur</td>\n",
       "      <td>22,143</td>\n",
       "      <td>7</td>\n",
       "      <td>24,539</td>\n",
       "      <td>8</td>\n",
       "      <td>23,389</td>\n",
       "      <td>8</td>\n",
       "      <td>10,213</td>\n",
       "      <td>4</td>\n",
       "      <td>24,693</td>\n",
       "      <td>8</td>\n",
       "      <td>9,112</td>\n",
       "      <td>3</td>\n",
       "      <td>24,743</td>\n",
       "      <td>8</td>\n",
       "      <td>22,299</td>\n",
       "      <td>7</td>\n",
       "    </tr>\n",
       "    <tr>\n",
       "      <th>3</th>\n",
       "      <td>E01031352</td>\n",
       "      <td>Adur 001D</td>\n",
       "      <td>E07000223</td>\n",
       "      <td>Adur</td>\n",
       "      <td>17,252</td>\n",
       "      <td>6</td>\n",
       "      <td>16,087</td>\n",
       "      <td>5</td>\n",
       "      <td>13,699</td>\n",
       "      <td>5</td>\n",
       "      <td>10,468</td>\n",
       "      <td>4</td>\n",
       "      <td>19,627</td>\n",
       "      <td>6</td>\n",
       "      <td>16,127</td>\n",
       "      <td>5</td>\n",
       "      <td>19,559</td>\n",
       "      <td>6</td>\n",
       "      <td>22,819</td>\n",
       "      <td>7</td>\n",
       "    </tr>\n",
       "    <tr>\n",
       "      <th>4</th>\n",
       "      <td>E01031370</td>\n",
       "      <td>Adur 001E</td>\n",
       "      <td>E07000223</td>\n",
       "      <td>Adur</td>\n",
       "      <td>15,643</td>\n",
       "      <td>5</td>\n",
       "      <td>17,918</td>\n",
       "      <td>6</td>\n",
       "      <td>13,322</td>\n",
       "      <td>5</td>\n",
       "      <td>7,819</td>\n",
       "      <td>3</td>\n",
       "      <td>14,893</td>\n",
       "      <td>5</td>\n",
       "      <td>13,723</td>\n",
       "      <td>5</td>\n",
       "      <td>22,433</td>\n",
       "      <td>7</td>\n",
       "      <td>18,191</td>\n",
       "      <td>6</td>\n",
       "    </tr>\n",
       "  </tbody>\n",
       "</table>\n",
       "</div>"
      ],
      "text/plain": [
       "  LSOAcode2011 LSOAname2011 LocalAuthorityDistrictcode2013  \\\n",
       "0    E01031349    Adur 001A                      E07000223   \n",
       "1    E01031350    Adur 001B                      E07000223   \n",
       "2    E01031351    Adur 001C                      E07000223   \n",
       "3    E01031352    Adur 001D                      E07000223   \n",
       "4    E01031370    Adur 001E                      E07000223   \n",
       "\n",
       "  LocalAuthorityDistrictname2013 IndexofMultipleDeprivationRank  \\\n",
       "0                           Adur                         21,352   \n",
       "1                           Adur                          8,864   \n",
       "2                           Adur                         22,143   \n",
       "3                           Adur                         17,252   \n",
       "4                           Adur                         15,643   \n",
       "\n",
       "   IndexofMultipleDeprivationDecile IncomeRank  IncomeDecile EmploymentRank  \\\n",
       "0                                 7     18,992             6         19,305   \n",
       "1                                 3      9,233             3          7,879   \n",
       "2                                 7     24,539             8         23,389   \n",
       "3                                 6     16,087             5         13,699   \n",
       "4                                 5     17,918             6         13,322   \n",
       "\n",
       "   EmploymentDecile EducationSkillsandTrainingRank   \\\n",
       "0                 6                          13,727   \n",
       "1                 3                           6,969   \n",
       "2                 8                          10,213   \n",
       "3                 5                          10,468   \n",
       "4                 5                           7,819   \n",
       "\n",
       "   EducationSkillsandTrainingDecile HealthDeprivationandDisabilityRank  \\\n",
       "0                                 5                             25,876   \n",
       "1                                 3                              6,883   \n",
       "2                                 4                             24,693   \n",
       "3                                 4                             19,627   \n",
       "4                                 3                             14,893   \n",
       "\n",
       "   HealthDeprivationandDisabilityDecile CrimeRank  CrimeDecile   \\\n",
       "0                                     8    12,817             4   \n",
       "1                                     3    12,781             4   \n",
       "2                                     8     9,112             3   \n",
       "3                                     6    16,127             5   \n",
       "4                                     5    13,723             5   \n",
       "\n",
       "  BarrierstoHousingandServicesRank   BarrierstoHousingandServicesDecile   \\\n",
       "0                            28,166                                    9   \n",
       "1                            11,399                                    4   \n",
       "2                            24,743                                    8   \n",
       "3                            19,559                                    6   \n",
       "4                            22,433                                    7   \n",
       "\n",
       "  LivingEnvironmentRank   LivingEnvironmentDecile   \n",
       "0                 18,367                         6  \n",
       "1                 16,242                         5  \n",
       "2                 22,299                         7  \n",
       "3                 22,819                         7  \n",
       "4                 18,191                         6  "
      ]
     },
     "execution_count": 97,
     "metadata": {},
     "output_type": "execute_result"
    }
   ],
   "source": [
    "pd.read_csv('data/Deprivation_Index/example.csv').head()"
   ]
  },
  {
   "cell_type": "code",
   "execution_count": 98,
   "metadata": {},
   "outputs": [
    {
     "data": {
      "text/plain": [
       "['LSOAcode2011',\n",
       " 'LSOAname2011',\n",
       " 'LocalAuthorityDistrictcode2013',\n",
       " 'LocalAuthorityDistrictname2013',\n",
       " 'IndexofMultipleDeprivationRank',\n",
       " 'IndexofMultipleDeprivationDecile',\n",
       " 'IncomeRank',\n",
       " 'IncomeDecile',\n",
       " 'EmploymentRank',\n",
       " 'EmploymentDecile',\n",
       " 'EducationSkillsandTrainingRank ',\n",
       " 'EducationSkillsandTrainingDecile',\n",
       " 'HealthDeprivationandDisabilityRank',\n",
       " 'HealthDeprivationandDisabilityDecile',\n",
       " 'CrimeRank',\n",
       " 'CrimeDecile ',\n",
       " 'BarrierstoHousingandServicesRank ',\n",
       " 'BarrierstoHousingandServicesDecile ',\n",
       " 'LivingEnvironmentRank ',\n",
       " 'LivingEnvironmentDecile ']"
      ]
     },
     "execution_count": 98,
     "metadata": {},
     "output_type": "execute_result"
    }
   ],
   "source": [
    "list(pd.read_csv('data/Deprivation_Index/example.csv').columns)"
   ]
  },
  {
   "cell_type": "code",
   "execution_count": 99,
   "metadata": {},
   "outputs": [
    {
     "data": {
      "text/plain": [
       "array(['Adur', 'Allerdale', 'Amber Valley', 'Arun', 'Ashfield', 'Ashford',\n",
       "       'Aylesbury Vale', 'Babergh', 'Barking and Dagenham', 'Barnet',\n",
       "       'Barnsley', 'Barrow-in-Furness', 'Basildon',\n",
       "       'Basingstoke and Deane', 'Bassetlaw',\n",
       "       'Bath and North East Somerset', 'Bedford', 'Bexley', 'Birmingham',\n",
       "       'Blaby', 'Blackburn with Darwen', 'Blackpool', 'Bolsover',\n",
       "       'Bolton', 'Boston', 'Bournemouth', 'Bracknell Forest', 'Bradford',\n",
       "       'Braintree', 'Breckland', 'Brent', 'Brentwood',\n",
       "       'Brighton and Hove', 'Bristol, City of', 'Broadland', 'Bromley',\n",
       "       'Bromsgrove', 'Broxbourne', 'Broxtowe', 'Burnley', 'Bury',\n",
       "       'Calderdale', 'Cambridge', 'Camden', 'Cannock Chase', 'Canterbury',\n",
       "       'Carlisle', 'Castle Point', 'Central Bedfordshire', 'Charnwood',\n",
       "       'Chelmsford', 'Cheltenham', 'Cherwell', 'Cheshire East',\n",
       "       'Cheshire West and Chester', 'Chesterfield', 'Chichester',\n",
       "       'Chiltern', 'Chorley', 'Christchurch', 'City of London',\n",
       "       'Colchester', 'Copeland', 'Corby', 'Cornwall', 'Cotswold',\n",
       "       'County Durham', 'Coventry', 'Craven', 'Crawley', 'Croydon',\n",
       "       'Dacorum', 'Darlington', 'Dartford', 'Daventry', 'Derby',\n",
       "       'Derbyshire Dales', 'Doncaster', 'Dover', 'Dudley', 'Ealing',\n",
       "       'East Cambridgeshire', 'East Devon', 'East Dorset',\n",
       "       'East Hampshire', 'East Hertfordshire', 'East Lindsey',\n",
       "       'East Northamptonshire', 'East Riding of Yorkshire',\n",
       "       'East Staffordshire', 'Eastbourne', 'Eastleigh', 'Eden',\n",
       "       'Elmbridge', 'Enfield', 'Epping Forest', 'Epsom and Ewell',\n",
       "       'Erewash', 'Exeter', 'Fareham', 'Fenland', 'Forest Heath',\n",
       "       'Forest of Dean', 'Fylde', 'Gateshead', 'Gedling', 'Gloucester',\n",
       "       'Gosport', 'Gravesham', 'Great Yarmouth', 'Greenwich', 'Guildford',\n",
       "       'Hackney', 'Halton', 'Hambleton', 'Hammersmith and Fulham',\n",
       "       'Harborough', 'Haringey', 'Harlow', 'Harrogate', 'Harrow', 'Hart',\n",
       "       'Hartlepool', 'Hastings', 'Havant', 'Havering',\n",
       "       'Herefordshire, County of', 'Hertsmere', 'High Peak', 'Hillingdon',\n",
       "       'Hinckley and Bosworth', 'Horsham', 'Hounslow', 'Huntingdonshire',\n",
       "       'Hyndburn', 'Ipswich', 'Isle of Wight', 'Isles of Scilly',\n",
       "       'Islington', 'Kensington and Chelsea', 'Kettering',\n",
       "       \"King's Lynn and West Norfolk\", 'Kingston upon Hull, City of',\n",
       "       'Kingston upon Thames', 'Kirklees', 'Knowsley', 'Lambeth',\n",
       "       'Lancaster', 'Leeds', 'Leicester', 'Lewes', 'Lewisham',\n",
       "       'Lichfield', 'Lincoln', 'Liverpool', 'Luton', 'Maidstone',\n",
       "       'Maldon', 'Malvern Hills', 'Manchester', 'Mansfield', 'Medway',\n",
       "       'Melton', 'Mendip', 'Merton', 'Mid Devon', 'Mid Suffolk',\n",
       "       'Mid Sussex', 'Middlesbrough', 'Milton Keynes', 'Mole Valley',\n",
       "       'New Forest', 'Newark and Sherwood', 'Newcastle upon Tyne',\n",
       "       'Newcastle-under-Lyme', 'Newham', 'North Devon', 'North Dorset',\n",
       "       'North East Derbyshire', 'North East Lincolnshire',\n",
       "       'North Hertfordshire', 'North Kesteven', 'North Lincolnshire',\n",
       "       'North Norfolk', 'North Somerset', 'North Tyneside',\n",
       "       'North Warwickshire', 'North West Leicestershire', 'Northampton',\n",
       "       'Northumberland', 'Norwich', 'Nottingham', 'Nuneaton and Bedworth',\n",
       "       'Oadby and Wigston', 'Oldham', 'Oxford', 'Pendle', 'Peterborough',\n",
       "       'Plymouth', 'Poole', 'Portsmouth', 'Preston', 'Purbeck', 'Reading',\n",
       "       'Redbridge', 'Redcar and Cleveland', 'Redditch',\n",
       "       'Reigate and Banstead', 'Ribble Valley', 'Richmond upon Thames',\n",
       "       'Richmondshire', 'Rochdale', 'Rochford', 'Rossendale', 'Rother',\n",
       "       'Rotherham', 'Rugby', 'Runnymede', 'Rushcliffe', 'Rushmoor',\n",
       "       'Rutland', 'Ryedale', 'Salford', 'Sandwell', 'Scarborough',\n",
       "       'Sedgemoor', 'Sefton', 'Selby', 'Sevenoaks', 'Sheffield',\n",
       "       'Shepway', 'Shropshire', 'Slough', 'Solihull', 'South Bucks',\n",
       "       'South Cambridgeshire', 'South Derbyshire',\n",
       "       'South Gloucestershire', 'South Hams', 'South Holland',\n",
       "       'South Kesteven', 'South Lakeland', 'South Norfolk',\n",
       "       'South Northamptonshire', 'South Oxfordshire', 'South Ribble',\n",
       "       'South Somerset', 'South Staffordshire', 'South Tyneside',\n",
       "       'Southampton', 'Southend-on-Sea', 'Southwark', 'Spelthorne',\n",
       "       'St Albans', 'St Edmundsbury', 'St. Helens', 'Stafford',\n",
       "       'Staffordshire Moorlands', 'Stevenage', 'Stockport',\n",
       "       'Stockton-on-Tees', 'Stoke-on-Trent', 'Stratford-on-Avon',\n",
       "       'Stroud', 'Suffolk Coastal', 'Sunderland', 'Surrey Heath',\n",
       "       'Sutton', 'Swale', 'Swindon', 'Tameside', 'Tamworth', 'Tandridge',\n",
       "       'Taunton Deane', 'Teignbridge', 'Telford and Wrekin', 'Tendring',\n",
       "       'Test Valley', 'Tewkesbury', 'Thanet', 'Three Rivers', 'Thurrock',\n",
       "       'Tonbridge and Malling', 'Torbay', 'Torridge', 'Tower Hamlets',\n",
       "       'Trafford', 'Tunbridge Wells', 'Uttlesford', 'Vale of White Horse',\n",
       "       'Wakefield', 'Walsall', 'Waltham Forest', 'Wandsworth',\n",
       "       'Warrington', 'Warwick', 'Watford', 'Waveney', 'Waverley',\n",
       "       'Wealden', 'Wellingborough', 'Welwyn Hatfield', 'West Berkshire',\n",
       "       'West Devon', 'West Dorset', 'West Lancashire', 'West Lindsey',\n",
       "       'West Oxfordshire', 'West Somerset', 'Westminster',\n",
       "       'Weymouth and Portland', 'Wigan', 'Wiltshire', 'Winchester',\n",
       "       'Windsor and Maidenhead', 'Wirral', 'Woking', 'Wokingham',\n",
       "       'Wolverhampton', 'Worcester', 'Worthing', 'Wychavon', 'Wycombe',\n",
       "       'Wyre', 'Wyre Forest', 'York'], dtype=object)"
      ]
     },
     "execution_count": 99,
     "metadata": {},
     "output_type": "execute_result"
    }
   ],
   "source": [
    "pd.read_csv('data/Deprivation_Index/example.csv')['LocalAuthorityDistrictname2013'].unique()"
   ]
  },
  {
   "cell_type": "code",
   "execution_count": 100,
   "metadata": {},
   "outputs": [
    {
     "data": {
      "text/html": [
       "<div>\n",
       "<style scoped>\n",
       "    .dataframe tbody tr th:only-of-type {\n",
       "        vertical-align: middle;\n",
       "    }\n",
       "\n",
       "    .dataframe tbody tr th {\n",
       "        vertical-align: top;\n",
       "    }\n",
       "\n",
       "    .dataframe thead th {\n",
       "        text-align: right;\n",
       "    }\n",
       "</style>\n",
       "<table border=\"1\" class=\"dataframe\">\n",
       "  <thead>\n",
       "    <tr style=\"text-align: right;\">\n",
       "      <th></th>\n",
       "      <th>IndexofMultipleDeprivationDecile</th>\n",
       "      <th>IncomeDecile</th>\n",
       "      <th>EmploymentDecile</th>\n",
       "      <th>EducationSkillsandTrainingDecile</th>\n",
       "      <th>HealthDeprivationandDisabilityDecile</th>\n",
       "      <th>CrimeDecile</th>\n",
       "      <th>BarrierstoHousingandServicesDecile</th>\n",
       "      <th>LivingEnvironmentDecile</th>\n",
       "    </tr>\n",
       "  </thead>\n",
       "  <tbody>\n",
       "    <tr>\n",
       "      <th>count</th>\n",
       "      <td>32844.000000</td>\n",
       "      <td>32844.000000</td>\n",
       "      <td>32844.000000</td>\n",
       "      <td>32844.000000</td>\n",
       "      <td>32844.000000</td>\n",
       "      <td>32844.000000</td>\n",
       "      <td>32844.000000</td>\n",
       "      <td>32844.000000</td>\n",
       "    </tr>\n",
       "    <tr>\n",
       "      <th>mean</th>\n",
       "      <td>5.500122</td>\n",
       "      <td>5.500122</td>\n",
       "      <td>5.500122</td>\n",
       "      <td>5.500122</td>\n",
       "      <td>5.500122</td>\n",
       "      <td>5.500122</td>\n",
       "      <td>5.500122</td>\n",
       "      <td>5.500122</td>\n",
       "    </tr>\n",
       "    <tr>\n",
       "      <th>std</th>\n",
       "      <td>2.872325</td>\n",
       "      <td>2.872325</td>\n",
       "      <td>2.872325</td>\n",
       "      <td>2.872325</td>\n",
       "      <td>2.872325</td>\n",
       "      <td>2.872325</td>\n",
       "      <td>2.872325</td>\n",
       "      <td>2.872325</td>\n",
       "    </tr>\n",
       "    <tr>\n",
       "      <th>min</th>\n",
       "      <td>1.000000</td>\n",
       "      <td>1.000000</td>\n",
       "      <td>1.000000</td>\n",
       "      <td>1.000000</td>\n",
       "      <td>1.000000</td>\n",
       "      <td>1.000000</td>\n",
       "      <td>1.000000</td>\n",
       "      <td>1.000000</td>\n",
       "    </tr>\n",
       "    <tr>\n",
       "      <th>25%</th>\n",
       "      <td>3.000000</td>\n",
       "      <td>3.000000</td>\n",
       "      <td>3.000000</td>\n",
       "      <td>3.000000</td>\n",
       "      <td>3.000000</td>\n",
       "      <td>3.000000</td>\n",
       "      <td>3.000000</td>\n",
       "      <td>3.000000</td>\n",
       "    </tr>\n",
       "    <tr>\n",
       "      <th>50%</th>\n",
       "      <td>5.500000</td>\n",
       "      <td>5.500000</td>\n",
       "      <td>5.500000</td>\n",
       "      <td>5.500000</td>\n",
       "      <td>5.500000</td>\n",
       "      <td>5.500000</td>\n",
       "      <td>5.500000</td>\n",
       "      <td>5.500000</td>\n",
       "    </tr>\n",
       "    <tr>\n",
       "      <th>75%</th>\n",
       "      <td>8.000000</td>\n",
       "      <td>8.000000</td>\n",
       "      <td>8.000000</td>\n",
       "      <td>8.000000</td>\n",
       "      <td>8.000000</td>\n",
       "      <td>8.000000</td>\n",
       "      <td>8.000000</td>\n",
       "      <td>8.000000</td>\n",
       "    </tr>\n",
       "    <tr>\n",
       "      <th>max</th>\n",
       "      <td>10.000000</td>\n",
       "      <td>10.000000</td>\n",
       "      <td>10.000000</td>\n",
       "      <td>10.000000</td>\n",
       "      <td>10.000000</td>\n",
       "      <td>10.000000</td>\n",
       "      <td>10.000000</td>\n",
       "      <td>10.000000</td>\n",
       "    </tr>\n",
       "  </tbody>\n",
       "</table>\n",
       "</div>"
      ],
      "text/plain": [
       "       IndexofMultipleDeprivationDecile  IncomeDecile  EmploymentDecile  \\\n",
       "count                      32844.000000  32844.000000      32844.000000   \n",
       "mean                           5.500122      5.500122          5.500122   \n",
       "std                            2.872325      2.872325          2.872325   \n",
       "min                            1.000000      1.000000          1.000000   \n",
       "25%                            3.000000      3.000000          3.000000   \n",
       "50%                            5.500000      5.500000          5.500000   \n",
       "75%                            8.000000      8.000000          8.000000   \n",
       "max                           10.000000     10.000000         10.000000   \n",
       "\n",
       "       EducationSkillsandTrainingDecile  HealthDeprivationandDisabilityDecile  \\\n",
       "count                      32844.000000                          32844.000000   \n",
       "mean                           5.500122                              5.500122   \n",
       "std                            2.872325                              2.872325   \n",
       "min                            1.000000                              1.000000   \n",
       "25%                            3.000000                              3.000000   \n",
       "50%                            5.500000                              5.500000   \n",
       "75%                            8.000000                              8.000000   \n",
       "max                           10.000000                             10.000000   \n",
       "\n",
       "       CrimeDecile   BarrierstoHousingandServicesDecile   \\\n",
       "count  32844.000000                         32844.000000   \n",
       "mean       5.500122                             5.500122   \n",
       "std        2.872325                             2.872325   \n",
       "min        1.000000                             1.000000   \n",
       "25%        3.000000                             3.000000   \n",
       "50%        5.500000                             5.500000   \n",
       "75%        8.000000                             8.000000   \n",
       "max       10.000000                            10.000000   \n",
       "\n",
       "       LivingEnvironmentDecile   \n",
       "count              32844.000000  \n",
       "mean                   5.500122  \n",
       "std                    2.872325  \n",
       "min                    1.000000  \n",
       "25%                    3.000000  \n",
       "50%                    5.500000  \n",
       "75%                    8.000000  \n",
       "max                   10.000000  "
      ]
     },
     "execution_count": 100,
     "metadata": {},
     "output_type": "execute_result"
    }
   ],
   "source": [
    "pd.read_csv('data/Deprivation_Index/example.csv').describe()"
   ]
  },
  {
   "cell_type": "markdown",
   "metadata": {},
   "source": [
    "# Create  dataset holding income data from the deprivation index files"
   ]
  },
  {
   "cell_type": "markdown",
   "metadata": {},
   "source": [
    "create a dataset containing the relevant data from the example.csv dataset"
   ]
  },
  {
   "cell_type": "code",
   "execution_count": 101,
   "metadata": {},
   "outputs": [
    {
     "data": {
      "text/html": [
       "<div>\n",
       "<style scoped>\n",
       "    .dataframe tbody tr th:only-of-type {\n",
       "        vertical-align: middle;\n",
       "    }\n",
       "\n",
       "    .dataframe tbody tr th {\n",
       "        vertical-align: top;\n",
       "    }\n",
       "\n",
       "    .dataframe thead th {\n",
       "        text-align: right;\n",
       "    }\n",
       "</style>\n",
       "<table border=\"1\" class=\"dataframe\">\n",
       "  <thead>\n",
       "    <tr style=\"text-align: right;\">\n",
       "      <th></th>\n",
       "      <th>LocalAuthorityDistrictname2013</th>\n",
       "      <th>IncomeDecile</th>\n",
       "    </tr>\n",
       "  </thead>\n",
       "  <tbody>\n",
       "    <tr>\n",
       "      <th>0</th>\n",
       "      <td>Adur</td>\n",
       "      <td>6</td>\n",
       "    </tr>\n",
       "    <tr>\n",
       "      <th>1</th>\n",
       "      <td>Adur</td>\n",
       "      <td>3</td>\n",
       "    </tr>\n",
       "    <tr>\n",
       "      <th>2</th>\n",
       "      <td>Adur</td>\n",
       "      <td>8</td>\n",
       "    </tr>\n",
       "    <tr>\n",
       "      <th>3</th>\n",
       "      <td>Adur</td>\n",
       "      <td>5</td>\n",
       "    </tr>\n",
       "    <tr>\n",
       "      <th>4</th>\n",
       "      <td>Adur</td>\n",
       "      <td>6</td>\n",
       "    </tr>\n",
       "  </tbody>\n",
       "</table>\n",
       "</div>"
      ],
      "text/plain": [
       "  LocalAuthorityDistrictname2013  IncomeDecile\n",
       "0                           Adur             6\n",
       "1                           Adur             3\n",
       "2                           Adur             8\n",
       "3                           Adur             5\n",
       "4                           Adur             6"
      ]
     },
     "execution_count": 101,
     "metadata": {},
     "output_type": "execute_result"
    }
   ],
   "source": [
    "income_df = pd.read_csv('data/Deprivation_Index/example.csv', thousands = ',', usecols = ['LocalAuthorityDistrictname2013', 'IncomeDecile'])\n",
    "income_df.head()"
   ]
  },
  {
   "cell_type": "markdown",
   "metadata": {},
   "source": [
    "Get a feel for the data through some initial tests"
   ]
  },
  {
   "cell_type": "code",
   "execution_count": 102,
   "metadata": {},
   "outputs": [
    {
     "data": {
      "text/html": [
       "<div>\n",
       "<style scoped>\n",
       "    .dataframe tbody tr th:only-of-type {\n",
       "        vertical-align: middle;\n",
       "    }\n",
       "\n",
       "    .dataframe tbody tr th {\n",
       "        vertical-align: top;\n",
       "    }\n",
       "\n",
       "    .dataframe thead th {\n",
       "        text-align: right;\n",
       "    }\n",
       "</style>\n",
       "<table border=\"1\" class=\"dataframe\">\n",
       "  <thead>\n",
       "    <tr style=\"text-align: right;\">\n",
       "      <th></th>\n",
       "      <th>IncomeDecile</th>\n",
       "    </tr>\n",
       "  </thead>\n",
       "  <tbody>\n",
       "    <tr>\n",
       "      <th>count</th>\n",
       "      <td>32844.000000</td>\n",
       "    </tr>\n",
       "    <tr>\n",
       "      <th>mean</th>\n",
       "      <td>5.500122</td>\n",
       "    </tr>\n",
       "    <tr>\n",
       "      <th>std</th>\n",
       "      <td>2.872325</td>\n",
       "    </tr>\n",
       "    <tr>\n",
       "      <th>min</th>\n",
       "      <td>1.000000</td>\n",
       "    </tr>\n",
       "    <tr>\n",
       "      <th>25%</th>\n",
       "      <td>3.000000</td>\n",
       "    </tr>\n",
       "    <tr>\n",
       "      <th>50%</th>\n",
       "      <td>5.500000</td>\n",
       "    </tr>\n",
       "    <tr>\n",
       "      <th>75%</th>\n",
       "      <td>8.000000</td>\n",
       "    </tr>\n",
       "    <tr>\n",
       "      <th>max</th>\n",
       "      <td>10.000000</td>\n",
       "    </tr>\n",
       "  </tbody>\n",
       "</table>\n",
       "</div>"
      ],
      "text/plain": [
       "       IncomeDecile\n",
       "count  32844.000000\n",
       "mean       5.500122\n",
       "std        2.872325\n",
       "min        1.000000\n",
       "25%        3.000000\n",
       "50%        5.500000\n",
       "75%        8.000000\n",
       "max       10.000000"
      ]
     },
     "execution_count": 102,
     "metadata": {},
     "output_type": "execute_result"
    }
   ],
   "source": [
    "income_df.describe()"
   ]
  },
  {
   "cell_type": "markdown",
   "metadata": {},
   "source": [
    "# Check and clean data in the dataset"
   ]
  },
  {
   "cell_type": "markdown",
   "metadata": {},
   "source": [
    "Check for invalid data types"
   ]
  },
  {
   "cell_type": "code",
   "execution_count": 103,
   "metadata": {},
   "outputs": [
    {
     "data": {
      "text/plain": [
       "array([ 6,  3,  8,  5, 10,  7,  2,  4,  9,  1])"
      ]
     },
     "execution_count": 103,
     "metadata": {},
     "output_type": "execute_result"
    }
   ],
   "source": [
    "income_df['IncomeDecile'].unique()"
   ]
  },
  {
   "cell_type": "code",
   "execution_count": 104,
   "metadata": {},
   "outputs": [
    {
     "data": {
      "text/plain": [
       "array(['Adur', 'Allerdale', 'Amber Valley', 'Arun', 'Ashfield', 'Ashford',\n",
       "       'Aylesbury Vale', 'Babergh', 'Barking and Dagenham', 'Barnet',\n",
       "       'Barnsley', 'Barrow-in-Furness', 'Basildon',\n",
       "       'Basingstoke and Deane', 'Bassetlaw',\n",
       "       'Bath and North East Somerset', 'Bedford', 'Bexley', 'Birmingham',\n",
       "       'Blaby', 'Blackburn with Darwen', 'Blackpool', 'Bolsover',\n",
       "       'Bolton', 'Boston', 'Bournemouth', 'Bracknell Forest', 'Bradford',\n",
       "       'Braintree', 'Breckland', 'Brent', 'Brentwood',\n",
       "       'Brighton and Hove', 'Bristol, City of', 'Broadland', 'Bromley',\n",
       "       'Bromsgrove', 'Broxbourne', 'Broxtowe', 'Burnley', 'Bury',\n",
       "       'Calderdale', 'Cambridge', 'Camden', 'Cannock Chase', 'Canterbury',\n",
       "       'Carlisle', 'Castle Point', 'Central Bedfordshire', 'Charnwood',\n",
       "       'Chelmsford', 'Cheltenham', 'Cherwell', 'Cheshire East',\n",
       "       'Cheshire West and Chester', 'Chesterfield', 'Chichester',\n",
       "       'Chiltern', 'Chorley', 'Christchurch', 'City of London',\n",
       "       'Colchester', 'Copeland', 'Corby', 'Cornwall', 'Cotswold',\n",
       "       'County Durham', 'Coventry', 'Craven', 'Crawley', 'Croydon',\n",
       "       'Dacorum', 'Darlington', 'Dartford', 'Daventry', 'Derby',\n",
       "       'Derbyshire Dales', 'Doncaster', 'Dover', 'Dudley', 'Ealing',\n",
       "       'East Cambridgeshire', 'East Devon', 'East Dorset',\n",
       "       'East Hampshire', 'East Hertfordshire', 'East Lindsey',\n",
       "       'East Northamptonshire', 'East Riding of Yorkshire',\n",
       "       'East Staffordshire', 'Eastbourne', 'Eastleigh', 'Eden',\n",
       "       'Elmbridge', 'Enfield', 'Epping Forest', 'Epsom and Ewell',\n",
       "       'Erewash', 'Exeter', 'Fareham', 'Fenland', 'Forest Heath',\n",
       "       'Forest of Dean', 'Fylde', 'Gateshead', 'Gedling', 'Gloucester',\n",
       "       'Gosport', 'Gravesham', 'Great Yarmouth', 'Greenwich', 'Guildford',\n",
       "       'Hackney', 'Halton', 'Hambleton', 'Hammersmith and Fulham',\n",
       "       'Harborough', 'Haringey', 'Harlow', 'Harrogate', 'Harrow', 'Hart',\n",
       "       'Hartlepool', 'Hastings', 'Havant', 'Havering',\n",
       "       'Herefordshire, County of', 'Hertsmere', 'High Peak', 'Hillingdon',\n",
       "       'Hinckley and Bosworth', 'Horsham', 'Hounslow', 'Huntingdonshire',\n",
       "       'Hyndburn', 'Ipswich', 'Isle of Wight', 'Isles of Scilly',\n",
       "       'Islington', 'Kensington and Chelsea', 'Kettering',\n",
       "       \"King's Lynn and West Norfolk\", 'Kingston upon Hull, City of',\n",
       "       'Kingston upon Thames', 'Kirklees', 'Knowsley', 'Lambeth',\n",
       "       'Lancaster', 'Leeds', 'Leicester', 'Lewes', 'Lewisham',\n",
       "       'Lichfield', 'Lincoln', 'Liverpool', 'Luton', 'Maidstone',\n",
       "       'Maldon', 'Malvern Hills', 'Manchester', 'Mansfield', 'Medway',\n",
       "       'Melton', 'Mendip', 'Merton', 'Mid Devon', 'Mid Suffolk',\n",
       "       'Mid Sussex', 'Middlesbrough', 'Milton Keynes', 'Mole Valley',\n",
       "       'New Forest', 'Newark and Sherwood', 'Newcastle upon Tyne',\n",
       "       'Newcastle-under-Lyme', 'Newham', 'North Devon', 'North Dorset',\n",
       "       'North East Derbyshire', 'North East Lincolnshire',\n",
       "       'North Hertfordshire', 'North Kesteven', 'North Lincolnshire',\n",
       "       'North Norfolk', 'North Somerset', 'North Tyneside',\n",
       "       'North Warwickshire', 'North West Leicestershire', 'Northampton',\n",
       "       'Northumberland', 'Norwich', 'Nottingham', 'Nuneaton and Bedworth',\n",
       "       'Oadby and Wigston', 'Oldham', 'Oxford', 'Pendle', 'Peterborough',\n",
       "       'Plymouth', 'Poole', 'Portsmouth', 'Preston', 'Purbeck', 'Reading',\n",
       "       'Redbridge', 'Redcar and Cleveland', 'Redditch',\n",
       "       'Reigate and Banstead', 'Ribble Valley', 'Richmond upon Thames',\n",
       "       'Richmondshire', 'Rochdale', 'Rochford', 'Rossendale', 'Rother',\n",
       "       'Rotherham', 'Rugby', 'Runnymede', 'Rushcliffe', 'Rushmoor',\n",
       "       'Rutland', 'Ryedale', 'Salford', 'Sandwell', 'Scarborough',\n",
       "       'Sedgemoor', 'Sefton', 'Selby', 'Sevenoaks', 'Sheffield',\n",
       "       'Shepway', 'Shropshire', 'Slough', 'Solihull', 'South Bucks',\n",
       "       'South Cambridgeshire', 'South Derbyshire',\n",
       "       'South Gloucestershire', 'South Hams', 'South Holland',\n",
       "       'South Kesteven', 'South Lakeland', 'South Norfolk',\n",
       "       'South Northamptonshire', 'South Oxfordshire', 'South Ribble',\n",
       "       'South Somerset', 'South Staffordshire', 'South Tyneside',\n",
       "       'Southampton', 'Southend-on-Sea', 'Southwark', 'Spelthorne',\n",
       "       'St Albans', 'St Edmundsbury', 'St. Helens', 'Stafford',\n",
       "       'Staffordshire Moorlands', 'Stevenage', 'Stockport',\n",
       "       'Stockton-on-Tees', 'Stoke-on-Trent', 'Stratford-on-Avon',\n",
       "       'Stroud', 'Suffolk Coastal', 'Sunderland', 'Surrey Heath',\n",
       "       'Sutton', 'Swale', 'Swindon', 'Tameside', 'Tamworth', 'Tandridge',\n",
       "       'Taunton Deane', 'Teignbridge', 'Telford and Wrekin', 'Tendring',\n",
       "       'Test Valley', 'Tewkesbury', 'Thanet', 'Three Rivers', 'Thurrock',\n",
       "       'Tonbridge and Malling', 'Torbay', 'Torridge', 'Tower Hamlets',\n",
       "       'Trafford', 'Tunbridge Wells', 'Uttlesford', 'Vale of White Horse',\n",
       "       'Wakefield', 'Walsall', 'Waltham Forest', 'Wandsworth',\n",
       "       'Warrington', 'Warwick', 'Watford', 'Waveney', 'Waverley',\n",
       "       'Wealden', 'Wellingborough', 'Welwyn Hatfield', 'West Berkshire',\n",
       "       'West Devon', 'West Dorset', 'West Lancashire', 'West Lindsey',\n",
       "       'West Oxfordshire', 'West Somerset', 'Westminster',\n",
       "       'Weymouth and Portland', 'Wigan', 'Wiltshire', 'Winchester',\n",
       "       'Windsor and Maidenhead', 'Wirral', 'Woking', 'Wokingham',\n",
       "       'Wolverhampton', 'Worcester', 'Worthing', 'Wychavon', 'Wycombe',\n",
       "       'Wyre', 'Wyre Forest', 'York'], dtype=object)"
      ]
     },
     "execution_count": 104,
     "metadata": {},
     "output_type": "execute_result"
    }
   ],
   "source": [
    "income_df['LocalAuthorityDistrictname2013'].unique()"
   ]
  },
  {
   "cell_type": "markdown",
   "metadata": {},
   "source": [
    "Check for null/NaN values"
   ]
  },
  {
   "cell_type": "code",
   "execution_count": 105,
   "metadata": {},
   "outputs": [
    {
     "data": {
      "text/html": [
       "<div>\n",
       "<style scoped>\n",
       "    .dataframe tbody tr th:only-of-type {\n",
       "        vertical-align: middle;\n",
       "    }\n",
       "\n",
       "    .dataframe tbody tr th {\n",
       "        vertical-align: top;\n",
       "    }\n",
       "\n",
       "    .dataframe thead th {\n",
       "        text-align: right;\n",
       "    }\n",
       "</style>\n",
       "<table border=\"1\" class=\"dataframe\">\n",
       "  <thead>\n",
       "    <tr style=\"text-align: right;\">\n",
       "      <th></th>\n",
       "      <th>LocalAuthorityDistrictname2013</th>\n",
       "      <th>IncomeDecile</th>\n",
       "    </tr>\n",
       "  </thead>\n",
       "  <tbody>\n",
       "  </tbody>\n",
       "</table>\n",
       "</div>"
      ],
      "text/plain": [
       "Empty DataFrame\n",
       "Columns: [LocalAuthorityDistrictname2013, IncomeDecile]\n",
       "Index: []"
      ]
     },
     "execution_count": 105,
     "metadata": {},
     "output_type": "execute_result"
    }
   ],
   "source": [
    "income_df[income_df.isnull().any(axis=1)]"
   ]
  },
  {
   "cell_type": "code",
   "execution_count": 106,
   "metadata": {},
   "outputs": [
    {
     "data": {
      "text/plain": [
       "LocalAuthorityDistrictname2013    object\n",
       "IncomeDecile                       int64\n",
       "dtype: object"
      ]
     },
     "execution_count": 106,
     "metadata": {},
     "output_type": "execute_result"
    }
   ],
   "source": [
    "income_df.dtypes"
   ]
  },
  {
   "cell_type": "markdown",
   "metadata": {},
   "source": [
    "# Create additional dataset holding educational data from the keystage 4 dataset"
   ]
  },
  {
   "cell_type": "code",
   "execution_count": 107,
   "metadata": {},
   "outputs": [
    {
     "data": {
      "text/html": [
       "<div>\n",
       "<style scoped>\n",
       "    .dataframe tbody tr th:only-of-type {\n",
       "        vertical-align: middle;\n",
       "    }\n",
       "\n",
       "    .dataframe tbody tr th {\n",
       "        vertical-align: top;\n",
       "    }\n",
       "\n",
       "    .dataframe thead th {\n",
       "        text-align: right;\n",
       "    }\n",
       "</style>\n",
       "<table border=\"1\" class=\"dataframe\">\n",
       "  <thead>\n",
       "    <tr style=\"text-align: right;\">\n",
       "      <th></th>\n",
       "      <th>LA_name</th>\n",
       "      <th>KS4_LEVEL2_all_15</th>\n",
       "    </tr>\n",
       "  </thead>\n",
       "  <tbody>\n",
       "    <tr>\n",
       "      <th>0</th>\n",
       "      <td>NaN</td>\n",
       "      <td>366152</td>\n",
       "    </tr>\n",
       "    <tr>\n",
       "      <th>1</th>\n",
       "      <td>NaN</td>\n",
       "      <td>17546</td>\n",
       "    </tr>\n",
       "    <tr>\n",
       "      <th>2</th>\n",
       "      <td>NaN</td>\n",
       "      <td>50437</td>\n",
       "    </tr>\n",
       "    <tr>\n",
       "      <th>3</th>\n",
       "      <td>NaN</td>\n",
       "      <td>36139</td>\n",
       "    </tr>\n",
       "    <tr>\n",
       "      <th>4</th>\n",
       "      <td>NaN</td>\n",
       "      <td>30734</td>\n",
       "    </tr>\n",
       "  </tbody>\n",
       "</table>\n",
       "</div>"
      ],
      "text/plain": [
       "  LA_name  KS4_LEVEL2_all_15\n",
       "0     NaN             366152\n",
       "1     NaN              17546\n",
       "2     NaN              50437\n",
       "3     NaN              36139\n",
       "4     NaN              30734"
      ]
     },
     "execution_count": 107,
     "metadata": {},
     "output_type": "execute_result"
    }
   ],
   "source": [
    "education_df = pd.read_csv('data/key-stage-4/SFR01_2016_Characteristics_Underlying_Data/SFR01_2016_UD_LA_1.csv', thousands =',', usecols =['LA_name', 'KS4_LEVEL2_all_15'])\n",
    "education_df.head()"
   ]
  },
  {
   "cell_type": "markdown",
   "metadata": {},
   "source": [
    "initial statistical check for educational data"
   ]
  },
  {
   "cell_type": "code",
   "execution_count": 108,
   "metadata": {},
   "outputs": [
    {
     "data": {
      "text/html": [
       "<div>\n",
       "<style scoped>\n",
       "    .dataframe tbody tr th:only-of-type {\n",
       "        vertical-align: middle;\n",
       "    }\n",
       "\n",
       "    .dataframe tbody tr th {\n",
       "        vertical-align: top;\n",
       "    }\n",
       "\n",
       "    .dataframe thead th {\n",
       "        text-align: right;\n",
       "    }\n",
       "</style>\n",
       "<table border=\"1\" class=\"dataframe\">\n",
       "  <thead>\n",
       "    <tr style=\"text-align: right;\">\n",
       "      <th></th>\n",
       "      <th>KS4_LEVEL2_all_15</th>\n",
       "    </tr>\n",
       "  </thead>\n",
       "  <tbody>\n",
       "    <tr>\n",
       "      <th>count</th>\n",
       "      <td>164.000000</td>\n",
       "    </tr>\n",
       "    <tr>\n",
       "      <th>mean</th>\n",
       "      <td>7026.213415</td>\n",
       "    </tr>\n",
       "    <tr>\n",
       "      <th>std</th>\n",
       "      <td>29854.171440</td>\n",
       "    </tr>\n",
       "    <tr>\n",
       "      <th>min</th>\n",
       "      <td>0.000000</td>\n",
       "    </tr>\n",
       "    <tr>\n",
       "      <th>25%</th>\n",
       "      <td>1267.750000</td>\n",
       "    </tr>\n",
       "    <tr>\n",
       "      <th>50%</th>\n",
       "      <td>1949.500000</td>\n",
       "    </tr>\n",
       "    <tr>\n",
       "      <th>75%</th>\n",
       "      <td>3411.000000</td>\n",
       "    </tr>\n",
       "    <tr>\n",
       "      <th>max</th>\n",
       "      <td>366152.000000</td>\n",
       "    </tr>\n",
       "  </tbody>\n",
       "</table>\n",
       "</div>"
      ],
      "text/plain": [
       "       KS4_LEVEL2_all_15\n",
       "count         164.000000\n",
       "mean         7026.213415\n",
       "std         29854.171440\n",
       "min             0.000000\n",
       "25%          1267.750000\n",
       "50%          1949.500000\n",
       "75%          3411.000000\n",
       "max        366152.000000"
      ]
     },
     "execution_count": 108,
     "metadata": {},
     "output_type": "execute_result"
    }
   ],
   "source": [
    "education_df.describe()"
   ]
  },
  {
   "cell_type": "markdown",
   "metadata": {},
   "source": [
    "# Check dataset data for invalid data and clean data"
   ]
  },
  {
   "cell_type": "code",
   "execution_count": 109,
   "metadata": {},
   "outputs": [
    {
     "data": {
      "text/plain": [
       "array([366152,  17546,  50437,  36139,  30734,  39600,  41871,  53843,\n",
       "        16968,  36875,  59914,  36068,   1383,   1463,   1479,   1049,\n",
       "         1769,    697,    835,   1066,   1485,   3322,    739,   2259,\n",
       "          566,   2801,   1193,   2163,   2546,   2239,   1453,   2785,\n",
       "         1768,   1455,   1278,   1999,   1679,   2241,   2466,    981,\n",
       "         1610,   8519,   1140,    713,   2825,   2504,   3513,   1313,\n",
       "         1930,   2143,   3377,   3211,   1824,   3014,   4953,   2576,\n",
       "         1288,   2467,   1099,   1129,   4554,   1261,   5205,   1628,\n",
       "         4849,   1978,    383,   5358,   1294,   5310,   4729,   7925,\n",
       "         2087,   2244,   1970,   2165,   1934,   1561,   5875,   1346,\n",
       "         1208,   3977,   2037,   1251,   4020,   1490,   1236,   1802,\n",
       "         3847,   1262,  10206,   1489,   1137,   9405,   5319,   4678,\n",
       "            0,    959,   1497,   1380,    815,    935,    574,   1267,\n",
       "         1318,   1726,   1789,   1199,   1145,   1411,   2794,   2341,\n",
       "         2130,   2459,   2538,   1965,   2385,   1539,   2041,   2065,\n",
       "         1966,   1268,   1063,   2481,   2550,    996,   2177,   1690,\n",
       "         4310,   1798,   3370,   1494,   9384,    998,   1157,    776,\n",
       "         1119,   1352,    752,   1217,   1240,  10415,   2094,    761,\n",
       "         4176,   7862,   5639,     16,   1434,   1975,   1517,   1835,\n",
       "         2876,   1095,   1131,   3571,   1336,   4822,   1657,    976,\n",
       "         3622,   4631,   3574])"
      ]
     },
     "execution_count": 109,
     "metadata": {},
     "output_type": "execute_result"
    }
   ],
   "source": [
    "education_df['KS4_LEVEL2_all_15'].unique()"
   ]
  },
  {
   "cell_type": "code",
   "execution_count": 110,
   "metadata": {},
   "outputs": [
    {
     "data": {
      "text/plain": [
       "array([nan, 'Gateshead', 'Newcastle upon Tyne', 'North Tyneside',\n",
       "       'South Tyneside', 'Sunderland', 'Hartlepool', 'Middlesbrough',\n",
       "       'Redcar and Cleveland', 'Stockton-on-Tees', 'County Durham',\n",
       "       'Darlington', 'Northumberland', 'Knowsley', 'Liverpool',\n",
       "       'St. Helens', 'Sefton', 'Wirral', 'Bolton', 'Bury', 'Manchester',\n",
       "       'Oldham', 'Rochdale', 'Salford', 'Stockport', 'Tameside',\n",
       "       'Trafford', 'Wigan', 'Halton', 'Warrington', 'Lancashire',\n",
       "       'Blackburn with Darwen', 'Blackpool', 'Cheshire East',\n",
       "       'Cheshire West and Chester', 'Cumbria', 'Barnsley', 'Doncaster',\n",
       "       'Rotherham', 'Sheffield', 'Bradford', 'Calderdale', 'Kirklees',\n",
       "       'Leeds', 'Wakefield', 'Kingston Upon Hull, City of',\n",
       "       'East Riding of Yorkshire', 'North East Lincolnshire',\n",
       "       'North Lincolnshire', 'North Yorkshire', 'York', 'Derbyshire',\n",
       "       'Derby', 'Leicestershire', 'Leicester', 'Rutland',\n",
       "       'Nottinghamshire', 'Nottingham', 'Lincolnshire',\n",
       "       'Northamptonshire', 'Birmingham', 'Coventry', 'Dudley', 'Sandwell',\n",
       "       'Solihull', 'Walsall', 'Wolverhampton', 'Staffordshire',\n",
       "       'Stoke-on-Trent', 'Herefordshire', 'Worcestershire', 'Shropshire',\n",
       "       'Telford and Wrekin', 'Warwickshire', 'Luton', 'Bedford',\n",
       "       'Central Bedfordshire', 'Cambridgeshire', 'Peterborough', 'Essex',\n",
       "       'Southend-on-Sea', 'Thurrock', 'Hertfordshire', 'Norfolk',\n",
       "       'Suffolk', 'City of London', 'Camden', 'Greenwich', 'Hackney',\n",
       "       'Hammersmith and Fulham', 'Islington', 'Kensington and Chelsea',\n",
       "       'Lambeth', 'Lewisham', 'Southwark', 'Tower Hamlets', 'Wandsworth',\n",
       "       'Westminster', 'Barking and Dagenham', 'Barnet', 'Bexley', 'Brent',\n",
       "       'Bromley', 'Croydon', 'Ealing', 'Enfield', 'Haringey', 'Harrow',\n",
       "       'Havering', 'Hillingdon', 'Hounslow', 'Kingston upon Thames',\n",
       "       'Merton', 'Newham', 'Redbridge', 'Richmond upon Thames', 'Sutton',\n",
       "       'Waltham Forest', 'Buckinghamshire', 'Milton Keynes',\n",
       "       'East Sussex', 'Brighton and Hove', 'Hampshire', 'Portsmouth',\n",
       "       'Southampton', 'Bracknell Forest', 'Windsor and Maidenhead',\n",
       "       'West Berkshire', 'Reading', 'Slough', 'Wokingham', 'Kent',\n",
       "       'Medway', 'Isle of Wight', 'Oxfordshire', 'Surrey', 'West Sussex',\n",
       "       'Isles of Scilly', 'Bath and North East Somerset',\n",
       "       'Bristol, City of', 'North Somerset', 'South Gloucestershire',\n",
       "       'Dorset', 'Poole', 'Bournemouth', 'Wiltshire', 'Swindon', 'Devon',\n",
       "       'Plymouth', 'Torbay', 'Cornwall', 'Gloucestershire', 'Somerset'],\n",
       "      dtype=object)"
      ]
     },
     "execution_count": 110,
     "metadata": {},
     "output_type": "execute_result"
    }
   ],
   "source": [
    "education_df['LA_name'].unique()"
   ]
  },
  {
   "cell_type": "markdown",
   "metadata": {},
   "source": [
    "group all NaN valued rows"
   ]
  },
  {
   "cell_type": "code",
   "execution_count": 111,
   "metadata": {},
   "outputs": [
    {
     "data": {
      "text/html": [
       "<div>\n",
       "<style scoped>\n",
       "    .dataframe tbody tr th:only-of-type {\n",
       "        vertical-align: middle;\n",
       "    }\n",
       "\n",
       "    .dataframe tbody tr th {\n",
       "        vertical-align: top;\n",
       "    }\n",
       "\n",
       "    .dataframe thead th {\n",
       "        text-align: right;\n",
       "    }\n",
       "</style>\n",
       "<table border=\"1\" class=\"dataframe\">\n",
       "  <thead>\n",
       "    <tr style=\"text-align: right;\">\n",
       "      <th></th>\n",
       "      <th>LA_name</th>\n",
       "      <th>KS4_LEVEL2_all_15</th>\n",
       "    </tr>\n",
       "  </thead>\n",
       "  <tbody>\n",
       "    <tr>\n",
       "      <th>0</th>\n",
       "      <td>NaN</td>\n",
       "      <td>366152</td>\n",
       "    </tr>\n",
       "    <tr>\n",
       "      <th>1</th>\n",
       "      <td>NaN</td>\n",
       "      <td>17546</td>\n",
       "    </tr>\n",
       "    <tr>\n",
       "      <th>2</th>\n",
       "      <td>NaN</td>\n",
       "      <td>50437</td>\n",
       "    </tr>\n",
       "    <tr>\n",
       "      <th>3</th>\n",
       "      <td>NaN</td>\n",
       "      <td>36139</td>\n",
       "    </tr>\n",
       "    <tr>\n",
       "      <th>4</th>\n",
       "      <td>NaN</td>\n",
       "      <td>30734</td>\n",
       "    </tr>\n",
       "    <tr>\n",
       "      <th>5</th>\n",
       "      <td>NaN</td>\n",
       "      <td>39600</td>\n",
       "    </tr>\n",
       "    <tr>\n",
       "      <th>6</th>\n",
       "      <td>NaN</td>\n",
       "      <td>41871</td>\n",
       "    </tr>\n",
       "    <tr>\n",
       "      <th>7</th>\n",
       "      <td>NaN</td>\n",
       "      <td>53843</td>\n",
       "    </tr>\n",
       "    <tr>\n",
       "      <th>8</th>\n",
       "      <td>NaN</td>\n",
       "      <td>16968</td>\n",
       "    </tr>\n",
       "    <tr>\n",
       "      <th>9</th>\n",
       "      <td>NaN</td>\n",
       "      <td>36875</td>\n",
       "    </tr>\n",
       "    <tr>\n",
       "      <th>10</th>\n",
       "      <td>NaN</td>\n",
       "      <td>59914</td>\n",
       "    </tr>\n",
       "    <tr>\n",
       "      <th>11</th>\n",
       "      <td>NaN</td>\n",
       "      <td>36068</td>\n",
       "    </tr>\n",
       "  </tbody>\n",
       "</table>\n",
       "</div>"
      ],
      "text/plain": [
       "   LA_name  KS4_LEVEL2_all_15\n",
       "0      NaN             366152\n",
       "1      NaN              17546\n",
       "2      NaN              50437\n",
       "3      NaN              36139\n",
       "4      NaN              30734\n",
       "5      NaN              39600\n",
       "6      NaN              41871\n",
       "7      NaN              53843\n",
       "8      NaN              16968\n",
       "9      NaN              36875\n",
       "10     NaN              59914\n",
       "11     NaN              36068"
      ]
     },
     "execution_count": 111,
     "metadata": {},
     "output_type": "execute_result"
    }
   ],
   "source": [
    "education_df[education_df.isnull().any(axis =1)]"
   ]
  },
  {
   "cell_type": "markdown",
   "metadata": {},
   "source": [
    "replace NaN with 'Unknown'"
   ]
  },
  {
   "cell_type": "code",
   "execution_count": 112,
   "metadata": {},
   "outputs": [],
   "source": [
    "education_df['LA_name'] = education_df['LA_name'].fillna('Unknown')"
   ]
  },
  {
   "cell_type": "markdown",
   "metadata": {},
   "source": [
    "check if changes have taken place"
   ]
  },
  {
   "cell_type": "code",
   "execution_count": 113,
   "metadata": {},
   "outputs": [
    {
     "data": {
      "text/plain": [
       "array(['Unknown', 'Gateshead', 'Newcastle upon Tyne', 'North Tyneside',\n",
       "       'South Tyneside', 'Sunderland', 'Hartlepool', 'Middlesbrough',\n",
       "       'Redcar and Cleveland', 'Stockton-on-Tees', 'County Durham',\n",
       "       'Darlington', 'Northumberland', 'Knowsley', 'Liverpool',\n",
       "       'St. Helens', 'Sefton', 'Wirral', 'Bolton', 'Bury', 'Manchester',\n",
       "       'Oldham', 'Rochdale', 'Salford', 'Stockport', 'Tameside',\n",
       "       'Trafford', 'Wigan', 'Halton', 'Warrington', 'Lancashire',\n",
       "       'Blackburn with Darwen', 'Blackpool', 'Cheshire East',\n",
       "       'Cheshire West and Chester', 'Cumbria', 'Barnsley', 'Doncaster',\n",
       "       'Rotherham', 'Sheffield', 'Bradford', 'Calderdale', 'Kirklees',\n",
       "       'Leeds', 'Wakefield', 'Kingston Upon Hull, City of',\n",
       "       'East Riding of Yorkshire', 'North East Lincolnshire',\n",
       "       'North Lincolnshire', 'North Yorkshire', 'York', 'Derbyshire',\n",
       "       'Derby', 'Leicestershire', 'Leicester', 'Rutland',\n",
       "       'Nottinghamshire', 'Nottingham', 'Lincolnshire',\n",
       "       'Northamptonshire', 'Birmingham', 'Coventry', 'Dudley', 'Sandwell',\n",
       "       'Solihull', 'Walsall', 'Wolverhampton', 'Staffordshire',\n",
       "       'Stoke-on-Trent', 'Herefordshire', 'Worcestershire', 'Shropshire',\n",
       "       'Telford and Wrekin', 'Warwickshire', 'Luton', 'Bedford',\n",
       "       'Central Bedfordshire', 'Cambridgeshire', 'Peterborough', 'Essex',\n",
       "       'Southend-on-Sea', 'Thurrock', 'Hertfordshire', 'Norfolk',\n",
       "       'Suffolk', 'City of London', 'Camden', 'Greenwich', 'Hackney',\n",
       "       'Hammersmith and Fulham', 'Islington', 'Kensington and Chelsea',\n",
       "       'Lambeth', 'Lewisham', 'Southwark', 'Tower Hamlets', 'Wandsworth',\n",
       "       'Westminster', 'Barking and Dagenham', 'Barnet', 'Bexley', 'Brent',\n",
       "       'Bromley', 'Croydon', 'Ealing', 'Enfield', 'Haringey', 'Harrow',\n",
       "       'Havering', 'Hillingdon', 'Hounslow', 'Kingston upon Thames',\n",
       "       'Merton', 'Newham', 'Redbridge', 'Richmond upon Thames', 'Sutton',\n",
       "       'Waltham Forest', 'Buckinghamshire', 'Milton Keynes',\n",
       "       'East Sussex', 'Brighton and Hove', 'Hampshire', 'Portsmouth',\n",
       "       'Southampton', 'Bracknell Forest', 'Windsor and Maidenhead',\n",
       "       'West Berkshire', 'Reading', 'Slough', 'Wokingham', 'Kent',\n",
       "       'Medway', 'Isle of Wight', 'Oxfordshire', 'Surrey', 'West Sussex',\n",
       "       'Isles of Scilly', 'Bath and North East Somerset',\n",
       "       'Bristol, City of', 'North Somerset', 'South Gloucestershire',\n",
       "       'Dorset', 'Poole', 'Bournemouth', 'Wiltshire', 'Swindon', 'Devon',\n",
       "       'Plymouth', 'Torbay', 'Cornwall', 'Gloucestershire', 'Somerset'],\n",
       "      dtype=object)"
      ]
     },
     "execution_count": 113,
     "metadata": {},
     "output_type": "execute_result"
    }
   ],
   "source": [
    "education_df['LA_name'].unique()"
   ]
  },
  {
   "cell_type": "code",
   "execution_count": 114,
   "metadata": {},
   "outputs": [
    {
     "data": {
      "text/html": [
       "<div>\n",
       "<style scoped>\n",
       "    .dataframe tbody tr th:only-of-type {\n",
       "        vertical-align: middle;\n",
       "    }\n",
       "\n",
       "    .dataframe tbody tr th {\n",
       "        vertical-align: top;\n",
       "    }\n",
       "\n",
       "    .dataframe thead th {\n",
       "        text-align: right;\n",
       "    }\n",
       "</style>\n",
       "<table border=\"1\" class=\"dataframe\">\n",
       "  <thead>\n",
       "    <tr style=\"text-align: right;\">\n",
       "      <th></th>\n",
       "      <th>LA_name</th>\n",
       "      <th>KS4_LEVEL2_all_15</th>\n",
       "    </tr>\n",
       "  </thead>\n",
       "  <tbody>\n",
       "    <tr>\n",
       "      <th>0</th>\n",
       "      <td>Unknown</td>\n",
       "      <td>366152</td>\n",
       "    </tr>\n",
       "    <tr>\n",
       "      <th>1</th>\n",
       "      <td>Unknown</td>\n",
       "      <td>17546</td>\n",
       "    </tr>\n",
       "    <tr>\n",
       "      <th>2</th>\n",
       "      <td>Unknown</td>\n",
       "      <td>50437</td>\n",
       "    </tr>\n",
       "    <tr>\n",
       "      <th>3</th>\n",
       "      <td>Unknown</td>\n",
       "      <td>36139</td>\n",
       "    </tr>\n",
       "    <tr>\n",
       "      <th>4</th>\n",
       "      <td>Unknown</td>\n",
       "      <td>30734</td>\n",
       "    </tr>\n",
       "  </tbody>\n",
       "</table>\n",
       "</div>"
      ],
      "text/plain": [
       "   LA_name  KS4_LEVEL2_all_15\n",
       "0  Unknown             366152\n",
       "1  Unknown              17546\n",
       "2  Unknown              50437\n",
       "3  Unknown              36139\n",
       "4  Unknown              30734"
      ]
     },
     "execution_count": 114,
     "metadata": {},
     "output_type": "execute_result"
    }
   ],
   "source": [
    "education_df.head()"
   ]
  },
  {
   "cell_type": "code",
   "execution_count": 115,
   "metadata": {},
   "outputs": [
    {
     "data": {
      "text/plain": [
       "LA_name              object\n",
       "KS4_LEVEL2_all_15     int64\n",
       "dtype: object"
      ]
     },
     "execution_count": 115,
     "metadata": {},
     "output_type": "execute_result"
    }
   ],
   "source": [
    "education_df.dtypes"
   ]
  },
  {
   "cell_type": "markdown",
   "metadata": {},
   "source": [
    "When conducting this investigation i will only be comparing data from local areas which are present in both datasets, any local area or region which is present in one dataset and not present in the second dataset will not be considered useful data and will not be included in the combined dataset "
   ]
  },
  {
   "cell_type": "markdown",
   "metadata": {},
   "source": [
    "Next i will identify the local areas which are present in both datasets and then Group the data from each together into a combined dataset containing these areas "
   ]
  },
  {
   "cell_type": "code",
   "execution_count": 116,
   "metadata": {},
   "outputs": [
    {
     "data": {
      "text/plain": [
       "{'Adur',\n",
       " 'Allerdale',\n",
       " 'Amber Valley',\n",
       " 'Arun',\n",
       " 'Ashfield',\n",
       " 'Ashford',\n",
       " 'Aylesbury Vale',\n",
       " 'Babergh',\n",
       " 'Barrow-in-Furness',\n",
       " 'Basildon',\n",
       " 'Basingstoke and Deane',\n",
       " 'Bassetlaw',\n",
       " 'Blaby',\n",
       " 'Bolsover',\n",
       " 'Boston',\n",
       " 'Braintree',\n",
       " 'Breckland',\n",
       " 'Brentwood',\n",
       " 'Broadland',\n",
       " 'Bromsgrove',\n",
       " 'Broxbourne',\n",
       " 'Broxtowe',\n",
       " 'Burnley',\n",
       " 'Cambridge',\n",
       " 'Cannock Chase',\n",
       " 'Canterbury',\n",
       " 'Carlisle',\n",
       " 'Castle Point',\n",
       " 'Charnwood',\n",
       " 'Chelmsford',\n",
       " 'Cheltenham',\n",
       " 'Cherwell',\n",
       " 'Chesterfield',\n",
       " 'Chichester',\n",
       " 'Chiltern',\n",
       " 'Chorley',\n",
       " 'Christchurch',\n",
       " 'Colchester',\n",
       " 'Copeland',\n",
       " 'Corby',\n",
       " 'Cotswold',\n",
       " 'Craven',\n",
       " 'Crawley',\n",
       " 'Dacorum',\n",
       " 'Dartford',\n",
       " 'Daventry',\n",
       " 'Derbyshire Dales',\n",
       " 'Dover',\n",
       " 'East Cambridgeshire',\n",
       " 'East Devon',\n",
       " 'East Dorset',\n",
       " 'East Hampshire',\n",
       " 'East Hertfordshire',\n",
       " 'East Lindsey',\n",
       " 'East Northamptonshire',\n",
       " 'East Staffordshire',\n",
       " 'Eastbourne',\n",
       " 'Eastleigh',\n",
       " 'Eden',\n",
       " 'Elmbridge',\n",
       " 'Epping Forest',\n",
       " 'Epsom and Ewell',\n",
       " 'Erewash',\n",
       " 'Exeter',\n",
       " 'Fareham',\n",
       " 'Fenland',\n",
       " 'Forest Heath',\n",
       " 'Forest of Dean',\n",
       " 'Fylde',\n",
       " 'Gedling',\n",
       " 'Gloucester',\n",
       " 'Gosport',\n",
       " 'Gravesham',\n",
       " 'Great Yarmouth',\n",
       " 'Guildford',\n",
       " 'Hambleton',\n",
       " 'Harborough',\n",
       " 'Harlow',\n",
       " 'Harrogate',\n",
       " 'Hart',\n",
       " 'Hastings',\n",
       " 'Havant',\n",
       " 'Herefordshire, County of',\n",
       " 'Hertsmere',\n",
       " 'High Peak',\n",
       " 'Hinckley and Bosworth',\n",
       " 'Horsham',\n",
       " 'Huntingdonshire',\n",
       " 'Hyndburn',\n",
       " 'Ipswich',\n",
       " 'Kettering',\n",
       " \"King's Lynn and West Norfolk\",\n",
       " 'Kingston upon Hull, City of',\n",
       " 'Lancaster',\n",
       " 'Lewes',\n",
       " 'Lichfield',\n",
       " 'Lincoln',\n",
       " 'Maidstone',\n",
       " 'Maldon',\n",
       " 'Malvern Hills',\n",
       " 'Mansfield',\n",
       " 'Melton',\n",
       " 'Mendip',\n",
       " 'Mid Devon',\n",
       " 'Mid Suffolk',\n",
       " 'Mid Sussex',\n",
       " 'Mole Valley',\n",
       " 'New Forest',\n",
       " 'Newark and Sherwood',\n",
       " 'Newcastle-under-Lyme',\n",
       " 'North Devon',\n",
       " 'North Dorset',\n",
       " 'North East Derbyshire',\n",
       " 'North Hertfordshire',\n",
       " 'North Kesteven',\n",
       " 'North Norfolk',\n",
       " 'North Warwickshire',\n",
       " 'North West Leicestershire',\n",
       " 'Northampton',\n",
       " 'Norwich',\n",
       " 'Nuneaton and Bedworth',\n",
       " 'Oadby and Wigston',\n",
       " 'Oxford',\n",
       " 'Pendle',\n",
       " 'Preston',\n",
       " 'Purbeck',\n",
       " 'Redditch',\n",
       " 'Reigate and Banstead',\n",
       " 'Ribble Valley',\n",
       " 'Richmondshire',\n",
       " 'Rochford',\n",
       " 'Rossendale',\n",
       " 'Rother',\n",
       " 'Rugby',\n",
       " 'Runnymede',\n",
       " 'Rushcliffe',\n",
       " 'Rushmoor',\n",
       " 'Ryedale',\n",
       " 'Scarborough',\n",
       " 'Sedgemoor',\n",
       " 'Selby',\n",
       " 'Sevenoaks',\n",
       " 'Shepway',\n",
       " 'South Bucks',\n",
       " 'South Cambridgeshire',\n",
       " 'South Derbyshire',\n",
       " 'South Hams',\n",
       " 'South Holland',\n",
       " 'South Kesteven',\n",
       " 'South Lakeland',\n",
       " 'South Norfolk',\n",
       " 'South Northamptonshire',\n",
       " 'South Oxfordshire',\n",
       " 'South Ribble',\n",
       " 'South Somerset',\n",
       " 'South Staffordshire',\n",
       " 'Spelthorne',\n",
       " 'St Albans',\n",
       " 'St Edmundsbury',\n",
       " 'Stafford',\n",
       " 'Staffordshire Moorlands',\n",
       " 'Stevenage',\n",
       " 'Stratford-on-Avon',\n",
       " 'Stroud',\n",
       " 'Suffolk Coastal',\n",
       " 'Surrey Heath',\n",
       " 'Swale',\n",
       " 'Tamworth',\n",
       " 'Tandridge',\n",
       " 'Taunton Deane',\n",
       " 'Teignbridge',\n",
       " 'Tendring',\n",
       " 'Test Valley',\n",
       " 'Tewkesbury',\n",
       " 'Thanet',\n",
       " 'Three Rivers',\n",
       " 'Tonbridge and Malling',\n",
       " 'Torridge',\n",
       " 'Tunbridge Wells',\n",
       " 'Uttlesford',\n",
       " 'Vale of White Horse',\n",
       " 'Warwick',\n",
       " 'Watford',\n",
       " 'Waveney',\n",
       " 'Waverley',\n",
       " 'Wealden',\n",
       " 'Wellingborough',\n",
       " 'Welwyn Hatfield',\n",
       " 'West Devon',\n",
       " 'West Dorset',\n",
       " 'West Lancashire',\n",
       " 'West Lindsey',\n",
       " 'West Oxfordshire',\n",
       " 'West Somerset',\n",
       " 'Weymouth and Portland',\n",
       " 'Winchester',\n",
       " 'Woking',\n",
       " 'Worcester',\n",
       " 'Worthing',\n",
       " 'Wychavon',\n",
       " 'Wycombe',\n",
       " 'Wyre',\n",
       " 'Wyre Forest'}"
      ]
     },
     "execution_count": 116,
     "metadata": {},
     "output_type": "execute_result"
    }
   ],
   "source": [
    "result_df = set(income_df['LocalAuthorityDistrictname2013']) - set(education_df['LA_name'])\n",
    "result_df"
   ]
  },
  {
   "cell_type": "code",
   "execution_count": 117,
   "metadata": {},
   "outputs": [
    {
     "data": {
      "text/plain": [
       "{'Buckinghamshire',\n",
       " 'Cambridgeshire',\n",
       " 'Cumbria',\n",
       " 'Derbyshire',\n",
       " 'Devon',\n",
       " 'Dorset',\n",
       " 'East Sussex',\n",
       " 'Essex',\n",
       " 'Gloucestershire',\n",
       " 'Hampshire',\n",
       " 'Herefordshire',\n",
       " 'Hertfordshire',\n",
       " 'Kent',\n",
       " 'Kingston Upon Hull, City of',\n",
       " 'Lancashire',\n",
       " 'Leicestershire',\n",
       " 'Lincolnshire',\n",
       " 'Norfolk',\n",
       " 'North Yorkshire',\n",
       " 'Northamptonshire',\n",
       " 'Nottinghamshire',\n",
       " 'Oxfordshire',\n",
       " 'Somerset',\n",
       " 'Staffordshire',\n",
       " 'Suffolk',\n",
       " 'Surrey',\n",
       " 'Unknown',\n",
       " 'Warwickshire',\n",
       " 'West Sussex',\n",
       " 'Worcestershire'}"
      ]
     },
     "execution_count": 117,
     "metadata": {},
     "output_type": "execute_result"
    }
   ],
   "source": [
    "result2_df = set(education_df['LA_name']) - set(income_df['LocalAuthorityDistrictname2013'])\n",
    "result2_df"
   ]
  },
  {
   "cell_type": "markdown",
   "metadata": {},
   "source": [
    "Merge the educational and low income datasets into one combined datasets"
   ]
  },
  {
   "cell_type": "markdown",
   "metadata": {},
   "source": []
  },
  {
   "cell_type": "code",
   "execution_count": 118,
   "metadata": {},
   "outputs": [
    {
     "data": {
      "text/html": [
       "<div>\n",
       "<style scoped>\n",
       "    .dataframe tbody tr th:only-of-type {\n",
       "        vertical-align: middle;\n",
       "    }\n",
       "\n",
       "    .dataframe tbody tr th {\n",
       "        vertical-align: top;\n",
       "    }\n",
       "\n",
       "    .dataframe thead th {\n",
       "        text-align: right;\n",
       "    }\n",
       "</style>\n",
       "<table border=\"1\" class=\"dataframe\">\n",
       "  <thead>\n",
       "    <tr style=\"text-align: right;\">\n",
       "      <th></th>\n",
       "      <th>LocalAuthorityDistrictname2013</th>\n",
       "      <th>IncomeDecile</th>\n",
       "      <th>LA_name</th>\n",
       "      <th>KS4_LEVEL2_all_15</th>\n",
       "    </tr>\n",
       "  </thead>\n",
       "  <tbody>\n",
       "    <tr>\n",
       "      <th>0</th>\n",
       "      <td>Barking and Dagenham</td>\n",
       "      <td>2</td>\n",
       "      <td>Barking and Dagenham</td>\n",
       "      <td>1411</td>\n",
       "    </tr>\n",
       "    <tr>\n",
       "      <th>1</th>\n",
       "      <td>Barking and Dagenham</td>\n",
       "      <td>1</td>\n",
       "      <td>Barking and Dagenham</td>\n",
       "      <td>1411</td>\n",
       "    </tr>\n",
       "    <tr>\n",
       "      <th>2</th>\n",
       "      <td>Barking and Dagenham</td>\n",
       "      <td>5</td>\n",
       "      <td>Barking and Dagenham</td>\n",
       "      <td>1411</td>\n",
       "    </tr>\n",
       "    <tr>\n",
       "      <th>3</th>\n",
       "      <td>Barking and Dagenham</td>\n",
       "      <td>1</td>\n",
       "      <td>Barking and Dagenham</td>\n",
       "      <td>1411</td>\n",
       "    </tr>\n",
       "    <tr>\n",
       "      <th>4</th>\n",
       "      <td>Barking and Dagenham</td>\n",
       "      <td>5</td>\n",
       "      <td>Barking and Dagenham</td>\n",
       "      <td>1411</td>\n",
       "    </tr>\n",
       "  </tbody>\n",
       "</table>\n",
       "</div>"
      ],
      "text/plain": [
       "  LocalAuthorityDistrictname2013  IncomeDecile               LA_name  \\\n",
       "0           Barking and Dagenham             2  Barking and Dagenham   \n",
       "1           Barking and Dagenham             1  Barking and Dagenham   \n",
       "2           Barking and Dagenham             5  Barking and Dagenham   \n",
       "3           Barking and Dagenham             1  Barking and Dagenham   \n",
       "4           Barking and Dagenham             5  Barking and Dagenham   \n",
       "\n",
       "   KS4_LEVEL2_all_15  \n",
       "0               1411  \n",
       "1               1411  \n",
       "2               1411  \n",
       "3               1411  \n",
       "4               1411  "
      ]
     },
     "execution_count": 118,
     "metadata": {},
     "output_type": "execute_result"
    }
   ],
   "source": [
    "combined_df = pd.merge(income_df, education_df, how = 'inner', left_on='LocalAuthorityDistrictname2013', right_on = 'LA_name')\n",
    "combined_df.head()"
   ]
  },
  {
   "cell_type": "code",
   "execution_count": 120,
   "metadata": {},
   "outputs": [],
   "source": [
    "combined_df.drop(['LA_name'], inplace = True, axis =1)"
   ]
  },
  {
   "cell_type": "code",
   "execution_count": 121,
   "metadata": {},
   "outputs": [
    {
     "data": {
      "text/html": [
       "<div>\n",
       "<style scoped>\n",
       "    .dataframe tbody tr th:only-of-type {\n",
       "        vertical-align: middle;\n",
       "    }\n",
       "\n",
       "    .dataframe tbody tr th {\n",
       "        vertical-align: top;\n",
       "    }\n",
       "\n",
       "    .dataframe thead th {\n",
       "        text-align: right;\n",
       "    }\n",
       "</style>\n",
       "<table border=\"1\" class=\"dataframe\">\n",
       "  <thead>\n",
       "    <tr style=\"text-align: right;\">\n",
       "      <th></th>\n",
       "      <th>LocalAuthorityDistrictname2013</th>\n",
       "      <th>IncomeDecile</th>\n",
       "      <th>KS4_LEVEL2_all_15</th>\n",
       "    </tr>\n",
       "  </thead>\n",
       "  <tbody>\n",
       "    <tr>\n",
       "      <th>0</th>\n",
       "      <td>Barking and Dagenham</td>\n",
       "      <td>2</td>\n",
       "      <td>1411</td>\n",
       "    </tr>\n",
       "    <tr>\n",
       "      <th>1</th>\n",
       "      <td>Barking and Dagenham</td>\n",
       "      <td>1</td>\n",
       "      <td>1411</td>\n",
       "    </tr>\n",
       "    <tr>\n",
       "      <th>2</th>\n",
       "      <td>Barking and Dagenham</td>\n",
       "      <td>5</td>\n",
       "      <td>1411</td>\n",
       "    </tr>\n",
       "    <tr>\n",
       "      <th>3</th>\n",
       "      <td>Barking and Dagenham</td>\n",
       "      <td>1</td>\n",
       "      <td>1411</td>\n",
       "    </tr>\n",
       "    <tr>\n",
       "      <th>4</th>\n",
       "      <td>Barking and Dagenham</td>\n",
       "      <td>5</td>\n",
       "      <td>1411</td>\n",
       "    </tr>\n",
       "  </tbody>\n",
       "</table>\n",
       "</div>"
      ],
      "text/plain": [
       "  LocalAuthorityDistrictname2013  IncomeDecile  KS4_LEVEL2_all_15\n",
       "0           Barking and Dagenham             2               1411\n",
       "1           Barking and Dagenham             1               1411\n",
       "2           Barking and Dagenham             5               1411\n",
       "3           Barking and Dagenham             1               1411\n",
       "4           Barking and Dagenham             5               1411"
      ]
     },
     "execution_count": 121,
     "metadata": {},
     "output_type": "execute_result"
    }
   ],
   "source": [
    "combined_df.head()"
   ]
  },
  {
   "cell_type": "markdown",
   "metadata": {},
   "source": [
    "# Statistical tests"
   ]
  },
  {
   "cell_type": "markdown",
   "metadata": {},
   "source": [
    "Next i will conduct some initial statistical tests over the combined dataset"
   ]
  },
  {
   "cell_type": "code",
   "execution_count": 122,
   "metadata": {},
   "outputs": [
    {
     "data": {
      "text/html": [
       "<div>\n",
       "<style scoped>\n",
       "    .dataframe tbody tr th:only-of-type {\n",
       "        vertical-align: middle;\n",
       "    }\n",
       "\n",
       "    .dataframe tbody tr th {\n",
       "        vertical-align: top;\n",
       "    }\n",
       "\n",
       "    .dataframe thead th {\n",
       "        text-align: right;\n",
       "    }\n",
       "</style>\n",
       "<table border=\"1\" class=\"dataframe\">\n",
       "  <thead>\n",
       "    <tr style=\"text-align: right;\">\n",
       "      <th></th>\n",
       "      <th>IncomeDecile</th>\n",
       "      <th>KS4_LEVEL2_all_15</th>\n",
       "    </tr>\n",
       "  </thead>\n",
       "  <tbody>\n",
       "    <tr>\n",
       "      <th>count</th>\n",
       "      <td>19330.000000</td>\n",
       "      <td>19330.000000</td>\n",
       "    </tr>\n",
       "    <tr>\n",
       "      <th>mean</th>\n",
       "      <td>4.859545</td>\n",
       "      <td>2182.622607</td>\n",
       "    </tr>\n",
       "    <tr>\n",
       "      <th>std</th>\n",
       "      <td>2.876829</td>\n",
       "      <td>1363.790507</td>\n",
       "    </tr>\n",
       "    <tr>\n",
       "      <th>min</th>\n",
       "      <td>1.000000</td>\n",
       "      <td>0.000000</td>\n",
       "    </tr>\n",
       "    <tr>\n",
       "      <th>25%</th>\n",
       "      <td>2.000000</td>\n",
       "      <td>1346.000000</td>\n",
       "    </tr>\n",
       "    <tr>\n",
       "      <th>50%</th>\n",
       "      <td>5.000000</td>\n",
       "      <td>1934.000000</td>\n",
       "    </tr>\n",
       "    <tr>\n",
       "      <th>75%</th>\n",
       "      <td>7.000000</td>\n",
       "      <td>2504.000000</td>\n",
       "    </tr>\n",
       "    <tr>\n",
       "      <th>max</th>\n",
       "      <td>10.000000</td>\n",
       "      <td>7925.000000</td>\n",
       "    </tr>\n",
       "  </tbody>\n",
       "</table>\n",
       "</div>"
      ],
      "text/plain": [
       "       IncomeDecile  KS4_LEVEL2_all_15\n",
       "count  19330.000000       19330.000000\n",
       "mean       4.859545        2182.622607\n",
       "std        2.876829        1363.790507\n",
       "min        1.000000           0.000000\n",
       "25%        2.000000        1346.000000\n",
       "50%        5.000000        1934.000000\n",
       "75%        7.000000        2504.000000\n",
       "max       10.000000        7925.000000"
      ]
     },
     "execution_count": 122,
     "metadata": {},
     "output_type": "execute_result"
    }
   ],
   "source": [
    "combined_df.describe()"
   ]
  },
  {
   "cell_type": "code",
   "execution_count": 123,
   "metadata": {},
   "outputs": [
    {
     "data": {
      "image/png": "[encoded data removed]",
      "text/plain": [
       "<Figure size 864x864 with 4 Axes>"
      ]
     },
     "metadata": {},
     "output_type": "display_data"
    }
   ],
   "source": [
    "pd.plotting.scatter_matrix(combined_df[['IncomeDecile', 'KS4_LEVEL2_all_15']], alpha = 0.8, figsize = (12,12), diagonal ='kde')\n",
    "plt.show()"
   ]
  },
  {
   "cell_type": "markdown",
   "metadata": {},
   "source": [
    "Find the pearson r value for the data"
   ]
  },
  {
   "cell_type": "code",
   "execution_count": 127,
   "metadata": {},
   "outputs": [
    {
     "data": {
      "text/plain": [
       "SpearmanrResult(correlation=-0.0034701279083854467, pvalue=0.6295002575966042)"
      ]
     },
     "execution_count": 127,
     "metadata": {},
     "output_type": "execute_result"
    }
   ],
   "source": [
    "scipy.stats.spearmanr(combined_df['IncomeDecile'], combined_df['KS4_LEVEL2_all_15'])"
   ]
  },
  {
   "cell_type": "markdown",
   "metadata": {},
   "source": [
    "# Visualisations"
   ]
  },
  {
   "cell_type": "markdown",
   "metadata": {},
   "source": [
    "Generate data to plot"
   ]
  },
  {
   "cell_type": "code",
   "execution_count": 131,
   "metadata": {},
   "outputs": [
    {
     "data": {
      "text/html": [
       "<div>\n",
       "<style scoped>\n",
       "    .dataframe tbody tr th:only-of-type {\n",
       "        vertical-align: middle;\n",
       "    }\n",
       "\n",
       "    .dataframe tbody tr th {\n",
       "        vertical-align: top;\n",
       "    }\n",
       "\n",
       "    .dataframe thead th {\n",
       "        text-align: right;\n",
       "    }\n",
       "</style>\n",
       "<table border=\"1\" class=\"dataframe\">\n",
       "  <thead>\n",
       "    <tr style=\"text-align: right;\">\n",
       "      <th></th>\n",
       "      <th>KS4_LEVEL2_all_15</th>\n",
       "    </tr>\n",
       "    <tr>\n",
       "      <th>IncomeDecile</th>\n",
       "      <th></th>\n",
       "    </tr>\n",
       "  </thead>\n",
       "  <tbody>\n",
       "    <tr>\n",
       "      <th>1</th>\n",
       "      <td>6911940</td>\n",
       "    </tr>\n",
       "    <tr>\n",
       "      <th>2</th>\n",
       "      <td>5539055</td>\n",
       "    </tr>\n",
       "    <tr>\n",
       "      <th>3</th>\n",
       "      <td>4712363</td>\n",
       "    </tr>\n",
       "    <tr>\n",
       "      <th>4</th>\n",
       "      <td>4394182</td>\n",
       "    </tr>\n",
       "    <tr>\n",
       "      <th>5</th>\n",
       "      <td>4068764</td>\n",
       "    </tr>\n",
       "  </tbody>\n",
       "</table>\n",
       "</div>"
      ],
      "text/plain": [
       "              KS4_LEVEL2_all_15\n",
       "IncomeDecile                   \n",
       "1                       6911940\n",
       "2                       5539055\n",
       "3                       4712363\n",
       "4                       4394182\n",
       "5                       4068764"
      ]
     },
     "execution_count": 131,
     "metadata": {},
     "output_type": "execute_result"
    }
   ],
   "source": [
    "result_df = combined_df[['IncomeDecile', 'KS4_LEVEL2_all_15']].groupby(by = 'IncomeDecile').sum()\n",
    "result_df.head()"
   ]
  },
  {
   "cell_type": "markdown",
   "metadata": {},
   "source": [
    "Plot data on a bar chart"
   ]
  },
  {
   "cell_type": "code",
   "execution_count": 135,
   "metadata": {},
   "outputs": [
    {
     "data": {
      "text/plain": [
       "Text(0.5, 1.0, 'Pupils KS4 attainment accross the income decile ranges')"
      ]
     },
     "execution_count": 135,
     "metadata": {},
     "output_type": "execute_result"
    },
    {
     "data": {
      "image/png": "[encoded data removed]",
      "text/plain": [
       "<Figure size 648x648 with 1 Axes>"
      ]
     },
     "metadata": {},
     "output_type": "display_data"
    }
   ],
   "source": [
    "result_df.plot.barh()\n",
    "plt.ylabel('Income Decile')\n",
    "plt.xlabel('Total KS4 attainment achieved')\n",
    "plt.title('Pupils KS4 attainment accross the income decile ranges')"
   ]
  },
  {
   "cell_type": "code",
   "execution_count": 136,
   "metadata": {},
   "outputs": [
    {
     "data": {
      "text/plain": [
       "Text(0.5, 1.0, 'KS4 attainment accross all income deciles')"
      ]
     },
     "execution_count": 136,
     "metadata": {},
     "output_type": "execute_result"
    },
    {
     "data": {
      "image/png": "[encoded data removed]",
      "text/plain": [
       "<Figure size 648x648 with 1 Axes>"
      ]
     },
     "metadata": {},
     "output_type": "display_data"
    }
   ],
   "source": [
    "result_df.plot()\n",
    "plt.ylabel('KS4 attainment')\n",
    "plt.title('KS4 attainment accross all income deciles')"
   ]
  },
  {
   "cell_type": "markdown",
   "metadata": {},
   "source": [
    "# Conclusion"
   ]
  },
  {
   "cell_type": "markdown",
   "metadata": {},
   "source": [
    "During this investigation it has become apparent that the KS4 educational attainment level for children is varied across the different regions of England, it has also highlight that there is a difference in attainment between 16 year old boys and girls. The results of the investigation are however limited by the data used, which has also been collected at different times and collaborated in different ways, to fully understand what impact income deprivation has on children’s educational attainment further data is needed on both variables with larger and  up to date data. This investigation set out to identify if income deprivation had a negative impact on the educational attainment achieved by children and upon studying the initial results from the data used it implies that in fact income deprivation has perhaps had a positive impact upon the attainment levels achieved but the findings does not produced enough grounds to confidently confirm this."
   ]
  }
 ],
 "metadata": {
  "kernelspec": {
   "display_name": "Python 3 (ipykernel)",
   "language": "python",
   "name": "python3"
  },
  "language_info": {
   "codemirror_mode": {
    "name": "ipython",
    "version": 3
   },
   "file_extension": ".py",
   "mimetype": "text/x-python",
   "name": "python",
   "nbconvert_exporter": "python",
   "pygments_lexer": "ipython3",
   "version": "3.9.12"
  }
 },
 "nbformat": 4,
 "nbformat_minor": 2
}
