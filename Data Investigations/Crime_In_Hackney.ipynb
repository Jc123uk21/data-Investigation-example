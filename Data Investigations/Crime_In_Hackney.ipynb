{
 "cells": [
  {
   "cell_type": "markdown",
   "id": "fcb128ae",
   "metadata": {},
   "source": [
    "<h1 style =\"font-size: 3rem;color: green;\">Data Investigation Into Crime In Hackney</h1>"
   ]
  },
  {
   "cell_type": "markdown",
   "id": "2c12e353",
   "metadata": {},
   "source": [
    "# Import Tools"
   ]
  },
  {
   "cell_type": "code",
   "execution_count": 3,
   "id": "2474280b",
   "metadata": {},
   "outputs": [],
   "source": [
    "import pandas as pd\n",
    "import numpy as nd\n",
    "import matplotlib.pyplot as plt\n",
    "import scipy.stats\n",
    "import seaborn as sns\n",
    "from scipy.stats import spearmanr"
   ]
  },
  {
   "cell_type": "markdown",
   "id": "52954f67",
   "metadata": {},
   "source": [
    "# Data Descriptive Tests"
   ]
  },
  {
   "cell_type": "code",
   "execution_count": 5,
   "id": "25740662",
   "metadata": {},
   "outputs": [
    {
     "name": "stderr",
     "output_type": "stream",
     "text": [
      "'ls' is not recognized as an internal or external command,\n",
      "operable program or batch file.\n"
     ]
    }
   ],
   "source": [
    "!ls 'Data/Deprivation_Index'"
   ]
  },
  {
   "cell_type": "code",
   "execution_count": 7,
   "id": "65f57987",
   "metadata": {},
   "outputs": [
    {
     "data": {
      "text/plain": [
       "['LSOAcode2011',\n",
       " 'LSOAname2011',\n",
       " 'LocalAuthorityDistrictcode2013',\n",
       " 'LocalAuthorityDistrictname2013',\n",
       " 'IndexofMultipleDeprivationRank',\n",
       " 'IndexofMultipleDeprivationDecile',\n",
       " 'IncomeRank',\n",
       " 'IncomeDecile',\n",
       " 'EmploymentRank',\n",
       " 'EmploymentDecile',\n",
       " 'EducationSkillsandTrainingRank ',\n",
       " 'EducationSkillsandTrainingDecile',\n",
       " 'HealthDeprivationandDisabilityRank',\n",
       " 'HealthDeprivationandDisabilityDecile',\n",
       " 'CrimeRank',\n",
       " 'CrimeDecile ',\n",
       " 'BarrierstoHousingandServicesRank ',\n",
       " 'BarrierstoHousingandServicesDecile ',\n",
       " 'LivingEnvironmentRank ',\n",
       " 'LivingEnvironmentDecile ']"
      ]
     },
     "execution_count": 7,
     "metadata": {},
     "output_type": "execute_result"
    }
   ],
   "source": [
    "list(pd.read_csv('Data/Deprivation_Index/example.csv').columns)"
   ]
  },
  {
   "cell_type": "code",
   "execution_count": 8,
   "id": "57990611",
   "metadata": {},
   "outputs": [
    {
     "name": "stderr",
     "output_type": "stream",
     "text": [
      "'tail' is not recognized as an internal or external command,\n",
      "operable program or batch file.\n"
     ]
    }
   ],
   "source": [
    "! tail 'Data/Deprivation_Index/example.csv'"
   ]
  },
  {
   "cell_type": "code",
   "execution_count": 9,
   "id": "b7fdddcf",
   "metadata": {},
   "outputs": [
    {
     "data": {
      "text/plain": [
       "array(['Adur', 'Allerdale', 'Amber Valley', 'Arun', 'Ashfield', 'Ashford',\n",
       "       'Aylesbury Vale', 'Babergh', 'Barking and Dagenham', 'Barnet',\n",
       "       'Barnsley', 'Barrow-in-Furness', 'Basildon',\n",
       "       'Basingstoke and Deane', 'Bassetlaw',\n",
       "       'Bath and North East Somerset', 'Bedford', 'Bexley', 'Birmingham',\n",
       "       'Blaby', 'Blackburn with Darwen', 'Blackpool', 'Bolsover',\n",
       "       'Bolton', 'Boston', 'Bournemouth', 'Bracknell Forest', 'Bradford',\n",
       "       'Braintree', 'Breckland', 'Brent', 'Brentwood',\n",
       "       'Brighton and Hove', 'Bristol, City of', 'Broadland', 'Bromley',\n",
       "       'Bromsgrove', 'Broxbourne', 'Broxtowe', 'Burnley', 'Bury',\n",
       "       'Calderdale', 'Cambridge', 'Camden', 'Cannock Chase', 'Canterbury',\n",
       "       'Carlisle', 'Castle Point', 'Central Bedfordshire', 'Charnwood',\n",
       "       'Chelmsford', 'Cheltenham', 'Cherwell', 'Cheshire East',\n",
       "       'Cheshire West and Chester', 'Chesterfield', 'Chichester',\n",
       "       'Chiltern', 'Chorley', 'Christchurch', 'City of London',\n",
       "       'Colchester', 'Copeland', 'Corby', 'Cornwall', 'Cotswold',\n",
       "       'County Durham', 'Coventry', 'Craven', 'Crawley', 'Croydon',\n",
       "       'Dacorum', 'Darlington', 'Dartford', 'Daventry', 'Derby',\n",
       "       'Derbyshire Dales', 'Doncaster', 'Dover', 'Dudley', 'Ealing',\n",
       "       'East Cambridgeshire', 'East Devon', 'East Dorset',\n",
       "       'East Hampshire', 'East Hertfordshire', 'East Lindsey',\n",
       "       'East Northamptonshire', 'East Riding of Yorkshire',\n",
       "       'East Staffordshire', 'Eastbourne', 'Eastleigh', 'Eden',\n",
       "       'Elmbridge', 'Enfield', 'Epping Forest', 'Epsom and Ewell',\n",
       "       'Erewash', 'Exeter', 'Fareham', 'Fenland', 'Forest Heath',\n",
       "       'Forest of Dean', 'Fylde', 'Gateshead', 'Gedling', 'Gloucester',\n",
       "       'Gosport', 'Gravesham', 'Great Yarmouth', 'Greenwich', 'Guildford',\n",
       "       'Hackney', 'Halton', 'Hambleton', 'Hammersmith and Fulham',\n",
       "       'Harborough', 'Haringey', 'Harlow', 'Harrogate', 'Harrow', 'Hart',\n",
       "       'Hartlepool', 'Hastings', 'Havant', 'Havering',\n",
       "       'Herefordshire, County of', 'Hertsmere', 'High Peak', 'Hillingdon',\n",
       "       'Hinckley and Bosworth', 'Horsham', 'Hounslow', 'Huntingdonshire',\n",
       "       'Hyndburn', 'Ipswich', 'Isle of Wight', 'Isles of Scilly',\n",
       "       'Islington', 'Kensington and Chelsea', 'Kettering',\n",
       "       \"King's Lynn and West Norfolk\", 'Kingston upon Hull, City of',\n",
       "       'Kingston upon Thames', 'Kirklees', 'Knowsley', 'Lambeth',\n",
       "       'Lancaster', 'Leeds', 'Leicester', 'Lewes', 'Lewisham',\n",
       "       'Lichfield', 'Lincoln', 'Liverpool', 'Luton', 'Maidstone',\n",
       "       'Maldon', 'Malvern Hills', 'Manchester', 'Mansfield', 'Medway',\n",
       "       'Melton', 'Mendip', 'Merton', 'Mid Devon', 'Mid Suffolk',\n",
       "       'Mid Sussex', 'Middlesbrough', 'Milton Keynes', 'Mole Valley',\n",
       "       'New Forest', 'Newark and Sherwood', 'Newcastle upon Tyne',\n",
       "       'Newcastle-under-Lyme', 'Newham', 'North Devon', 'North Dorset',\n",
       "       'North East Derbyshire', 'North East Lincolnshire',\n",
       "       'North Hertfordshire', 'North Kesteven', 'North Lincolnshire',\n",
       "       'North Norfolk', 'North Somerset', 'North Tyneside',\n",
       "       'North Warwickshire', 'North West Leicestershire', 'Northampton',\n",
       "       'Northumberland', 'Norwich', 'Nottingham', 'Nuneaton and Bedworth',\n",
       "       'Oadby and Wigston', 'Oldham', 'Oxford', 'Pendle', 'Peterborough',\n",
       "       'Plymouth', 'Poole', 'Portsmouth', 'Preston', 'Purbeck', 'Reading',\n",
       "       'Redbridge', 'Redcar and Cleveland', 'Redditch',\n",
       "       'Reigate and Banstead', 'Ribble Valley', 'Richmond upon Thames',\n",
       "       'Richmondshire', 'Rochdale', 'Rochford', 'Rossendale', 'Rother',\n",
       "       'Rotherham', 'Rugby', 'Runnymede', 'Rushcliffe', 'Rushmoor',\n",
       "       'Rutland', 'Ryedale', 'Salford', 'Sandwell', 'Scarborough',\n",
       "       'Sedgemoor', 'Sefton', 'Selby', 'Sevenoaks', 'Sheffield',\n",
       "       'Shepway', 'Shropshire', 'Slough', 'Solihull', 'South Bucks',\n",
       "       'South Cambridgeshire', 'South Derbyshire',\n",
       "       'South Gloucestershire', 'South Hams', 'South Holland',\n",
       "       'South Kesteven', 'South Lakeland', 'South Norfolk',\n",
       "       'South Northamptonshire', 'South Oxfordshire', 'South Ribble',\n",
       "       'South Somerset', 'South Staffordshire', 'South Tyneside',\n",
       "       'Southampton', 'Southend-on-Sea', 'Southwark', 'Spelthorne',\n",
       "       'St Albans', 'St Edmundsbury', 'St. Helens', 'Stafford',\n",
       "       'Staffordshire Moorlands', 'Stevenage', 'Stockport',\n",
       "       'Stockton-on-Tees', 'Stoke-on-Trent', 'Stratford-on-Avon',\n",
       "       'Stroud', 'Suffolk Coastal', 'Sunderland', 'Surrey Heath',\n",
       "       'Sutton', 'Swale', 'Swindon', 'Tameside', 'Tamworth', 'Tandridge',\n",
       "       'Taunton Deane', 'Teignbridge', 'Telford and Wrekin', 'Tendring',\n",
       "       'Test Valley', 'Tewkesbury', 'Thanet', 'Three Rivers', 'Thurrock',\n",
       "       'Tonbridge and Malling', 'Torbay', 'Torridge', 'Tower Hamlets',\n",
       "       'Trafford', 'Tunbridge Wells', 'Uttlesford', 'Vale of White Horse',\n",
       "       'Wakefield', 'Walsall', 'Waltham Forest', 'Wandsworth',\n",
       "       'Warrington', 'Warwick', 'Watford', 'Waveney', 'Waverley',\n",
       "       'Wealden', 'Wellingborough', 'Welwyn Hatfield', 'West Berkshire',\n",
       "       'West Devon', 'West Dorset', 'West Lancashire', 'West Lindsey',\n",
       "       'West Oxfordshire', 'West Somerset', 'Westminster',\n",
       "       'Weymouth and Portland', 'Wigan', 'Wiltshire', 'Winchester',\n",
       "       'Windsor and Maidenhead', 'Wirral', 'Woking', 'Wokingham',\n",
       "       'Wolverhampton', 'Worcester', 'Worthing', 'Wychavon', 'Wycombe',\n",
       "       'Wyre', 'Wyre Forest', 'York'], dtype=object)"
      ]
     },
     "execution_count": 9,
     "metadata": {},
     "output_type": "execute_result"
    }
   ],
   "source": [
    "pd.unique(pd.read_csv('Data/Deprivation_Index/example.csv')['LocalAuthorityDistrictname2013'])"
   ]
  },
  {
   "cell_type": "code",
   "execution_count": 10,
   "id": "92107f8c",
   "metadata": {},
   "outputs": [
    {
     "data": {
      "text/html": [
       "<div>\n",
       "<style scoped>\n",
       "    .dataframe tbody tr th:only-of-type {\n",
       "        vertical-align: middle;\n",
       "    }\n",
       "\n",
       "    .dataframe tbody tr th {\n",
       "        vertical-align: top;\n",
       "    }\n",
       "\n",
       "    .dataframe thead th {\n",
       "        text-align: right;\n",
       "    }\n",
       "</style>\n",
       "<table border=\"1\" class=\"dataframe\">\n",
       "  <thead>\n",
       "    <tr style=\"text-align: right;\">\n",
       "      <th></th>\n",
       "      <th>IndexofMultipleDeprivationDecile</th>\n",
       "      <th>IncomeDecile</th>\n",
       "      <th>EmploymentDecile</th>\n",
       "      <th>EducationSkillsandTrainingDecile</th>\n",
       "      <th>HealthDeprivationandDisabilityDecile</th>\n",
       "      <th>CrimeDecile</th>\n",
       "      <th>BarrierstoHousingandServicesDecile</th>\n",
       "      <th>LivingEnvironmentDecile</th>\n",
       "    </tr>\n",
       "  </thead>\n",
       "  <tbody>\n",
       "    <tr>\n",
       "      <th>count</th>\n",
       "      <td>32844.000000</td>\n",
       "      <td>32844.000000</td>\n",
       "      <td>32844.000000</td>\n",
       "      <td>32844.000000</td>\n",
       "      <td>32844.000000</td>\n",
       "      <td>32844.000000</td>\n",
       "      <td>32844.000000</td>\n",
       "      <td>32844.000000</td>\n",
       "    </tr>\n",
       "    <tr>\n",
       "      <th>mean</th>\n",
       "      <td>5.500122</td>\n",
       "      <td>5.500122</td>\n",
       "      <td>5.500122</td>\n",
       "      <td>5.500122</td>\n",
       "      <td>5.500122</td>\n",
       "      <td>5.500122</td>\n",
       "      <td>5.500122</td>\n",
       "      <td>5.500122</td>\n",
       "    </tr>\n",
       "    <tr>\n",
       "      <th>std</th>\n",
       "      <td>2.872325</td>\n",
       "      <td>2.872325</td>\n",
       "      <td>2.872325</td>\n",
       "      <td>2.872325</td>\n",
       "      <td>2.872325</td>\n",
       "      <td>2.872325</td>\n",
       "      <td>2.872325</td>\n",
       "      <td>2.872325</td>\n",
       "    </tr>\n",
       "    <tr>\n",
       "      <th>min</th>\n",
       "      <td>1.000000</td>\n",
       "      <td>1.000000</td>\n",
       "      <td>1.000000</td>\n",
       "      <td>1.000000</td>\n",
       "      <td>1.000000</td>\n",
       "      <td>1.000000</td>\n",
       "      <td>1.000000</td>\n",
       "      <td>1.000000</td>\n",
       "    </tr>\n",
       "    <tr>\n",
       "      <th>25%</th>\n",
       "      <td>3.000000</td>\n",
       "      <td>3.000000</td>\n",
       "      <td>3.000000</td>\n",
       "      <td>3.000000</td>\n",
       "      <td>3.000000</td>\n",
       "      <td>3.000000</td>\n",
       "      <td>3.000000</td>\n",
       "      <td>3.000000</td>\n",
       "    </tr>\n",
       "    <tr>\n",
       "      <th>50%</th>\n",
       "      <td>5.500000</td>\n",
       "      <td>5.500000</td>\n",
       "      <td>5.500000</td>\n",
       "      <td>5.500000</td>\n",
       "      <td>5.500000</td>\n",
       "      <td>5.500000</td>\n",
       "      <td>5.500000</td>\n",
       "      <td>5.500000</td>\n",
       "    </tr>\n",
       "    <tr>\n",
       "      <th>75%</th>\n",
       "      <td>8.000000</td>\n",
       "      <td>8.000000</td>\n",
       "      <td>8.000000</td>\n",
       "      <td>8.000000</td>\n",
       "      <td>8.000000</td>\n",
       "      <td>8.000000</td>\n",
       "      <td>8.000000</td>\n",
       "      <td>8.000000</td>\n",
       "    </tr>\n",
       "    <tr>\n",
       "      <th>max</th>\n",
       "      <td>10.000000</td>\n",
       "      <td>10.000000</td>\n",
       "      <td>10.000000</td>\n",
       "      <td>10.000000</td>\n",
       "      <td>10.000000</td>\n",
       "      <td>10.000000</td>\n",
       "      <td>10.000000</td>\n",
       "      <td>10.000000</td>\n",
       "    </tr>\n",
       "  </tbody>\n",
       "</table>\n",
       "</div>"
      ],
      "text/plain": [
       "       IndexofMultipleDeprivationDecile  IncomeDecile  EmploymentDecile  \\\n",
       "count                      32844.000000  32844.000000      32844.000000   \n",
       "mean                           5.500122      5.500122          5.500122   \n",
       "std                            2.872325      2.872325          2.872325   \n",
       "min                            1.000000      1.000000          1.000000   \n",
       "25%                            3.000000      3.000000          3.000000   \n",
       "50%                            5.500000      5.500000          5.500000   \n",
       "75%                            8.000000      8.000000          8.000000   \n",
       "max                           10.000000     10.000000         10.000000   \n",
       "\n",
       "       EducationSkillsandTrainingDecile  HealthDeprivationandDisabilityDecile  \\\n",
       "count                      32844.000000                          32844.000000   \n",
       "mean                           5.500122                              5.500122   \n",
       "std                            2.872325                              2.872325   \n",
       "min                            1.000000                              1.000000   \n",
       "25%                            3.000000                              3.000000   \n",
       "50%                            5.500000                              5.500000   \n",
       "75%                            8.000000                              8.000000   \n",
       "max                           10.000000                             10.000000   \n",
       "\n",
       "       CrimeDecile   BarrierstoHousingandServicesDecile   \\\n",
       "count  32844.000000                         32844.000000   \n",
       "mean       5.500122                             5.500122   \n",
       "std        2.872325                             2.872325   \n",
       "min        1.000000                             1.000000   \n",
       "25%        3.000000                             3.000000   \n",
       "50%        5.500000                             5.500000   \n",
       "75%        8.000000                             8.000000   \n",
       "max       10.000000                            10.000000   \n",
       "\n",
       "       LivingEnvironmentDecile   \n",
       "count              32844.000000  \n",
       "mean                   5.500122  \n",
       "std                    2.872325  \n",
       "min                    1.000000  \n",
       "25%                    3.000000  \n",
       "50%                    5.500000  \n",
       "75%                    8.000000  \n",
       "max                   10.000000  "
      ]
     },
     "execution_count": 10,
     "metadata": {},
     "output_type": "execute_result"
    }
   ],
   "source": [
    "pd.read_csv('Data/Deprivation_Index/example.csv').describe()"
   ]
  },
  {
   "cell_type": "markdown",
   "id": "3e95a333",
   "metadata": {},
   "source": [
    "##### Table 1a, aggregation for investigated dataset"
   ]
  },
  {
   "cell_type": "markdown",
   "id": "0a01a524",
   "metadata": {},
   "source": [
    "I am going to try and identify whether there is a postive pattern betweeen crime and employment in hackney from the dataset"
   ]
  },
  {
   "cell_type": "markdown",
   "id": "8ad1873c",
   "metadata": {},
   "source": [
    "### Create dataframe to hold our data"
   ]
  },
  {
   "cell_type": "code",
   "execution_count": 11,
   "id": "04d70092",
   "metadata": {},
   "outputs": [],
   "source": [
    "example = pd.DataFrame(pd.read_csv('data/Deprivation_Index/example.csv', thousands= ',', usecols = ['LocalAuthorityDistrictname2013', 'EmploymentRank','CrimeRank',]))"
   ]
  },
  {
   "cell_type": "markdown",
   "id": "4b1bcbef",
   "metadata": {},
   "source": [
    "Check the created dataframe"
   ]
  },
  {
   "cell_type": "code",
   "execution_count": 12,
   "id": "54764711",
   "metadata": {},
   "outputs": [
    {
     "data": {
      "text/html": [
       "<div>\n",
       "<style scoped>\n",
       "    .dataframe tbody tr th:only-of-type {\n",
       "        vertical-align: middle;\n",
       "    }\n",
       "\n",
       "    .dataframe tbody tr th {\n",
       "        vertical-align: top;\n",
       "    }\n",
       "\n",
       "    .dataframe thead th {\n",
       "        text-align: right;\n",
       "    }\n",
       "</style>\n",
       "<table border=\"1\" class=\"dataframe\">\n",
       "  <thead>\n",
       "    <tr style=\"text-align: right;\">\n",
       "      <th></th>\n",
       "      <th>LocalAuthorityDistrictname2013</th>\n",
       "      <th>EmploymentRank</th>\n",
       "      <th>CrimeRank</th>\n",
       "    </tr>\n",
       "  </thead>\n",
       "  <tbody>\n",
       "    <tr>\n",
       "      <th>0</th>\n",
       "      <td>Adur</td>\n",
       "      <td>19305</td>\n",
       "      <td>12817</td>\n",
       "    </tr>\n",
       "    <tr>\n",
       "      <th>1</th>\n",
       "      <td>Adur</td>\n",
       "      <td>7879</td>\n",
       "      <td>12781</td>\n",
       "    </tr>\n",
       "    <tr>\n",
       "      <th>2</th>\n",
       "      <td>Adur</td>\n",
       "      <td>23389</td>\n",
       "      <td>9112</td>\n",
       "    </tr>\n",
       "    <tr>\n",
       "      <th>3</th>\n",
       "      <td>Adur</td>\n",
       "      <td>13699</td>\n",
       "      <td>16127</td>\n",
       "    </tr>\n",
       "    <tr>\n",
       "      <th>4</th>\n",
       "      <td>Adur</td>\n",
       "      <td>13322</td>\n",
       "      <td>13723</td>\n",
       "    </tr>\n",
       "  </tbody>\n",
       "</table>\n",
       "</div>"
      ],
      "text/plain": [
       "  LocalAuthorityDistrictname2013  EmploymentRank  CrimeRank\n",
       "0                           Adur           19305      12817\n",
       "1                           Adur            7879      12781\n",
       "2                           Adur           23389       9112\n",
       "3                           Adur           13699      16127\n",
       "4                           Adur           13322      13723"
      ]
     },
     "execution_count": 12,
     "metadata": {},
     "output_type": "execute_result"
    }
   ],
   "source": [
    "example.head()"
   ]
  },
  {
   "cell_type": "markdown",
   "id": "d1255272",
   "metadata": {},
   "source": [
    "###### Table 1b, head of table created to hold all district data on variables"
   ]
  },
  {
   "cell_type": "markdown",
   "id": "5f0df022",
   "metadata": {},
   "source": [
    "Create table from the required dataframe data"
   ]
  },
  {
   "cell_type": "code",
   "execution_count": 13,
   "id": "6f9943be",
   "metadata": {},
   "outputs": [
    {
     "data": {
      "text/html": [
       "<div>\n",
       "<style scoped>\n",
       "    .dataframe tbody tr th:only-of-type {\n",
       "        vertical-align: middle;\n",
       "    }\n",
       "\n",
       "    .dataframe tbody tr th {\n",
       "        vertical-align: top;\n",
       "    }\n",
       "\n",
       "    .dataframe thead th {\n",
       "        text-align: right;\n",
       "    }\n",
       "</style>\n",
       "<table border=\"1\" class=\"dataframe\">\n",
       "  <thead>\n",
       "    <tr style=\"text-align: right;\">\n",
       "      <th></th>\n",
       "      <th>LocalAuthorityDistrictname2013</th>\n",
       "      <th>EmploymentRank</th>\n",
       "      <th>CrimeRank</th>\n",
       "    </tr>\n",
       "  </thead>\n",
       "  <tbody>\n",
       "    <tr>\n",
       "      <th>11686</th>\n",
       "      <td>Hackney</td>\n",
       "      <td>23133</td>\n",
       "      <td>10432</td>\n",
       "    </tr>\n",
       "    <tr>\n",
       "      <th>11687</th>\n",
       "      <td>Hackney</td>\n",
       "      <td>19005</td>\n",
       "      <td>8873</td>\n",
       "    </tr>\n",
       "    <tr>\n",
       "      <th>11688</th>\n",
       "      <td>Hackney</td>\n",
       "      <td>13309</td>\n",
       "      <td>12379</td>\n",
       "    </tr>\n",
       "    <tr>\n",
       "      <th>11689</th>\n",
       "      <td>Hackney</td>\n",
       "      <td>10318</td>\n",
       "      <td>22591</td>\n",
       "    </tr>\n",
       "    <tr>\n",
       "      <th>11690</th>\n",
       "      <td>Hackney</td>\n",
       "      <td>17097</td>\n",
       "      <td>20559</td>\n",
       "    </tr>\n",
       "    <tr>\n",
       "      <th>...</th>\n",
       "      <td>...</td>\n",
       "      <td>...</td>\n",
       "      <td>...</td>\n",
       "    </tr>\n",
       "    <tr>\n",
       "      <th>11825</th>\n",
       "      <td>Hackney</td>\n",
       "      <td>15108</td>\n",
       "      <td>17424</td>\n",
       "    </tr>\n",
       "    <tr>\n",
       "      <th>11826</th>\n",
       "      <td>Hackney</td>\n",
       "      <td>6390</td>\n",
       "      <td>9161</td>\n",
       "    </tr>\n",
       "    <tr>\n",
       "      <th>11827</th>\n",
       "      <td>Hackney</td>\n",
       "      <td>12536</td>\n",
       "      <td>16229</td>\n",
       "    </tr>\n",
       "    <tr>\n",
       "      <th>11828</th>\n",
       "      <td>Hackney</td>\n",
       "      <td>3178</td>\n",
       "      <td>4648</td>\n",
       "    </tr>\n",
       "    <tr>\n",
       "      <th>11829</th>\n",
       "      <td>Hackney</td>\n",
       "      <td>4602</td>\n",
       "      <td>8844</td>\n",
       "    </tr>\n",
       "  </tbody>\n",
       "</table>\n",
       "<p>144 rows × 3 columns</p>\n",
       "</div>"
      ],
      "text/plain": [
       "      LocalAuthorityDistrictname2013  EmploymentRank  CrimeRank\n",
       "11686                        Hackney           23133      10432\n",
       "11687                        Hackney           19005       8873\n",
       "11688                        Hackney           13309      12379\n",
       "11689                        Hackney           10318      22591\n",
       "11690                        Hackney           17097      20559\n",
       "...                              ...             ...        ...\n",
       "11825                        Hackney           15108      17424\n",
       "11826                        Hackney            6390       9161\n",
       "11827                        Hackney           12536      16229\n",
       "11828                        Hackney            3178       4648\n",
       "11829                        Hackney            4602       8844\n",
       "\n",
       "[144 rows x 3 columns]"
      ]
     },
     "execution_count": 13,
     "metadata": {},
     "output_type": "execute_result"
    }
   ],
   "source": [
    "hackney = example[example['LocalAuthorityDistrictname2013'] == 'Hackney']\n",
    "hackney"
   ]
  },
  {
   "cell_type": "markdown",
   "id": "670aa221",
   "metadata": {},
   "source": [
    "###### Table 1c, dataset to hold all data on a single area of intrest"
   ]
  },
  {
   "cell_type": "markdown",
   "id": "d6cd80d0",
   "metadata": {},
   "source": [
    "### Brief insight into the data being used"
   ]
  },
  {
   "cell_type": "code",
   "execution_count": 14,
   "id": "b4f1501e",
   "metadata": {},
   "outputs": [
    {
     "data": {
      "image/png": "[encoded data removed]",
      "text/plain": [
       "<Figure size 432x288 with 1 Axes>"
      ]
     },
     "metadata": {
      "needs_background": "light"
     },
     "output_type": "display_data"
    }
   ],
   "source": [
    "plt.scatter(hackney.EmploymentRank, hackney.CrimeRank)\n",
    "plt.ylabel('EmploymentRank')\n",
    "plt.xlabel('CrimeRank')\n",
    "plt.title('Employment and crime in hackney')\n",
    "plt.show()"
   ]
  },
  {
   "cell_type": "markdown",
   "id": "9a549131",
   "metadata": {},
   "source": [
    "##### Figure 1a, scatterplot of employment rank and crime rank in hackney"
   ]
  },
  {
   "cell_type": "code",
   "execution_count": 15,
   "id": "0a426c0c",
   "metadata": {},
   "outputs": [
    {
     "data": {
      "text/html": [
       "<div>\n",
       "<style scoped>\n",
       "    .dataframe tbody tr th:only-of-type {\n",
       "        vertical-align: middle;\n",
       "    }\n",
       "\n",
       "    .dataframe tbody tr th {\n",
       "        vertical-align: top;\n",
       "    }\n",
       "\n",
       "    .dataframe thead th {\n",
       "        text-align: right;\n",
       "    }\n",
       "</style>\n",
       "<table border=\"1\" class=\"dataframe\">\n",
       "  <thead>\n",
       "    <tr style=\"text-align: right;\">\n",
       "      <th></th>\n",
       "      <th>EmploymentRank</th>\n",
       "      <th>CrimeRank</th>\n",
       "    </tr>\n",
       "  </thead>\n",
       "  <tbody>\n",
       "    <tr>\n",
       "      <th>count</th>\n",
       "      <td>144.000000</td>\n",
       "      <td>144.000000</td>\n",
       "    </tr>\n",
       "    <tr>\n",
       "      <th>mean</th>\n",
       "      <td>10350.784722</td>\n",
       "      <td>5668.638889</td>\n",
       "    </tr>\n",
       "    <tr>\n",
       "      <th>std</th>\n",
       "      <td>6202.404191</td>\n",
       "      <td>5130.471946</td>\n",
       "    </tr>\n",
       "    <tr>\n",
       "      <th>min</th>\n",
       "      <td>530.000000</td>\n",
       "      <td>68.000000</td>\n",
       "    </tr>\n",
       "    <tr>\n",
       "      <th>25%</th>\n",
       "      <td>6152.250000</td>\n",
       "      <td>1697.750000</td>\n",
       "    </tr>\n",
       "    <tr>\n",
       "      <th>50%</th>\n",
       "      <td>9368.500000</td>\n",
       "      <td>4147.500000</td>\n",
       "    </tr>\n",
       "    <tr>\n",
       "      <th>75%</th>\n",
       "      <td>12692.500000</td>\n",
       "      <td>8747.750000</td>\n",
       "    </tr>\n",
       "    <tr>\n",
       "      <th>max</th>\n",
       "      <td>31284.000000</td>\n",
       "      <td>22591.000000</td>\n",
       "    </tr>\n",
       "  </tbody>\n",
       "</table>\n",
       "</div>"
      ],
      "text/plain": [
       "       EmploymentRank     CrimeRank\n",
       "count      144.000000    144.000000\n",
       "mean     10350.784722   5668.638889\n",
       "std       6202.404191   5130.471946\n",
       "min        530.000000     68.000000\n",
       "25%       6152.250000   1697.750000\n",
       "50%       9368.500000   4147.500000\n",
       "75%      12692.500000   8747.750000\n",
       "max      31284.000000  22591.000000"
      ]
     },
     "execution_count": 15,
     "metadata": {},
     "output_type": "execute_result"
    }
   ],
   "source": [
    "hackney.describe()"
   ]
  },
  {
   "cell_type": "markdown",
   "id": "54f65396",
   "metadata": {},
   "source": [
    "Get the spearmans r value for the between the of variable"
   ]
  },
  {
   "cell_type": "code",
   "execution_count": 16,
   "id": "06ab335c",
   "metadata": {},
   "outputs": [
    {
     "data": {
      "text/plain": [
       "SpearmanrResult(correlation=0.11495458564424081, pvalue=0.1700680301535048)"
      ]
     },
     "execution_count": 16,
     "metadata": {},
     "output_type": "execute_result"
    }
   ],
   "source": [
    "scipy.stats.spearmanr(hackney['EmploymentRank'], hackney['CrimeRank'])"
   ]
  },
  {
   "cell_type": "markdown",
   "id": "5ea8ebd1",
   "metadata": {},
   "source": [
    "group by lower income rank"
   ]
  },
  {
   "cell_type": "code",
   "execution_count": 17,
   "id": "01fc54ca",
   "metadata": {},
   "outputs": [
    {
     "data": {
      "text/html": [
       "<div>\n",
       "<style scoped>\n",
       "    .dataframe tbody tr th:only-of-type {\n",
       "        vertical-align: middle;\n",
       "    }\n",
       "\n",
       "    .dataframe tbody tr th {\n",
       "        vertical-align: top;\n",
       "    }\n",
       "\n",
       "    .dataframe thead th {\n",
       "        text-align: right;\n",
       "    }\n",
       "</style>\n",
       "<table border=\"1\" class=\"dataframe\">\n",
       "  <thead>\n",
       "    <tr style=\"text-align: right;\">\n",
       "      <th></th>\n",
       "      <th>LocalAuthorityDistrictname2013</th>\n",
       "      <th>EmploymentRank</th>\n",
       "      <th>CrimeRank</th>\n",
       "    </tr>\n",
       "  </thead>\n",
       "  <tbody>\n",
       "    <tr>\n",
       "      <th>11691</th>\n",
       "      <td>Hackney</td>\n",
       "      <td>2112</td>\n",
       "      <td>1202</td>\n",
       "    </tr>\n",
       "    <tr>\n",
       "      <th>11692</th>\n",
       "      <td>Hackney</td>\n",
       "      <td>4570</td>\n",
       "      <td>3606</td>\n",
       "    </tr>\n",
       "    <tr>\n",
       "      <th>11693</th>\n",
       "      <td>Hackney</td>\n",
       "      <td>3612</td>\n",
       "      <td>1870</td>\n",
       "    </tr>\n",
       "    <tr>\n",
       "      <th>11694</th>\n",
       "      <td>Hackney</td>\n",
       "      <td>3772</td>\n",
       "      <td>1477</td>\n",
       "    </tr>\n",
       "    <tr>\n",
       "      <th>11708</th>\n",
       "      <td>Hackney</td>\n",
       "      <td>11996</td>\n",
       "      <td>4423</td>\n",
       "    </tr>\n",
       "  </tbody>\n",
       "</table>\n",
       "</div>"
      ],
      "text/plain": [
       "      LocalAuthorityDistrictname2013  EmploymentRank  CrimeRank\n",
       "11691                        Hackney            2112       1202\n",
       "11692                        Hackney            4570       3606\n",
       "11693                        Hackney            3612       1870\n",
       "11694                        Hackney            3772       1477\n",
       "11708                        Hackney           11996       4423"
      ]
     },
     "execution_count": 17,
     "metadata": {},
     "output_type": "execute_result"
    }
   ],
   "source": [
    "grouped = hackney[hackney['CrimeRank'] <= 6000]\n",
    "grouped.head()"
   ]
  },
  {
   "cell_type": "code",
   "execution_count": 18,
   "id": "5158b6d8",
   "metadata": {},
   "outputs": [
    {
     "data": {
      "text/html": [
       "<div>\n",
       "<style scoped>\n",
       "    .dataframe tbody tr th:only-of-type {\n",
       "        vertical-align: middle;\n",
       "    }\n",
       "\n",
       "    .dataframe tbody tr th {\n",
       "        vertical-align: top;\n",
       "    }\n",
       "\n",
       "    .dataframe thead th {\n",
       "        text-align: right;\n",
       "    }\n",
       "</style>\n",
       "<table border=\"1\" class=\"dataframe\">\n",
       "  <thead>\n",
       "    <tr style=\"text-align: right;\">\n",
       "      <th></th>\n",
       "      <th>EmploymentRank</th>\n",
       "      <th>CrimeRank</th>\n",
       "    </tr>\n",
       "  </thead>\n",
       "  <tbody>\n",
       "    <tr>\n",
       "      <th>count</th>\n",
       "      <td>93.000000</td>\n",
       "      <td>93.000000</td>\n",
       "    </tr>\n",
       "    <tr>\n",
       "      <th>mean</th>\n",
       "      <td>9851.129032</td>\n",
       "      <td>2538.709677</td>\n",
       "    </tr>\n",
       "    <tr>\n",
       "      <th>std</th>\n",
       "      <td>6336.413005</td>\n",
       "      <td>1735.804397</td>\n",
       "    </tr>\n",
       "    <tr>\n",
       "      <th>min</th>\n",
       "      <td>530.000000</td>\n",
       "      <td>68.000000</td>\n",
       "    </tr>\n",
       "    <tr>\n",
       "      <th>25%</th>\n",
       "      <td>5449.000000</td>\n",
       "      <td>1112.000000</td>\n",
       "    </tr>\n",
       "    <tr>\n",
       "      <th>50%</th>\n",
       "      <td>8571.000000</td>\n",
       "      <td>2243.000000</td>\n",
       "    </tr>\n",
       "    <tr>\n",
       "      <th>75%</th>\n",
       "      <td>12134.000000</td>\n",
       "      <td>3940.000000</td>\n",
       "    </tr>\n",
       "    <tr>\n",
       "      <th>max</th>\n",
       "      <td>31284.000000</td>\n",
       "      <td>5914.000000</td>\n",
       "    </tr>\n",
       "  </tbody>\n",
       "</table>\n",
       "</div>"
      ],
      "text/plain": [
       "       EmploymentRank    CrimeRank\n",
       "count       93.000000    93.000000\n",
       "mean      9851.129032  2538.709677\n",
       "std       6336.413005  1735.804397\n",
       "min        530.000000    68.000000\n",
       "25%       5449.000000  1112.000000\n",
       "50%       8571.000000  2243.000000\n",
       "75%      12134.000000  3940.000000\n",
       "max      31284.000000  5914.000000"
      ]
     },
     "execution_count": 18,
     "metadata": {},
     "output_type": "execute_result"
    }
   ],
   "source": [
    "grouped.describe()"
   ]
  },
  {
   "cell_type": "markdown",
   "id": "e4061c6e",
   "metadata": {},
   "source": [
    "The description shows an even count but a difference in mean and std"
   ]
  },
  {
   "cell_type": "markdown",
   "id": "0697782f",
   "metadata": {},
   "source": [
    "# Statistical Tests"
   ]
  },
  {
   "cell_type": "markdown",
   "id": "bc54a771",
   "metadata": {},
   "source": [
    "##### Scatter Matrix"
   ]
  },
  {
   "cell_type": "markdown",
   "id": "d05f9ecf",
   "metadata": {},
   "source": [
    "Now lets check out a scatter matrix for the grouped data"
   ]
  },
  {
   "cell_type": "code",
   "execution_count": 19,
   "id": "7b32b588",
   "metadata": {},
   "outputs": [
    {
     "data": {
      "image/png": "[encoded data removed]",
      "text/plain": [
       "<Figure size 864x864 with 4 Axes>"
      ]
     },
     "metadata": {
      "needs_background": "light"
     },
     "output_type": "display_data"
    }
   ],
   "source": [
    "pd.plotting.scatter_matrix(grouped, alpha = 0.8, figsize = (12,12), diagonal ='kde')\n",
    "plt.show()"
   ]
  },
  {
   "cell_type": "markdown",
   "id": "c0c65e53",
   "metadata": {},
   "source": [
    "##### Figure 1b, scatter matrix showing plots for grouped data"
   ]
  },
  {
   "cell_type": "markdown",
   "id": "117cdbf9",
   "metadata": {},
   "source": [
    "##### Pearson's r value"
   ]
  },
  {
   "cell_type": "markdown",
   "id": "33b73bab",
   "metadata": {},
   "source": [
    "Now lets check out Pearson's r value"
   ]
  },
  {
   "cell_type": "code",
   "execution_count": 20,
   "id": "579cf0cf",
   "metadata": {},
   "outputs": [
    {
     "data": {
      "text/plain": [
       "(-0.05824565766151585, 0.5791853294737527)"
      ]
     },
     "execution_count": 20,
     "metadata": {},
     "output_type": "execute_result"
    }
   ],
   "source": [
    "scipy.stats.pearsonr(grouped['EmploymentRank'],\n",
    "                    grouped['CrimeRank'])"
   ]
  },
  {
   "cell_type": "markdown",
   "id": "2fd40036",
   "metadata": {},
   "source": [
    "Now lets plot the r value"
   ]
  },
  {
   "cell_type": "code",
   "execution_count": 21,
   "id": "d4767530",
   "metadata": {},
   "outputs": [
    {
     "data": {
      "text/plain": [
       "(0.0, 32821.982055919136)"
      ]
     },
     "execution_count": 21,
     "metadata": {},
     "output_type": "execute_result"
    },
    {
     "data": {
      "image/png": "[encoded data removed]",
      "text/plain": [
       "<Figure size 360x360 with 1 Axes>"
      ]
     },
     "metadata": {
      "needs_background": "light"
     },
     "output_type": "display_data"
    }
   ],
   "source": [
    "sns.lmplot(x=\"EmploymentRank\", y = \"CrimeRank\", data = grouped,\n",
    "        x_jitter = 0.3, y_jitter = 0.3, scatter_kws={'s':1})\n",
    "plt.xlim(0, None)"
   ]
  },
  {
   "cell_type": "markdown",
   "id": "dda8139d",
   "metadata": {},
   "source": [
    "##### Figure 1c, plot of pearson r value for the grouped data"
   ]
  },
  {
   "cell_type": "markdown",
   "id": "6f3a32e2",
   "metadata": {},
   "source": [
    "##### Spearman's r value"
   ]
  },
  {
   "cell_type": "markdown",
   "id": "88883633",
   "metadata": {},
   "source": [
    "now to check the spearmans r value for the grouped data"
   ]
  },
  {
   "cell_type": "code",
   "execution_count": 22,
   "id": "51f79578",
   "metadata": {},
   "outputs": [
    {
     "data": {
      "text/plain": [
       "SpearmanrResult(correlation=-0.10944167586762554, pvalue=0.29635413087585194)"
      ]
     },
     "execution_count": 22,
     "metadata": {},
     "output_type": "execute_result"
    }
   ],
   "source": [
    "scipy.stats.spearmanr(grouped['EmploymentRank'], grouped['CrimeRank'])"
   ]
  },
  {
   "cell_type": "markdown",
   "id": "8b3c92bd",
   "metadata": {},
   "source": [
    "##### Chi2"
   ]
  },
  {
   "cell_type": "code",
   "execution_count": 23,
   "id": "22bae710",
   "metadata": {},
   "outputs": [
    {
     "data": {
      "text/plain": [
       "'chi2: 167494.58799531602, p: 0.0'"
      ]
     },
     "execution_count": 23,
     "metadata": {},
     "output_type": "execute_result"
    }
   ],
   "source": [
    "result = grouped['EmploymentRank'],grouped['CrimeRank']\n",
    "chi2, p, _, _ = scipy.stats.chi2_contingency(result)\n",
    "'chi2: {}, p: {}'.format(chi2, p)"
   ]
  },
  {
   "cell_type": "markdown",
   "id": "bf7c4f84",
   "metadata": {},
   "source": [
    "##### Histogram"
   ]
  },
  {
   "cell_type": "markdown",
   "id": "3144b7d9",
   "metadata": {},
   "source": [
    "Now to plot an histogram of the groped data"
   ]
  },
  {
   "cell_type": "code",
   "execution_count": 24,
   "id": "a4988d98",
   "metadata": {},
   "outputs": [
    {
     "data": {
      "text/plain": [
       "<AxesSubplot:ylabel='Frequency'>"
      ]
     },
     "execution_count": 24,
     "metadata": {},
     "output_type": "execute_result"
    },
    {
     "data": {
      "image/png": "[encoded data removed]",
      "text/plain": [
       "<Figure size 432x288 with 1 Axes>"
      ]
     },
     "metadata": {
      "needs_background": "light"
     },
     "output_type": "display_data"
    }
   ],
   "source": [
    "grouped.plot.hist()"
   ]
  },
  {
   "cell_type": "markdown",
   "id": "a6b115a6",
   "metadata": {},
   "source": [
    "Figure 1d, hist for hackney's grouped data"
   ]
  },
  {
   "cell_type": "markdown",
   "id": "44b2a3cf",
   "metadata": {},
   "source": []
  },
  {
   "cell_type": "code",
   "execution_count": null,
   "id": "9ab18b1e",
   "metadata": {},
   "outputs": [],
   "source": []
  }
 ],
 "metadata": {
  "kernelspec": {
   "display_name": "Python 3 (ipykernel)",
   "language": "python",
   "name": "python3"
  },
  "language_info": {
   "codemirror_mode": {
    "name": "ipython",
    "version": 3
   },
   "file_extension": ".py",
   "mimetype": "text/x-python",
   "name": "python",
   "nbconvert_exporter": "python",
   "pygments_lexer": "ipython3",
   "version": "3.9.12"
  }
 },
 "nbformat": 4,
 "nbformat_minor": 5
}
